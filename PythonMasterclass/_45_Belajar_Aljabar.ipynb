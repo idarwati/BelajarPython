{
  "nbformat": 4,
  "nbformat_minor": 0,
  "metadata": {
    "colab": {
      "provenance": [],
      "authorship_tag": "ABX9TyOu90IfNiUaLZrxDjsla+xr",
      "include_colab_link": true
    },
    "kernelspec": {
      "name": "python3",
      "display_name": "Python 3"
    },
    "language_info": {
      "name": "python"
    }
  },
  "cells": [
    {
      "cell_type": "markdown",
      "metadata": {
        "id": "view-in-github",
        "colab_type": "text"
      },
      "source": [
        "<a href=\"https://colab.research.google.com/github/idarwati/BelajarPython/blob/main/PythonMasterclass/_45_Belajar_Aljabar.ipynb\" target=\"_parent\"><img src=\"https://colab.research.google.com/assets/colab-badge.svg\" alt=\"Open In Colab\"/></a>"
      ]
    },
    {
      "cell_type": "markdown",
      "source": [
        "# Aljabar"
      ],
      "metadata": {
        "id": "nFxDnNifByRo"
      }
    },
    {
      "cell_type": "code",
      "execution_count": null,
      "metadata": {
        "id": "d0O8lKh_BO6T"
      },
      "outputs": [],
      "source": [
        "# Library Sympy adalah library di Python khusus untuk matematika simbolis dan aljabar\n",
        "# Kita bisa memecahkan persoalan aljabar dengan mudah\n",
        "# Sangat mendukung La Tex"
      ]
    },
    {
      "cell_type": "code",
      "source": [
        "import sympy as sym"
      ],
      "metadata": {
        "id": "bl0iBm5_CE8n"
      },
      "execution_count": null,
      "outputs": []
    },
    {
      "cell_type": "code",
      "source": [
        "x = sym.symbols('x')"
      ],
      "metadata": {
        "id": "JIbdv9vGCMQj"
      },
      "execution_count": null,
      "outputs": []
    },
    {
      "cell_type": "code",
      "source": [
        "x"
      ],
      "metadata": {
        "colab": {
          "base_uri": "https://localhost:8080/",
          "height": 39
        },
        "id": "20ZoilUnCoWr",
        "outputId": "de7c8151-e250-4b6d-9749-b7ebbd7f5dff"
      },
      "execution_count": null,
      "outputs": [
        {
          "output_type": "execute_result",
          "data": {
            "text/plain": [
              "x"
            ],
            "text/latex": "$\\displaystyle x$"
          },
          "metadata": {},
          "execution_count": 4
        }
      ]
    },
    {
      "cell_type": "code",
      "source": [
        "x+10"
      ],
      "metadata": {
        "colab": {
          "base_uri": "https://localhost:8080/",
          "height": 39
        },
        "id": "JXAWnZw2Cqbe",
        "outputId": "c6f497c0-a2f4-4233-df4d-8cf333224bcb"
      },
      "execution_count": null,
      "outputs": [
        {
          "output_type": "execute_result",
          "data": {
            "text/plain": [
              "x + 10"
            ],
            "text/latex": "$\\displaystyle x + 10$"
          },
          "metadata": {},
          "execution_count": 5
        }
      ]
    },
    {
      "cell_type": "code",
      "source": [
        "x**2"
      ],
      "metadata": {
        "colab": {
          "base_uri": "https://localhost:8080/",
          "height": 39
        },
        "id": "Kj3WNRPgCtlU",
        "outputId": "91475ec1-0cf4-47af-eb90-285db819478c"
      },
      "execution_count": null,
      "outputs": [
        {
          "output_type": "execute_result",
          "data": {
            "text/plain": [
              "x**2"
            ],
            "text/latex": "$\\displaystyle x^{2}$"
          },
          "metadata": {},
          "execution_count": 6
        }
      ]
    },
    {
      "cell_type": "code",
      "source": [
        "y,z = sym.symbols('y,z')"
      ],
      "metadata": {
        "id": "Ol4i9PONCwnk"
      },
      "execution_count": null,
      "outputs": []
    },
    {
      "cell_type": "code",
      "source": [
        "x/y"
      ],
      "metadata": {
        "colab": {
          "base_uri": "https://localhost:8080/",
          "height": 51
        },
        "id": "xSitWwmEC4op",
        "outputId": "7b670ba7-f2cf-4ff3-de99-a8d7f09aed7d"
      },
      "execution_count": null,
      "outputs": [
        {
          "output_type": "execute_result",
          "data": {
            "text/plain": [
              "x/y"
            ],
            "text/latex": "$\\displaystyle \\frac{x}{y}$"
          },
          "metadata": {},
          "execution_count": 8
        }
      ]
    },
    {
      "cell_type": "code",
      "source": [
        "from IPython.display import Math"
      ],
      "metadata": {
        "id": "31UTH-kAC7jS"
      },
      "execution_count": null,
      "outputs": []
    },
    {
      "cell_type": "code",
      "source": [
        "display(Math('\\\\frac{x}{y}'))"
      ],
      "metadata": {
        "colab": {
          "base_uri": "https://localhost:8080/",
          "height": 51
        },
        "id": "ozgrIwRyDCtz",
        "outputId": "cf28fefc-88b9-41a9-841c-eef8a67a2c68"
      },
      "execution_count": null,
      "outputs": [
        {
          "output_type": "display_data",
          "data": {
            "text/plain": [
              "<IPython.core.display.Math object>"
            ],
            "text/latex": "$\\displaystyle \\frac{x}{y}$"
          },
          "metadata": {}
        }
      ]
    },
    {
      "cell_type": "code",
      "source": [
        "display(sym.sqrt(6))"
      ],
      "metadata": {
        "colab": {
          "base_uri": "https://localhost:8080/",
          "height": 39
        },
        "id": "pVQN5knGDIxS",
        "outputId": "177ef4ad-a519-4eaa-b538-30a1e9fe772f"
      },
      "execution_count": null,
      "outputs": [
        {
          "output_type": "display_data",
          "data": {
            "text/plain": [
              "sqrt(6)"
            ],
            "text/latex": "$\\displaystyle \\sqrt{6}$"
          },
          "metadata": {}
        }
      ]
    },
    {
      "cell_type": "code",
      "source": [
        "import numpy as np\n",
        "import math"
      ],
      "metadata": {
        "id": "D02dfCR6DQbd"
      },
      "execution_count": null,
      "outputs": []
    },
    {
      "cell_type": "code",
      "source": [
        "np.sqrt(6)"
      ],
      "metadata": {
        "colab": {
          "base_uri": "https://localhost:8080/"
        },
        "id": "CB3Bf9quDXdd",
        "outputId": "7469f103-cfa3-4a73-be54-349983ae7f63"
      },
      "execution_count": null,
      "outputs": [
        {
          "output_type": "execute_result",
          "data": {
            "text/plain": [
              "np.float64(2.449489742783178)"
            ]
          },
          "metadata": {},
          "execution_count": 15
        }
      ]
    },
    {
      "cell_type": "code",
      "source": [
        "math.sqrt(6)"
      ],
      "metadata": {
        "id": "08eQmeaLDZjP",
        "outputId": "1c8ada52-2dc5-48bb-d1c4-0207a363ce2c",
        "colab": {
          "base_uri": "https://localhost:8080/"
        }
      },
      "execution_count": null,
      "outputs": [
        {
          "output_type": "execute_result",
          "data": {
            "text/plain": [
              "2.449489742783178"
            ]
          },
          "metadata": {},
          "execution_count": 16
        }
      ]
    },
    {
      "cell_type": "code",
      "source": [],
      "metadata": {
        "id": "fEyp3hk-DdVg"
      },
      "execution_count": null,
      "outputs": []
    },
    {
      "cell_type": "markdown",
      "source": [
        "# Bagian Baru"
      ],
      "metadata": {
        "id": "3Qm3hOzJ-ozy"
      }
    },
    {
      "cell_type": "code",
      "source": [
        "import sympy as sym\n",
        "from IPython.display import Math"
      ],
      "metadata": {
        "id": "7_pHc1ey-p1n"
      },
      "execution_count": 1,
      "outputs": []
    },
    {
      "cell_type": "code",
      "source": [
        "display(Math('\\\\sigma = \\\\frac {\\\\mu}{\\\\sqrt{x+y}^{25z}}'))"
      ],
      "metadata": {
        "colab": {
          "base_uri": "https://localhost:8080/",
          "height": 55
        },
        "id": "bCn5RBr8-tU9",
        "outputId": "d70ede37-6d7c-41d9-94a2-7f0407409d8e"
      },
      "execution_count": 3,
      "outputs": [
        {
          "output_type": "display_data",
          "data": {
            "text/plain": [
              "<IPython.core.display.Math object>"
            ],
            "text/latex": "$\\displaystyle \\sigma = \\frac {\\mu}{\\sqrt{x+y}^{25z}}$"
          },
          "metadata": {}
        }
      ]
    },
    {
      "cell_type": "code",
      "source": [
        "display(Math('z_{k}'))"
      ],
      "metadata": {
        "colab": {
          "base_uri": "https://localhost:8080/",
          "height": 38
        },
        "id": "HLpaHNuU_GmI",
        "outputId": "9811878d-e5e8-4c0b-9211-875b223238d1"
      },
      "execution_count": 5,
      "outputs": [
        {
          "output_type": "display_data",
          "data": {
            "text/plain": [
              "<IPython.core.display.Math object>"
            ],
            "text/latex": "$\\displaystyle z_{k}$"
          },
          "metadata": {}
        }
      ]
    },
    {
      "cell_type": "code",
      "source": [
        "display(Math('Jawaban dari persamaan adalah = \\\\frac {x}{y^{15}}'))"
      ],
      "metadata": {
        "colab": {
          "base_uri": "https://localhost:8080/",
          "height": 51
        },
        "id": "Cj-Iz9M9_1AL",
        "outputId": "d7b8458b-815f-45c6-db21-5d973bd15821"
      },
      "execution_count": 6,
      "outputs": [
        {
          "output_type": "display_data",
          "data": {
            "text/plain": [
              "<IPython.core.display.Math object>"
            ],
            "text/latex": "$\\displaystyle Jawaban dari persamaan adalah = \\frac {x}{y^{15}}$"
          },
          "metadata": {}
        }
      ]
    },
    {
      "cell_type": "code",
      "source": [
        "display(Math('\\\\text{Jawaban dari persamaan adalah = }\\\\frac {x}{y^{15}}'))"
      ],
      "metadata": {
        "colab": {
          "base_uri": "https://localhost:8080/",
          "height": 51
        },
        "id": "lqqQKMMwAFE7",
        "outputId": "75acf8e2-bb8e-4478-fe31-32f3e144b535"
      },
      "execution_count": 7,
      "outputs": [
        {
          "output_type": "display_data",
          "data": {
            "text/plain": [
              "<IPython.core.display.Math object>"
            ],
            "text/latex": "$\\displaystyle \\text{Jawaban dari persamaan adalah = }\\frac {x}{y^{15}}$"
          },
          "metadata": {}
        }
      ]
    },
    {
      "cell_type": "code",
      "source": [
        "display(Math('\\\\sin{3\\\\pi + \\\\theta}'))"
      ],
      "metadata": {
        "colab": {
          "base_uri": "https://localhost:8080/",
          "height": 38
        },
        "id": "-3cixjmTAQAX",
        "outputId": "5102cd21-04f5-4e0b-cdc8-4e108e675bda"
      },
      "execution_count": 8,
      "outputs": [
        {
          "output_type": "display_data",
          "data": {
            "text/plain": [
              "<IPython.core.display.Math object>"
            ],
            "text/latex": "$\\displaystyle \\sin{3\\pi + \\theta}$"
          },
          "metadata": {}
        }
      ]
    },
    {
      "cell_type": "code",
      "source": [
        "display(Math('\\\\sin(3\\\\pi + \\\\theta)'))"
      ],
      "metadata": {
        "colab": {
          "base_uri": "https://localhost:8080/",
          "height": 38
        },
        "id": "pCjGZXvJAiat",
        "outputId": "9494f6c3-2166-4410-f7ef-dd1c27ab8514"
      },
      "execution_count": 9,
      "outputs": [
        {
          "output_type": "display_data",
          "data": {
            "text/plain": [
              "<IPython.core.display.Math object>"
            ],
            "text/latex": "$\\displaystyle \\sin(3\\pi + \\theta)$"
          },
          "metadata": {}
        }
      ]
    },
    {
      "cell_type": "code",
      "source": [
        "# e = mc kuadrat"
      ],
      "metadata": {
        "id": "XIie9cQvAn2x"
      },
      "execution_count": 10,
      "outputs": []
    },
    {
      "cell_type": "code",
      "source": [
        "display(Math('e = mc^2'))"
      ],
      "metadata": {
        "colab": {
          "base_uri": "https://localhost:8080/",
          "height": 38
        },
        "id": "2F_mK-pkArXb",
        "outputId": "e53d9962-2e59-49e0-f14b-08f66ba46c83"
      },
      "execution_count": 11,
      "outputs": [
        {
          "output_type": "display_data",
          "data": {
            "text/plain": [
              "<IPython.core.display.Math object>"
            ],
            "text/latex": "$\\displaystyle e = mc^2$"
          },
          "metadata": {}
        }
      ]
    },
    {
      "cell_type": "code",
      "source": [
        "mu, alpha, sigma = sym.symbols('mu, alpha, sigma')"
      ],
      "metadata": {
        "id": "NcnhVn7mAusB"
      },
      "execution_count": 12,
      "outputs": []
    },
    {
      "cell_type": "code",
      "source": [
        "p = mu + 2*45 + sym.exp(sigma+alpha)"
      ],
      "metadata": {
        "id": "3P8VYbTsBM_e"
      },
      "execution_count": 15,
      "outputs": []
    },
    {
      "cell_type": "code",
      "source": [
        "p"
      ],
      "metadata": {
        "colab": {
          "base_uri": "https://localhost:8080/",
          "height": 38
        },
        "id": "jz3oprrkBTcv",
        "outputId": "10cda285-6de6-4b51-c8d2-596138ddbd0f"
      },
      "execution_count": 16,
      "outputs": [
        {
          "output_type": "execute_result",
          "data": {
            "text/plain": [
              "mu + exp(alpha + sigma) + 90"
            ],
            "text/latex": "$\\displaystyle \\mu + e^{\\alpha + \\sigma} + 90$"
          },
          "metadata": {},
          "execution_count": 16
        }
      ]
    },
    {
      "cell_type": "code",
      "source": [
        "display(p)"
      ],
      "metadata": {
        "colab": {
          "base_uri": "https://localhost:8080/",
          "height": 38
        },
        "id": "QuEgNZgyBbvS",
        "outputId": "ec8a2136-9623-4eeb-8ddd-4bb3a9277f52"
      },
      "execution_count": 17,
      "outputs": [
        {
          "output_type": "display_data",
          "data": {
            "text/plain": [
              "mu + exp(alpha + sigma) + 90"
            ],
            "text/latex": "$\\displaystyle \\mu + e^{\\alpha + \\sigma} + 90$"
          },
          "metadata": {}
        }
      ]
    },
    {
      "cell_type": "code",
      "source": [
        "x, y, z = sym.symbols('x, y, z')"
      ],
      "metadata": {
        "id": "GJWMedaXBhXF"
      },
      "execution_count": 20,
      "outputs": []
    },
    {
      "cell_type": "code",
      "source": [
        "p = x + 10"
      ],
      "metadata": {
        "id": "hKxfJrAIBqqj"
      },
      "execution_count": 21,
      "outputs": []
    },
    {
      "cell_type": "code",
      "source": [
        "display(p)"
      ],
      "metadata": {
        "colab": {
          "base_uri": "https://localhost:8080/",
          "height": 38
        },
        "id": "qT4FH9RbBs7d",
        "outputId": "d7354aca-182f-4163-d346-97bbec845a6a"
      },
      "execution_count": 22,
      "outputs": [
        {
          "output_type": "display_data",
          "data": {
            "text/plain": [
              "x + 10"
            ],
            "text/latex": "$\\displaystyle x + 10$"
          },
          "metadata": {}
        }
      ]
    },
    {
      "cell_type": "code",
      "source": [
        "# memasukkan nilai x\n",
        "p.subs(x,2)"
      ],
      "metadata": {
        "colab": {
          "base_uri": "https://localhost:8080/",
          "height": 38
        },
        "id": "ihU5gjufBx2X",
        "outputId": "3c46710a-e9b9-4152-f806-13133c6e4c75"
      },
      "execution_count": 23,
      "outputs": [
        {
          "output_type": "execute_result",
          "data": {
            "text/plain": [
              "12"
            ],
            "text/latex": "$\\displaystyle 12$"
          },
          "metadata": {},
          "execution_count": 23
        }
      ]
    },
    {
      "cell_type": "code",
      "source": [
        "p = x + 10 + 4**y"
      ],
      "metadata": {
        "id": "sURUFPDxB1wQ"
      },
      "execution_count": 27,
      "outputs": []
    },
    {
      "cell_type": "code",
      "source": [
        "# memasukkan nilai x\n",
        "p.subs(x,10)"
      ],
      "metadata": {
        "colab": {
          "base_uri": "https://localhost:8080/",
          "height": 38
        },
        "id": "q2gz5N-yB5ng",
        "outputId": "b8147426-9d64-4b6b-d945-648e37648e90"
      },
      "execution_count": 28,
      "outputs": [
        {
          "output_type": "execute_result",
          "data": {
            "text/plain": [
              "4**y + 20"
            ],
            "text/latex": "$\\displaystyle 4^{y} + 20$"
          },
          "metadata": {},
          "execution_count": 28
        }
      ]
    },
    {
      "cell_type": "code",
      "source": [
        "# memasukkan nilai y\n",
        "p.subs(y,2)"
      ],
      "metadata": {
        "colab": {
          "base_uri": "https://localhost:8080/",
          "height": 38
        },
        "id": "K9yST3iHB8kV",
        "outputId": "bf13b587-30a1-4af6-cc7b-f4ad0dad36e3"
      },
      "execution_count": 29,
      "outputs": [
        {
          "output_type": "execute_result",
          "data": {
            "text/plain": [
              "x + 26"
            ],
            "text/latex": "$\\displaystyle x + 26$"
          },
          "metadata": {},
          "execution_count": 29
        }
      ]
    },
    {
      "cell_type": "code",
      "source": [
        "# memasukkan nilai x dan y, menggunakan dict\n",
        "p.subs({x:10, y:2})"
      ],
      "metadata": {
        "colab": {
          "base_uri": "https://localhost:8080/",
          "height": 38
        },
        "id": "TQ9xKFwNCLeX",
        "outputId": "c4a5b3f3-ce6d-4248-fbe8-9497d9110bb7"
      },
      "execution_count": 30,
      "outputs": [
        {
          "output_type": "execute_result",
          "data": {
            "text/plain": [
              "36"
            ],
            "text/latex": "$\\displaystyle 36$"
          },
          "metadata": {},
          "execution_count": 30
        }
      ]
    },
    {
      "cell_type": "code",
      "source": [],
      "metadata": {
        "id": "DJPIMQk3CeCq"
      },
      "execution_count": null,
      "outputs": []
    },
    {
      "cell_type": "markdown",
      "source": [
        "# Memecahkan Persoalan Aljabar"
      ],
      "metadata": {
        "id": "Z8RS__hqCyLo"
      }
    },
    {
      "cell_type": "code",
      "source": [
        "import sympy as sym\n",
        "from IPython.display import Math"
      ],
      "metadata": {
        "id": "HFWLGgbbC55H"
      },
      "execution_count": 32,
      "outputs": []
    },
    {
      "cell_type": "markdown",
      "source": [
        "Persoalan aljabar harus homogenus, artinya semua persoalan berada di sisi yang sama misalnya:\n",
        "*  5x + 5y - 20 = 0\n",
        "*  0 = - 5x - 5y + 20"
      ],
      "metadata": {
        "id": "0EcRUrA6Dsxa"
      }
    },
    {
      "cell_type": "code",
      "source": [
        "x = sym.symbols('x')"
      ],
      "metadata": {
        "id": "0I9PKRnYDEj9"
      },
      "execution_count": 36,
      "outputs": []
    },
    {
      "cell_type": "code",
      "source": [
        "p = 5*x + 5 - 20"
      ],
      "metadata": {
        "id": "OJvDmht5D9_B"
      },
      "execution_count": 38,
      "outputs": []
    },
    {
      "cell_type": "code",
      "source": [
        "sym.solve(p)"
      ],
      "metadata": {
        "colab": {
          "base_uri": "https://localhost:8080/"
        },
        "id": "2PG7QBwsEF1B",
        "outputId": "538b76e3-5e98-4d9d-e2b4-5321fa2db6e2"
      },
      "execution_count": 39,
      "outputs": [
        {
          "output_type": "execute_result",
          "data": {
            "text/plain": [
              "[3]"
            ]
          },
          "metadata": {},
          "execution_count": 39
        }
      ]
    },
    {
      "cell_type": "code",
      "source": [
        "display(Math('\\\\text{Solusi dari persamaan }%s \\\\text{ adalah x = }%g' %(sym.latex(p), sym.solve(p)[0])))\n",
        "# %s adalah string (persamaan yg sudah di berikan)\n",
        "# %(sym.latex(p)) berarti p = 5*x + 5 - 20 adalah sebuah persamaan latex p\n",
        "# sym.solve(p)[0] adalah solusi pertama (index 0) yang diberikan jika aljabar mempunyai banyak solusi"
      ],
      "metadata": {
        "colab": {
          "base_uri": "https://localhost:8080/",
          "height": 38
        },
        "id": "_-_g9KWkELkm",
        "outputId": "f12d0dde-73a5-4564-fd9a-589c5d8e20ab"
      },
      "execution_count": 40,
      "outputs": [
        {
          "output_type": "display_data",
          "data": {
            "text/plain": [
              "<IPython.core.display.Math object>"
            ],
            "text/latex": "$\\displaystyle \\text{Solusi dari persamaan }5 x - 15 \\text{ adalah x = }3$"
          },
          "metadata": {}
        }
      ]
    },
    {
      "cell_type": "code",
      "source": [
        "p2 = x**2 - 4"
      ],
      "metadata": {
        "id": "iUPznWkhEpXf"
      },
      "execution_count": 41,
      "outputs": []
    },
    {
      "cell_type": "code",
      "source": [
        "sym.solve(p2)\n",
        "# solusi untuk p2 ada 2 yaitu -2 dan 2."
      ],
      "metadata": {
        "colab": {
          "base_uri": "https://localhost:8080/"
        },
        "id": "R9C4Cv8sFcBp",
        "outputId": "d825ec7e-279f-4f97-9ae1-c045122f20cf"
      },
      "execution_count": 42,
      "outputs": [
        {
          "output_type": "execute_result",
          "data": {
            "text/plain": [
              "[-2, 2]"
            ]
          },
          "metadata": {},
          "execution_count": 42
        }
      ]
    },
    {
      "cell_type": "code",
      "source": [
        "jawab = sym.solve(p2)\n",
        "\n",
        "for i in range(0, len(jawab)):\n",
        "  print('Solusi #' + str(i+1) + ' adalah ' + str(jawab[i]))"
      ],
      "metadata": {
        "colab": {
          "base_uri": "https://localhost:8080/"
        },
        "id": "8DfhK22UFeCi",
        "outputId": "ca4a0233-0b4b-4089-b55b-d3a8aea1c8ca"
      },
      "execution_count": 43,
      "outputs": [
        {
          "output_type": "stream",
          "name": "stdout",
          "text": [
            "Solusi #1 adalah -2\n",
            "Solusi #2 adalah 2\n"
          ]
        }
      ]
    },
    {
      "cell_type": "code",
      "source": [
        "y = sym.symbols('y')"
      ],
      "metadata": {
        "id": "g0h6OYYeEBfk"
      },
      "execution_count": 44,
      "outputs": []
    },
    {
      "cell_type": "code",
      "source": [
        "p3 = x/10 - x*y + 50"
      ],
      "metadata": {
        "id": "SYl28CBRGXLq"
      },
      "execution_count": 47,
      "outputs": []
    },
    {
      "cell_type": "code",
      "source": [
        "sym.solve(p3, x)"
      ],
      "metadata": {
        "colab": {
          "base_uri": "https://localhost:8080/"
        },
        "id": "_UUqUWsVGl2P",
        "outputId": "28240cc5-a87b-4270-87f8-2c3eb900e4c7"
      },
      "execution_count": 48,
      "outputs": [
        {
          "output_type": "execute_result",
          "data": {
            "text/plain": [
              "[500/(10*y - 1)]"
            ]
          },
          "metadata": {},
          "execution_count": 48
        }
      ]
    },
    {
      "cell_type": "code",
      "source": [
        "sym.solve(p3, y)"
      ],
      "metadata": {
        "colab": {
          "base_uri": "https://localhost:8080/"
        },
        "id": "s-pC6XO_GbHQ",
        "outputId": "99fa5be5-bc95-47c6-ac17-b8565fb5f701"
      },
      "execution_count": 46,
      "outputs": [
        {
          "output_type": "execute_result",
          "data": {
            "text/plain": [
              "[(x + 500)/(10*x)]"
            ]
          },
          "metadata": {},
          "execution_count": 46
        }
      ]
    }
  ]
}