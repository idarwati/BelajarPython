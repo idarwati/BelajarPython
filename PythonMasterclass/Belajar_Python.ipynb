{
  "nbformat": 4,
  "nbformat_minor": 0,
  "metadata": {
    "colab": {
      "provenance": [],
      "authorship_tag": "ABX9TyP8Fqt0mwFkeBf8z+aOGtpP",
      "include_colab_link": true
    },
    "kernelspec": {
      "name": "python3",
      "display_name": "Python 3"
    },
    "language_info": {
      "name": "python"
    }
  },
  "cells": [
    {
      "cell_type": "markdown",
      "metadata": {
        "id": "view-in-github",
        "colab_type": "text"
      },
      "source": [
        "<a href=\"https://colab.research.google.com/github/idarwati/BelajarPython/blob/main/PythonMasterclass/Belajar_Python.ipynb\" target=\"_parent\"><img src=\"https://colab.research.google.com/assets/colab-badge.svg\" alt=\"Open In Colab\"/></a>"
      ]
    },
    {
      "cell_type": "markdown",
      "source": [
        "### **Python Masterclass Indonesia**\n",
        "materi 1-17"
      ],
      "metadata": {
        "id": "8WrWRQy3bHlk"
      }
    },
    {
      "cell_type": "code",
      "execution_count": null,
      "metadata": {
        "colab": {
          "base_uri": "https://localhost:8080/"
        },
        "id": "9PcUiwLwlh42",
        "outputId": "21be40e7-4463-47e1-d4b7-19590519aa2b"
      },
      "outputs": [
        {
          "output_type": "execute_result",
          "data": {
            "text/plain": [
              "6"
            ]
          },
          "metadata": {},
          "execution_count": 1
        }
      ],
      "source": [
        "2*3"
      ]
    },
    {
      "cell_type": "code",
      "source": [
        "bil1 = 3.6"
      ],
      "metadata": {
        "id": "C9kgIvgslm6p"
      },
      "execution_count": null,
      "outputs": []
    },
    {
      "cell_type": "code",
      "source": [
        "bil1"
      ],
      "metadata": {
        "colab": {
          "base_uri": "https://localhost:8080/"
        },
        "id": "1JH8kLTllr21",
        "outputId": "e83b8f6d-d385-4007-c563-98740cd1eb2d"
      },
      "execution_count": null,
      "outputs": [
        {
          "output_type": "execute_result",
          "data": {
            "text/plain": [
              "3.6"
            ]
          },
          "metadata": {},
          "execution_count": 7
        }
      ]
    },
    {
      "cell_type": "code",
      "source": [
        "type (bil1)"
      ],
      "metadata": {
        "colab": {
          "base_uri": "https://localhost:8080/"
        },
        "id": "ZBCYv0xflvJ2",
        "outputId": "12f54c2a-1673-4b8d-8ae8-c411c9b730a5"
      },
      "execution_count": null,
      "outputs": [
        {
          "output_type": "execute_result",
          "data": {
            "text/plain": [
              "float"
            ]
          },
          "metadata": {},
          "execution_count": 6
        }
      ]
    },
    {
      "cell_type": "code",
      "source": [
        "6/2"
      ],
      "metadata": {
        "colab": {
          "base_uri": "https://localhost:8080/"
        },
        "id": "ZzhGCnPCmAvs",
        "outputId": "34967fbe-91e7-4beb-f86e-7cf8bb71280b"
      },
      "execution_count": null,
      "outputs": [
        {
          "output_type": "execute_result",
          "data": {
            "text/plain": [
              "3.0"
            ]
          },
          "metadata": {},
          "execution_count": 8
        }
      ]
    },
    {
      "cell_type": "code",
      "source": [
        "type (6/2)"
      ],
      "metadata": {
        "colab": {
          "base_uri": "https://localhost:8080/"
        },
        "id": "rIY__QGCmGgw",
        "outputId": "4268b36b-e5e0-4879-fa81-734b6245d882"
      },
      "execution_count": null,
      "outputs": [
        {
          "output_type": "execute_result",
          "data": {
            "text/plain": [
              "float"
            ]
          },
          "metadata": {},
          "execution_count": 9
        }
      ]
    },
    {
      "cell_type": "code",
      "source": [
        "6%2"
      ],
      "metadata": {
        "colab": {
          "base_uri": "https://localhost:8080/"
        },
        "id": "4Oaj8r05mJhT",
        "outputId": "54906fa9-f0c7-43cb-a45d-fe071e3aef87"
      },
      "execution_count": null,
      "outputs": [
        {
          "output_type": "execute_result",
          "data": {
            "text/plain": [
              "0"
            ]
          },
          "metadata": {},
          "execution_count": 10
        }
      ]
    },
    {
      "cell_type": "code",
      "source": [
        "10%3"
      ],
      "metadata": {
        "colab": {
          "base_uri": "https://localhost:8080/"
        },
        "id": "HTVAj_-YmLh4",
        "outputId": "52ea1f97-030a-4086-c0ae-4f5d2dd53709"
      },
      "execution_count": null,
      "outputs": [
        {
          "output_type": "execute_result",
          "data": {
            "text/plain": [
              "1"
            ]
          },
          "metadata": {},
          "execution_count": 11
        }
      ]
    },
    {
      "cell_type": "code",
      "source": [
        "2**2"
      ],
      "metadata": {
        "colab": {
          "base_uri": "https://localhost:8080/"
        },
        "id": "cDeVj5o_mOg7",
        "outputId": "6e0d249a-9caa-4b08-d2bb-65b4b9e90657"
      },
      "execution_count": null,
      "outputs": [
        {
          "output_type": "execute_result",
          "data": {
            "text/plain": [
              "4"
            ]
          },
          "metadata": {},
          "execution_count": 12
        }
      ]
    },
    {
      "cell_type": "code",
      "source": [
        "2*2"
      ],
      "metadata": {
        "colab": {
          "base_uri": "https://localhost:8080/"
        },
        "id": "u5-aLh1AmRau",
        "outputId": "7ae5dcc6-0c26-46fc-87e4-0a7eb02f07ce"
      },
      "execution_count": null,
      "outputs": [
        {
          "output_type": "execute_result",
          "data": {
            "text/plain": [
              "4"
            ]
          },
          "metadata": {},
          "execution_count": 13
        }
      ]
    },
    {
      "cell_type": "code",
      "source": [
        "2 + 10 * 3 + 4 * 8 + 5"
      ],
      "metadata": {
        "colab": {
          "base_uri": "https://localhost:8080/"
        },
        "id": "B8fE0g01mZSZ",
        "outputId": "8984c70d-3a33-4bfb-de26-41f4f8e11e0b"
      },
      "execution_count": null,
      "outputs": [
        {
          "output_type": "execute_result",
          "data": {
            "text/plain": [
              "69"
            ]
          },
          "metadata": {},
          "execution_count": 17
        }
      ]
    },
    {
      "cell_type": "code",
      "source": [
        "(2 + 10) * (3 + 4) * (8 + 5)"
      ],
      "metadata": {
        "colab": {
          "base_uri": "https://localhost:8080/"
        },
        "id": "mNKaDLJDmp-x",
        "outputId": "56e933b9-cc2c-43b2-e85b-0e67af0c7bc4"
      },
      "execution_count": null,
      "outputs": [
        {
          "output_type": "execute_result",
          "data": {
            "text/plain": [
              "1092"
            ]
          },
          "metadata": {},
          "execution_count": 18
        }
      ]
    },
    {
      "cell_type": "code",
      "source": [
        "a = 3"
      ],
      "metadata": {
        "id": "ntgVF8VCm-Oh"
      },
      "execution_count": null,
      "outputs": []
    },
    {
      "cell_type": "code",
      "source": [
        "item_saya = 15"
      ],
      "metadata": {
        "id": "zXEMU97GnBxo"
      },
      "execution_count": null,
      "outputs": []
    },
    {
      "cell_type": "code",
      "source": [
        "item_saya = [\"ikan\", \"ayam\", \"bebek\"]"
      ],
      "metadata": {
        "id": "dZXt1hBsnHLS"
      },
      "execution_count": null,
      "outputs": []
    },
    {
      "cell_type": "code",
      "source": [
        "item_saya"
      ],
      "metadata": {
        "colab": {
          "base_uri": "https://localhost:8080/"
        },
        "id": "rf4fLTTTnTPI",
        "outputId": "8bd0b9fc-e91b-4d2b-f70c-cc738498463b"
      },
      "execution_count": null,
      "outputs": [
        {
          "output_type": "execute_result",
          "data": {
            "text/plain": [
              "['ikan', 'ayam', 'bebek']"
            ]
          },
          "metadata": {},
          "execution_count": 23
        }
      ]
    },
    {
      "cell_type": "code",
      "source": [
        "item_saya[2]"
      ],
      "metadata": {
        "colab": {
          "base_uri": "https://localhost:8080/",
          "height": 35
        },
        "id": "n9TnhXSvna-K",
        "outputId": "2514176d-651c-41ee-ed39-7ad8ccf6c1ab"
      },
      "execution_count": null,
      "outputs": [
        {
          "output_type": "execute_result",
          "data": {
            "text/plain": [
              "'bebek'"
            ],
            "application/vnd.google.colaboratory.intrinsic+json": {
              "type": "string"
            }
          },
          "metadata": {},
          "execution_count": 25
        }
      ]
    },
    {
      "cell_type": "code",
      "source": [
        "item_saya[0:2]"
      ],
      "metadata": {
        "colab": {
          "base_uri": "https://localhost:8080/"
        },
        "id": "SvBMkdjsngqa",
        "outputId": "017b208f-94d3-44cc-e576-c648adf1c67a"
      },
      "execution_count": null,
      "outputs": [
        {
          "output_type": "execute_result",
          "data": {
            "text/plain": [
              "['ikan', 'ayam']"
            ]
          },
          "metadata": {},
          "execution_count": 28
        }
      ]
    },
    {
      "cell_type": "code",
      "source": [
        "\"Makassar\""
      ],
      "metadata": {
        "colab": {
          "base_uri": "https://localhost:8080/",
          "height": 35
        },
        "id": "V60MjHsKofaY",
        "outputId": "8bb47d93-0dc1-4047-923a-ed4f621dd62d"
      },
      "execution_count": null,
      "outputs": [
        {
          "output_type": "execute_result",
          "data": {
            "text/plain": [
              "'Makassar'"
            ],
            "application/vnd.google.colaboratory.intrinsic+json": {
              "type": "string"
            }
          },
          "metadata": {},
          "execution_count": 29
        }
      ]
    },
    {
      "cell_type": "code",
      "source": [
        "\"Makassar\" [::-1]"
      ],
      "metadata": {
        "colab": {
          "base_uri": "https://localhost:8080/",
          "height": 35
        },
        "id": "6pu4TAO_oh-a",
        "outputId": "22cf7a1c-a049-448d-d31b-a6be3c8e4f33"
      },
      "execution_count": null,
      "outputs": [
        {
          "output_type": "execute_result",
          "data": {
            "text/plain": [
              "'rassakaM'"
            ],
            "application/vnd.google.colaboratory.intrinsic+json": {
              "type": "string"
            }
          },
          "metadata": {},
          "execution_count": 30
        }
      ]
    },
    {
      "cell_type": "code",
      "source": [
        "\"Makassar\" [1:-1:2]"
      ],
      "metadata": {
        "colab": {
          "base_uri": "https://localhost:8080/",
          "height": 35
        },
        "id": "33Xo6k41oteA",
        "outputId": "fde9d191-39e0-47b8-eb49-cc572846cdbc"
      },
      "execution_count": null,
      "outputs": [
        {
          "output_type": "execute_result",
          "data": {
            "text/plain": [
              "'aas'"
            ],
            "application/vnd.google.colaboratory.intrinsic+json": {
              "type": "string"
            }
          },
          "metadata": {},
          "execution_count": 31
        }
      ]
    },
    {
      "cell_type": "code",
      "source": [
        "item = [1, 2, 3, 4, 5, 6, 7, 8, 9, 10]"
      ],
      "metadata": {
        "id": "0fOWuVQJo5ZA"
      },
      "execution_count": null,
      "outputs": []
    },
    {
      "cell_type": "code",
      "source": [
        "item"
      ],
      "metadata": {
        "colab": {
          "base_uri": "https://localhost:8080/"
        },
        "id": "SxsnI4bJpDMO",
        "outputId": "57ddf911-c833-4768-fa1e-ec5edb8a4a72"
      },
      "execution_count": null,
      "outputs": [
        {
          "output_type": "execute_result",
          "data": {
            "text/plain": [
              "[1, 2, 3, 4, 5, 6, 7, 8, 9, 10]"
            ]
          },
          "metadata": {},
          "execution_count": 33
        }
      ]
    },
    {
      "cell_type": "code",
      "source": [
        "item[2::]"
      ],
      "metadata": {
        "colab": {
          "base_uri": "https://localhost:8080/"
        },
        "id": "uaTHUjC8pGZt",
        "outputId": "afb4a0d0-8d0c-4b7e-94ff-02486921e731"
      },
      "execution_count": null,
      "outputs": [
        {
          "output_type": "execute_result",
          "data": {
            "text/plain": [
              "[3, 4, 5, 6, 7, 8, 9, 10]"
            ]
          },
          "metadata": {},
          "execution_count": 34
        }
      ]
    },
    {
      "cell_type": "code",
      "source": [
        "item[1::3]"
      ],
      "metadata": {
        "colab": {
          "base_uri": "https://localhost:8080/"
        },
        "id": "wkAhSdIapMOF",
        "outputId": "2a7b96e1-f822-4f60-a5e4-7673c270ab47"
      },
      "execution_count": null,
      "outputs": [
        {
          "output_type": "execute_result",
          "data": {
            "text/plain": [
              "[2, 5, 8]"
            ]
          },
          "metadata": {},
          "execution_count": 35
        }
      ]
    },
    {
      "cell_type": "code",
      "source": [
        "nama = \"Idar\""
      ],
      "metadata": {
        "id": "B7XtPg_ovcx_"
      },
      "execution_count": null,
      "outputs": []
    },
    {
      "cell_type": "code",
      "source": [
        "nama*3"
      ],
      "metadata": {
        "colab": {
          "base_uri": "https://localhost:8080/",
          "height": 35
        },
        "id": "FYXTb8fuwneR",
        "outputId": "ad298056-7454-4e30-e354-20a9040d6638"
      },
      "execution_count": null,
      "outputs": [
        {
          "output_type": "execute_result",
          "data": {
            "text/plain": [
              "'IdarIdarIdar'"
            ],
            "application/vnd.google.colaboratory.intrinsic+json": {
              "type": "string"
            }
          },
          "metadata": {},
          "execution_count": 38
        }
      ]
    },
    {
      "cell_type": "code",
      "source": [
        "nama + \" M\""
      ],
      "metadata": {
        "colab": {
          "base_uri": "https://localhost:8080/",
          "height": 35
        },
        "id": "ckgihIukwsND",
        "outputId": "2f96050f-73db-4170-eb09-e1d0374075fa"
      },
      "execution_count": null,
      "outputs": [
        {
          "output_type": "execute_result",
          "data": {
            "text/plain": [
              "'Idar M'"
            ],
            "application/vnd.google.colaboratory.intrinsic+json": {
              "type": "string"
            }
          },
          "metadata": {},
          "execution_count": 40
        }
      ]
    },
    {
      "cell_type": "code",
      "source": [
        "nama + ' sedang belajar Python'"
      ],
      "metadata": {
        "colab": {
          "base_uri": "https://localhost:8080/",
          "height": 35
        },
        "id": "MtKcPe0yw6sv",
        "outputId": "92c508e2-085e-4571-f724-c1abf69a4b59"
      },
      "execution_count": null,
      "outputs": [
        {
          "output_type": "execute_result",
          "data": {
            "text/plain": [
              "'Idar sedang belajar Python'"
            ],
            "application/vnd.google.colaboratory.intrinsic+json": {
              "type": "string"
            }
          },
          "metadata": {},
          "execution_count": 42
        }
      ]
    },
    {
      "cell_type": "code",
      "source": [
        "nama.upper()"
      ],
      "metadata": {
        "colab": {
          "base_uri": "https://localhost:8080/",
          "height": 35
        },
        "id": "6UotFV8HxBjS",
        "outputId": "f0c76717-53b9-4b6b-e31c-e4bd07fbe0c4"
      },
      "execution_count": null,
      "outputs": [
        {
          "output_type": "execute_result",
          "data": {
            "text/plain": [
              "'IDAR'"
            ],
            "application/vnd.google.colaboratory.intrinsic+json": {
              "type": "string"
            }
          },
          "metadata": {},
          "execution_count": 43
        }
      ]
    },
    {
      "cell_type": "code",
      "source": [
        "nama = nama + \" sedang belajar python\""
      ],
      "metadata": {
        "id": "s6nhqVGlykGj"
      },
      "execution_count": null,
      "outputs": []
    },
    {
      "cell_type": "code",
      "source": [
        "nama"
      ],
      "metadata": {
        "colab": {
          "base_uri": "https://localhost:8080/",
          "height": 35
        },
        "id": "-98HYoySy33I",
        "outputId": "d6a48b45-f7ee-4919-9b21-ea0bcb047fac"
      },
      "execution_count": null,
      "outputs": [
        {
          "output_type": "execute_result",
          "data": {
            "text/plain": [
              "'Idar sedang belajar python'"
            ],
            "application/vnd.google.colaboratory.intrinsic+json": {
              "type": "string"
            }
          },
          "metadata": {},
          "execution_count": 45
        }
      ]
    },
    {
      "cell_type": "code",
      "source": [
        "nama.split()"
      ],
      "metadata": {
        "colab": {
          "base_uri": "https://localhost:8080/"
        },
        "id": "BjfDJQvDy5SR",
        "outputId": "1b7f1536-9496-422a-a8c4-e72ef7c36d07"
      },
      "execution_count": null,
      "outputs": [
        {
          "output_type": "execute_result",
          "data": {
            "text/plain": [
              "['Idar', 'sedang', 'belajar', 'python']"
            ]
          },
          "metadata": {},
          "execution_count": 47
        }
      ]
    },
    {
      "cell_type": "code",
      "source": [
        "nama.split('a')"
      ],
      "metadata": {
        "colab": {
          "base_uri": "https://localhost:8080/"
        },
        "id": "uX6Rqtwby8_G",
        "outputId": "adda2702-91c1-40ae-d406-ec5e5e3901ab"
      },
      "execution_count": null,
      "outputs": [
        {
          "output_type": "execute_result",
          "data": {
            "text/plain": [
              "['Id', 'r sed', 'ng bel', 'j', 'r python']"
            ]
          },
          "metadata": {},
          "execution_count": 50
        }
      ]
    },
    {
      "cell_type": "code",
      "source": [
        "nama2 = [1, 2, 3, 4, 5]"
      ],
      "metadata": {
        "id": "4yps63BVzmWF"
      },
      "execution_count": null,
      "outputs": []
    },
    {
      "cell_type": "code",
      "source": [
        "type(nama)"
      ],
      "metadata": {
        "colab": {
          "base_uri": "https://localhost:8080/"
        },
        "id": "05JVotQ7zsiW",
        "outputId": "9e90e2ee-bc8b-4605-87cc-7c51053bf813"
      },
      "execution_count": null,
      "outputs": [
        {
          "output_type": "execute_result",
          "data": {
            "text/plain": [
              "str"
            ]
          },
          "metadata": {},
          "execution_count": 52
        }
      ]
    },
    {
      "cell_type": "code",
      "source": [
        "type(nama2)"
      ],
      "metadata": {
        "colab": {
          "base_uri": "https://localhost:8080/"
        },
        "id": "r2W30OLtzu8H",
        "outputId": "364ea171-aa4e-49e7-82f2-e2c86fc093f6"
      },
      "execution_count": null,
      "outputs": [
        {
          "output_type": "execute_result",
          "data": {
            "text/plain": [
              "list"
            ]
          },
          "metadata": {},
          "execution_count": 53
        }
      ]
    },
    {
      "cell_type": "code",
      "source": [
        "print('Tingkat pendidikan dasar {} {} {}'.format(\"SD\", \"SMP\", \"SMA\"))"
      ],
      "metadata": {
        "colab": {
          "base_uri": "https://localhost:8080/"
        },
        "id": "4-w6qzqnz1MM",
        "outputId": "b3d42fd9-973e-4758-f49b-a9d88fae2992"
      },
      "execution_count": null,
      "outputs": [
        {
          "output_type": "stream",
          "name": "stdout",
          "text": [
            "Tingkat pendidikan dasar SD SMP SMA\n"
          ]
        }
      ]
    },
    {
      "cell_type": "code",
      "source": [
        "print('Tingkat pendidikan dasar {1} {2} {0}'.format(\"SD\", \"SMP\", \"SMA\"))"
      ],
      "metadata": {
        "colab": {
          "base_uri": "https://localhost:8080/"
        },
        "id": "glHo_rZ304tS",
        "outputId": "6c5db6c6-8bc6-4b6f-e9d3-2824fac09453"
      },
      "execution_count": null,
      "outputs": [
        {
          "output_type": "stream",
          "name": "stdout",
          "text": [
            "Tingkat pendidikan dasar SMP SMA SD\n"
          ]
        }
      ]
    },
    {
      "cell_type": "code",
      "source": [
        "print('Tingkat pendidikan dasar {c} {a} {b}'.format(a=\"SD\", b=\"SMP\", c=\"SMA\"))"
      ],
      "metadata": {
        "colab": {
          "base_uri": "https://localhost:8080/"
        },
        "id": "8wLojXQo1LpQ",
        "outputId": "ff33545c-cf27-4cbd-97d6-167f5226195d"
      },
      "execution_count": null,
      "outputs": [
        {
          "output_type": "stream",
          "name": "stdout",
          "text": [
            "Tingkat pendidikan dasar SMA SD SMP\n"
          ]
        }
      ]
    },
    {
      "cell_type": "code",
      "source": [
        "phi=22/7"
      ],
      "metadata": {
        "id": "_Z9pyg6q1kAI"
      },
      "execution_count": null,
      "outputs": []
    },
    {
      "cell_type": "code",
      "source": [
        "phi"
      ],
      "metadata": {
        "colab": {
          "base_uri": "https://localhost:8080/"
        },
        "id": "iX1Na9Q01p_n",
        "outputId": "77292d9f-352b-46b3-e3e2-cdaf82b3d370"
      },
      "execution_count": null,
      "outputs": [
        {
          "output_type": "execute_result",
          "data": {
            "text/plain": [
              "3.142857142857143"
            ]
          },
          "metadata": {},
          "execution_count": 61
        }
      ]
    },
    {
      "cell_type": "code",
      "source": [
        "print('Untuk menghitung luas lingkaran, gunakanlah phi = {}'.format(phi))"
      ],
      "metadata": {
        "colab": {
          "base_uri": "https://localhost:8080/"
        },
        "id": "oLvukLJn1rsO",
        "outputId": "638c94c2-78a8-4dcf-c0ed-4071ab500d07"
      },
      "execution_count": null,
      "outputs": [
        {
          "output_type": "stream",
          "name": "stdout",
          "text": [
            "Untuk menghitung luas lingkaran, gunakanlah phi = 3.142857142857143\n"
          ]
        }
      ]
    },
    {
      "cell_type": "code",
      "source": [
        "luas1=667.9"
      ],
      "metadata": {
        "id": "QXmPIP4i2HtQ"
      },
      "execution_count": null,
      "outputs": []
    },
    {
      "cell_type": "code",
      "source": [
        "luas2=998.7"
      ],
      "metadata": {
        "id": "fejJaqy12LUm"
      },
      "execution_count": null,
      "outputs": []
    },
    {
      "cell_type": "code",
      "source": [
        "print('Luas tanah yang dimiliki Pak Budi adalah {a} {b}'.format(a=luas1, b=luas2))"
      ],
      "metadata": {
        "colab": {
          "base_uri": "https://localhost:8080/"
        },
        "id": "o_penV3H2PzM",
        "outputId": "3d8bacad-f5a6-4622-e2f3-d44be1ecd9b4"
      },
      "execution_count": null,
      "outputs": [
        {
          "output_type": "stream",
          "name": "stdout",
          "text": [
            "Luas tanah yang dimiliki Pak Budi adalah 667.9 998.7\n"
          ]
        }
      ]
    },
    {
      "cell_type": "code",
      "source": [
        "keranjang = [1, 2.3, 'jeruk']"
      ],
      "metadata": {
        "id": "yFDi_NrS3R6h"
      },
      "execution_count": null,
      "outputs": []
    },
    {
      "cell_type": "code",
      "source": [
        "len(keranjang)"
      ],
      "metadata": {
        "colab": {
          "base_uri": "https://localhost:8080/"
        },
        "id": "C3q5xkGdKe8c",
        "outputId": "b4a7f91d-299e-464f-a02b-475335967818"
      },
      "execution_count": null,
      "outputs": [
        {
          "output_type": "execute_result",
          "data": {
            "text/plain": [
              "3"
            ]
          },
          "metadata": {},
          "execution_count": 2
        }
      ]
    },
    {
      "cell_type": "code",
      "source": [
        "for i in range(len(keranjang)):\n",
        "    print(keranjang[i])"
      ],
      "metadata": {
        "colab": {
          "base_uri": "https://localhost:8080/"
        },
        "id": "gxdcrad7KkCC",
        "outputId": "04c3f028-1485-4324-8d4c-1796e21aaec9"
      },
      "execution_count": null,
      "outputs": [
        {
          "output_type": "stream",
          "name": "stdout",
          "text": [
            "1\n",
            "2.3\n",
            "jeruk\n"
          ]
        }
      ]
    },
    {
      "cell_type": "code",
      "source": [
        "keranjang[1] = 'mangga'"
      ],
      "metadata": {
        "id": "VnvcrmpULEi2"
      },
      "execution_count": null,
      "outputs": []
    },
    {
      "cell_type": "code",
      "source": [
        "keranjang"
      ],
      "metadata": {
        "colab": {
          "base_uri": "https://localhost:8080/"
        },
        "id": "cI3jk6yyLczI",
        "outputId": "27454e79-ad54-4466-ad67-8ba7ebf2ea4c"
      },
      "execution_count": null,
      "outputs": [
        {
          "output_type": "execute_result",
          "data": {
            "text/plain": [
              "[1, 'mangga', 'jeruk']"
            ]
          },
          "metadata": {},
          "execution_count": 6
        }
      ]
    },
    {
      "cell_type": "code",
      "source": [
        "keranjang.append('pisang')"
      ],
      "metadata": {
        "id": "-5K7Qp11NN3U"
      },
      "execution_count": null,
      "outputs": []
    },
    {
      "cell_type": "code",
      "source": [
        "keranjang"
      ],
      "metadata": {
        "colab": {
          "base_uri": "https://localhost:8080/"
        },
        "id": "prDVqUL8Nc_o",
        "outputId": "0a6c48d1-a747-4211-b5cf-5a0f7e60a6cd"
      },
      "execution_count": null,
      "outputs": [
        {
          "output_type": "execute_result",
          "data": {
            "text/plain": [
              "[1, 'mangga', 'jeruk', 'pisang']"
            ]
          },
          "metadata": {},
          "execution_count": 9
        }
      ]
    },
    {
      "cell_type": "code",
      "source": [
        "buah_lagi = ['anggur', 'nanas', 'jeruk bali', 'apel washington']"
      ],
      "metadata": {
        "id": "GEsXo2wgNfQb"
      },
      "execution_count": null,
      "outputs": []
    },
    {
      "cell_type": "code",
      "source": [
        "keranjang = keranjang + buah_lagi"
      ],
      "metadata": {
        "id": "dMgH_DSANwOp"
      },
      "execution_count": null,
      "outputs": []
    },
    {
      "cell_type": "code",
      "source": [
        "keranjang"
      ],
      "metadata": {
        "colab": {
          "base_uri": "https://localhost:8080/"
        },
        "id": "XMq5EuelN1gc",
        "outputId": "fa0aa675-2ef2-43e4-fb9b-988652a6e1f9"
      },
      "execution_count": null,
      "outputs": [
        {
          "output_type": "execute_result",
          "data": {
            "text/plain": [
              "[1,\n",
              " 'mangga',\n",
              " 'jeruk',\n",
              " 'pisang',\n",
              " 'anggur',\n",
              " 'nanas',\n",
              " 'jeruk baliapel washington',\n",
              " ['anggur', 'nanas', 'jeruk baliapel washington'],\n",
              " 'anggur',\n",
              " 'nanas',\n",
              " 'jeruk bali',\n",
              " 'apel washington',\n",
              " 'anggur',\n",
              " 'nanas',\n",
              " 'jeruk bali',\n",
              " 'apel washington']"
            ]
          },
          "metadata": {},
          "execution_count": 21
        }
      ]
    },
    {
      "cell_type": "code",
      "source": [
        "len(keranjang)"
      ],
      "metadata": {
        "colab": {
          "base_uri": "https://localhost:8080/"
        },
        "id": "L2n36AO3N4D7",
        "outputId": "77427326-9f4f-46ad-d8c0-b26b83396c49"
      },
      "execution_count": null,
      "outputs": [
        {
          "output_type": "execute_result",
          "data": {
            "text/plain": [
              "17"
            ]
          },
          "metadata": {},
          "execution_count": 23
        }
      ]
    },
    {
      "cell_type": "code",
      "source": [
        "keranjang.append(buah_lagi)"
      ],
      "metadata": {
        "id": "yIYNu56YOZYq"
      },
      "execution_count": null,
      "outputs": []
    },
    {
      "cell_type": "code",
      "source": [
        "keranjang"
      ],
      "metadata": {
        "colab": {
          "base_uri": "https://localhost:8080/"
        },
        "id": "GCwjPctvOhAB",
        "outputId": "862b8224-cb47-4b53-85eb-6e954af514e9"
      },
      "execution_count": null,
      "outputs": [
        {
          "output_type": "execute_result",
          "data": {
            "text/plain": [
              "[1,\n",
              " 'mangga',\n",
              " 'jeruk',\n",
              " 'pisang',\n",
              " 'anggur',\n",
              " 'nanas',\n",
              " 'jeruk baliapel washington',\n",
              " ['anggur', 'nanas', 'jeruk baliapel washington']]"
            ]
          },
          "metadata": {},
          "execution_count": 16
        }
      ]
    },
    {
      "cell_type": "code",
      "source": [
        "baru = [1, 2, 3, 4, 5, 6]"
      ],
      "metadata": {
        "id": "ilurcDBMO0Lq"
      },
      "execution_count": null,
      "outputs": []
    },
    {
      "cell_type": "code",
      "source": [
        "baru"
      ],
      "metadata": {
        "colab": {
          "base_uri": "https://localhost:8080/"
        },
        "id": "bF4XGli0O7qN",
        "outputId": "86185516-0042-44f8-97ac-87c4bafb7db4"
      },
      "execution_count": null,
      "outputs": [
        {
          "output_type": "execute_result",
          "data": {
            "text/plain": [
              "[1, 2, 3, 4]"
            ]
          },
          "metadata": {},
          "execution_count": 33
        }
      ]
    },
    {
      "cell_type": "code",
      "source": [
        "baru.pop()"
      ],
      "metadata": {
        "colab": {
          "base_uri": "https://localhost:8080/"
        },
        "id": "SKqewzFSPBCs",
        "outputId": "e461a845-f9b6-496d-ca3b-971286666e60"
      },
      "execution_count": null,
      "outputs": [
        {
          "output_type": "execute_result",
          "data": {
            "text/plain": [
              "6"
            ]
          },
          "metadata": {},
          "execution_count": 26
        }
      ]
    },
    {
      "cell_type": "code",
      "source": [
        "baru.pop(1)"
      ],
      "metadata": {
        "colab": {
          "base_uri": "https://localhost:8080/"
        },
        "id": "ZyuTkDVLPpsU",
        "outputId": "f66fcab4-ff25-4bed-c712-48ecb3d93abd"
      },
      "execution_count": null,
      "outputs": [
        {
          "output_type": "execute_result",
          "data": {
            "text/plain": [
              "2"
            ]
          },
          "metadata": {},
          "execution_count": 34
        }
      ]
    },
    {
      "cell_type": "code",
      "source": [
        "baru"
      ],
      "metadata": {
        "colab": {
          "base_uri": "https://localhost:8080/"
        },
        "id": "Ap6_lFEQPDTg",
        "outputId": "3d8b4fd0-d787-4f3a-ed99-217c2a77d577"
      },
      "execution_count": null,
      "outputs": [
        {
          "output_type": "execute_result",
          "data": {
            "text/plain": [
              "[1, 3, 4]"
            ]
          },
          "metadata": {},
          "execution_count": 35
        }
      ]
    },
    {
      "cell_type": "code",
      "source": [
        "baru_lagi = baru.pop()"
      ],
      "metadata": {
        "id": "bSniGl5WPSGS"
      },
      "execution_count": null,
      "outputs": []
    },
    {
      "cell_type": "code",
      "source": [
        "baru_lagi"
      ],
      "metadata": {
        "colab": {
          "base_uri": "https://localhost:8080/"
        },
        "id": "YgClCM2wPcI3",
        "outputId": "212bb901-343e-4c84-9339-13e11fe6d2ae"
      },
      "execution_count": null,
      "outputs": [
        {
          "output_type": "execute_result",
          "data": {
            "text/plain": [
              "4"
            ]
          },
          "metadata": {},
          "execution_count": 37
        }
      ]
    },
    {
      "cell_type": "code",
      "source": [
        "baru"
      ],
      "metadata": {
        "colab": {
          "base_uri": "https://localhost:8080/"
        },
        "id": "0YiY_LEnPiyt",
        "outputId": "e41ec15f-7517-4184-9668-7eb6e4a2c283"
      },
      "execution_count": null,
      "outputs": [
        {
          "output_type": "execute_result",
          "data": {
            "text/plain": [
              "[1, 3]"
            ]
          },
          "metadata": {},
          "execution_count": 38
        }
      ]
    },
    {
      "cell_type": "code",
      "source": [
        "isi = [1, 2, 3, 4, 5,[6,7,8]]"
      ],
      "metadata": {
        "id": "9m7ay3fHQbbu"
      },
      "execution_count": null,
      "outputs": []
    },
    {
      "cell_type": "code",
      "source": [
        "isi"
      ],
      "metadata": {
        "colab": {
          "base_uri": "https://localhost:8080/"
        },
        "id": "ndYRLYZHQnXc",
        "outputId": "e2aacef1-233d-459c-8e8c-ae67fd4da13b"
      },
      "execution_count": null,
      "outputs": [
        {
          "output_type": "execute_result",
          "data": {
            "text/plain": [
              "[1, 2, 3, 4, 5, [6, 7, 8]]"
            ]
          },
          "metadata": {},
          "execution_count": 40
        }
      ]
    },
    {
      "cell_type": "code",
      "source": [
        "isi[2]"
      ],
      "metadata": {
        "colab": {
          "base_uri": "https://localhost:8080/"
        },
        "id": "4ViGxhnXQpuH",
        "outputId": "77fdd9c4-00f7-49b5-9755-86af5504f742"
      },
      "execution_count": null,
      "outputs": [
        {
          "output_type": "execute_result",
          "data": {
            "text/plain": [
              "3"
            ]
          },
          "metadata": {},
          "execution_count": 41
        }
      ]
    },
    {
      "cell_type": "code",
      "source": [
        "isi[2:]"
      ],
      "metadata": {
        "colab": {
          "base_uri": "https://localhost:8080/"
        },
        "id": "1Y3h5N60QsOU",
        "outputId": "d3fc0c91-e598-4492-bb3b-2478057c96db"
      },
      "execution_count": null,
      "outputs": [
        {
          "output_type": "execute_result",
          "data": {
            "text/plain": [
              "[3, 4, 5, [6, 7, 8]]"
            ]
          },
          "metadata": {},
          "execution_count": 42
        }
      ]
    },
    {
      "cell_type": "code",
      "source": [
        "for i in 'saya belajar python':\n",
        "    print(i)"
      ],
      "metadata": {
        "id": "oiwI80xbSeHJ",
        "colab": {
          "base_uri": "https://localhost:8080/"
        },
        "outputId": "ddc625f1-8e2a-4efd-c94a-d5403fdfc693"
      },
      "execution_count": null,
      "outputs": [
        {
          "output_type": "stream",
          "name": "stdout",
          "text": [
            "s\n",
            "a\n",
            "y\n",
            "a\n",
            " \n",
            "b\n",
            "e\n",
            "l\n",
            "a\n",
            "j\n",
            "a\n",
            "r\n",
            " \n",
            "p\n",
            "y\n",
            "t\n",
            "h\n",
            "o\n",
            "n\n"
          ]
        }
      ]
    },
    {
      "cell_type": "code",
      "source": [
        "for i in 'saya belajar python':\n",
        "    print(i, end='')"
      ],
      "metadata": {
        "colab": {
          "base_uri": "https://localhost:8080/"
        },
        "id": "P-mRf3Rzc6Jf",
        "outputId": "819f93a0-b940-483c-b043-68d195df1692"
      },
      "execution_count": null,
      "outputs": [
        {
          "output_type": "stream",
          "name": "stdout",
          "text": [
            "saya belajar python"
          ]
        }
      ]
    },
    {
      "cell_type": "code",
      "source": [
        "angka = [1,2,3,4,5,6,7,8,9,10]"
      ],
      "metadata": {
        "id": "UJXBItnBdOhl"
      },
      "execution_count": null,
      "outputs": []
    },
    {
      "cell_type": "code",
      "source": [
        "for isi in angka:\n",
        "    print(isi)"
      ],
      "metadata": {
        "colab": {
          "base_uri": "https://localhost:8080/"
        },
        "id": "vcmje9t8dUZf",
        "outputId": "758f3245-40b8-4774-91bd-c1a45c61d526"
      },
      "execution_count": null,
      "outputs": [
        {
          "output_type": "stream",
          "name": "stdout",
          "text": [
            "1\n",
            "2\n",
            "3\n",
            "4\n",
            "5\n",
            "6\n",
            "7\n",
            "8\n",
            "9\n",
            "10\n"
          ]
        }
      ]
    },
    {
      "cell_type": "code",
      "source": [
        "jumlah = 0"
      ],
      "metadata": {
        "id": "qQleYDnWdZzr"
      },
      "execution_count": null,
      "outputs": []
    },
    {
      "cell_type": "code",
      "source": [
        "for isi in angka:\n",
        "    jumlah = jumlah + isi\n",
        "    print(jumlah)"
      ],
      "metadata": {
        "colab": {
          "base_uri": "https://localhost:8080/"
        },
        "id": "iAOr4in3dnfZ",
        "outputId": "9992ce65-d048-47b4-fd77-21d51771ad32"
      },
      "execution_count": null,
      "outputs": [
        {
          "output_type": "stream",
          "name": "stdout",
          "text": [
            "1\n",
            "3\n",
            "6\n",
            "10\n",
            "15\n",
            "21\n",
            "28\n",
            "36\n",
            "45\n",
            "55\n"
          ]
        }
      ]
    },
    {
      "cell_type": "code",
      "source": [
        "for isi in angka:\n",
        "    jumlah = jumlah + isi\n",
        "    print('Hasil penjumlahan pada iterator ke-{} adalah {}'.format(isi, jumlah))"
      ],
      "metadata": {
        "colab": {
          "base_uri": "https://localhost:8080/"
        },
        "id": "p9niB0xQdslZ",
        "outputId": "1c0f2d0a-48af-4a2e-99c9-0fd7de679f7f"
      },
      "execution_count": null,
      "outputs": [
        {
          "output_type": "stream",
          "name": "stdout",
          "text": [
            "Hasil penjumlahan pada iterator ke-1 adalah 56\n",
            "Hasil penjumlahan pada iterator ke-2 adalah 58\n",
            "Hasil penjumlahan pada iterator ke-3 adalah 61\n",
            "Hasil penjumlahan pada iterator ke-4 adalah 65\n",
            "Hasil penjumlahan pada iterator ke-5 adalah 70\n",
            "Hasil penjumlahan pada iterator ke-6 adalah 76\n",
            "Hasil penjumlahan pada iterator ke-7 adalah 83\n",
            "Hasil penjumlahan pada iterator ke-8 adalah 91\n",
            "Hasil penjumlahan pada iterator ke-9 adalah 100\n",
            "Hasil penjumlahan pada iterator ke-10 adalah 110\n"
          ]
        }
      ]
    },
    {
      "cell_type": "code",
      "source": [
        "for isi in angka:\n",
        "    jumlah = jumlah + isi\n",
        "print('Hasil penjumlahan adalah', jumlah)"
      ],
      "metadata": {
        "colab": {
          "base_uri": "https://localhost:8080/"
        },
        "id": "xkWwFopzd-fK",
        "outputId": "bdb579df-da38-4815-b6de-a323933a24d1"
      },
      "execution_count": null,
      "outputs": [
        {
          "output_type": "stream",
          "name": "stdout",
          "text": [
            "Hasil penjumlahan adalah 165\n"
          ]
        }
      ]
    },
    {
      "cell_type": "code",
      "source": [
        "for item in 'saya belajar python':\n",
        "    if (item== 'a'):\n",
        "      print('hey kamu berada di huruf A, selamat!')"
      ],
      "metadata": {
        "colab": {
          "base_uri": "https://localhost:8080/"
        },
        "id": "Giwwg9NOeVPp",
        "outputId": "b43e55a1-9442-458f-b6c9-35723ceffa6f"
      },
      "execution_count": null,
      "outputs": [
        {
          "output_type": "stream",
          "name": "stdout",
          "text": [
            "hey kamu berada di huruf A, selamat!\n",
            "hey kamu berada di huruf A, selamat!\n",
            "hey kamu berada di huruf A, selamat!\n",
            "hey kamu berada di huruf A, selamat!\n"
          ]
        }
      ]
    },
    {
      "cell_type": "code",
      "source": [
        "jumlah = 0\n",
        "for item in 'saya belajar python':\n",
        "    jumlah += 1\n",
        "    if (item== 'a'):\n",
        "      print('hey kamu berada di huruf A, selamat!', jumlah)"
      ],
      "metadata": {
        "colab": {
          "base_uri": "https://localhost:8080/"
        },
        "id": "I0uoSMsYetLJ",
        "outputId": "8129fb3d-7617-4b06-9ef7-63073d96edc3"
      },
      "execution_count": null,
      "outputs": [
        {
          "output_type": "stream",
          "name": "stdout",
          "text": [
            "hey kamu berada di huruf A, selamat! 2\n",
            "hey kamu berada di huruf A, selamat! 4\n",
            "hey kamu berada di huruf A, selamat! 9\n",
            "hey kamu berada di huruf A, selamat! 11\n"
          ]
        }
      ]
    },
    {
      "cell_type": "code",
      "source": [
        "angka = [1,2,3,4,5,6,7,8,9,10]"
      ],
      "metadata": {
        "id": "4Gb3-P2tfEPo"
      },
      "execution_count": null,
      "outputs": []
    },
    {
      "cell_type": "code",
      "source": [
        "for item in angka:\n",
        "    if (item % 2 == 0):\n",
        "        print('{} adalah bilangan genap'.format(item))\n",
        "    else:\n",
        "        print('{} adalah bilangan ganjil'.format(item))"
      ],
      "metadata": {
        "colab": {
          "base_uri": "https://localhost:8080/"
        },
        "id": "8YH97xl-fLaI",
        "outputId": "62d341cd-0c39-4796-cf73-d017ba68f400"
      },
      "execution_count": null,
      "outputs": [
        {
          "output_type": "stream",
          "name": "stdout",
          "text": [
            "1 adalah bilangan ganjil\n",
            "2 adalah bilangan genap\n",
            "3 adalah bilangan ganjil\n",
            "4 adalah bilangan genap\n",
            "5 adalah bilangan ganjil\n",
            "6 adalah bilangan genap\n",
            "7 adalah bilangan ganjil\n",
            "8 adalah bilangan genap\n",
            "9 adalah bilangan ganjil\n",
            "10 adalah bilangan genap\n"
          ]
        }
      ]
    },
    {
      "cell_type": "code",
      "source": [
        "for item in angka:\n",
        "    if (item % 2 == 0):\n",
        "        print('Angka',item, 'adalah bilangan genap')\n",
        "    else:\n",
        "        print('Angka '+str(item)+' adalah bilangan ganjil')"
      ],
      "metadata": {
        "colab": {
          "base_uri": "https://localhost:8080/"
        },
        "id": "WkHuIeZgfWyy",
        "outputId": "3570e9be-1500-4f17-d983-315155b6b864"
      },
      "execution_count": null,
      "outputs": [
        {
          "output_type": "stream",
          "name": "stdout",
          "text": [
            "Angka 1 adalah bilangan ganjil\n",
            "Angka 2 adalah bilangan genap\n",
            "Angka 3 adalah bilangan ganjil\n",
            "Angka 4 adalah bilangan genap\n",
            "Angka 5 adalah bilangan ganjil\n",
            "Angka 6 adalah bilangan genap\n",
            "Angka 7 adalah bilangan ganjil\n",
            "Angka 8 adalah bilangan genap\n",
            "Angka 9 adalah bilangan ganjil\n",
            "Angka 10 adalah bilangan genap\n"
          ]
        }
      ]
    },
    {
      "cell_type": "code",
      "source": [
        "box1 = ((1,2),(3,4),(5,6))"
      ],
      "metadata": {
        "id": "XVTZUyFagN-e"
      },
      "execution_count": null,
      "outputs": []
    },
    {
      "cell_type": "code",
      "source": [
        "for item in box1:\n",
        "    print(item)"
      ],
      "metadata": {
        "colab": {
          "base_uri": "https://localhost:8080/"
        },
        "id": "fNB9KiHAgf5c",
        "outputId": "21077f52-dae1-4fb5-d0bd-604e4e2f1975"
      },
      "execution_count": null,
      "outputs": [
        {
          "output_type": "stream",
          "name": "stdout",
          "text": [
            "(1, 2)\n",
            "(3, 4)\n",
            "(5, 6)\n"
          ]
        }
      ]
    },
    {
      "cell_type": "code",
      "source": [
        "for a,b in box1:\n",
        "    print(a,b)"
      ],
      "metadata": {
        "colab": {
          "base_uri": "https://localhost:8080/"
        },
        "id": "NQLtNl5mgh6F",
        "outputId": "e4ab9236-8b70-4f57-8118-107bb3fa195c"
      },
      "execution_count": null,
      "outputs": [
        {
          "output_type": "stream",
          "name": "stdout",
          "text": [
            "1 2\n",
            "3 4\n",
            "5 6\n"
          ]
        }
      ]
    },
    {
      "cell_type": "code",
      "source": [
        "for a,b in box1:\n",
        "    print(a)\n",
        "    print(b)"
      ],
      "metadata": {
        "colab": {
          "base_uri": "https://localhost:8080/"
        },
        "id": "IWIcDKurgvkH",
        "outputId": "206297ac-177c-429f-fa15-80e68784ac37"
      },
      "execution_count": null,
      "outputs": [
        {
          "output_type": "stream",
          "name": "stdout",
          "text": [
            "1\n",
            "2\n",
            "3\n",
            "4\n",
            "5\n",
            "6\n"
          ]
        }
      ]
    },
    {
      "cell_type": "code",
      "source": [
        "box2 = [[1,2],[3,4],[5,6]]"
      ],
      "metadata": {
        "id": "zEKI8widg0uh"
      },
      "execution_count": null,
      "outputs": []
    },
    {
      "cell_type": "code",
      "source": [
        "for a,b in box2:\n",
        "    print(a)\n",
        "    print(b)"
      ],
      "metadata": {
        "colab": {
          "base_uri": "https://localhost:8080/"
        },
        "id": "bUqEIhKUhBu8",
        "outputId": "518e0559-b4d7-4528-ab05-cdac1380bf2f"
      },
      "execution_count": null,
      "outputs": [
        {
          "output_type": "stream",
          "name": "stdout",
          "text": [
            "1\n",
            "2\n",
            "3\n",
            "4\n",
            "5\n",
            "6\n"
          ]
        }
      ]
    },
    {
      "cell_type": "code",
      "source": [
        "box3 = [[1,2,'a'],[3,4,'b'],[5,6,'c']]"
      ],
      "metadata": {
        "id": "IYv2-J2ihLtW"
      },
      "execution_count": null,
      "outputs": []
    },
    {
      "cell_type": "code",
      "source": [
        "for i,j,k in box3:\n",
        "  print(k)"
      ],
      "metadata": {
        "colab": {
          "base_uri": "https://localhost:8080/"
        },
        "id": "Peyey1xFhV6i",
        "outputId": "3e9a7049-0b5f-4ffb-e835-9d8018bbfa1e"
      },
      "execution_count": null,
      "outputs": [
        {
          "output_type": "stream",
          "name": "stdout",
          "text": [
            "a\n",
            "b\n",
            "c\n"
          ]
        }
      ]
    },
    {
      "cell_type": "code",
      "source": [
        "indeks = 0\n",
        "while True:\n",
        "    print('saya berhasil menjalankan while loop')\n",
        "    indeks += 1\n",
        "    if indeks == 10:\n",
        "      break"
      ],
      "metadata": {
        "colab": {
          "base_uri": "https://localhost:8080/"
        },
        "id": "yJ7-VKye83an",
        "outputId": "31559b51-0872-40c7-b024-5179f163abe1"
      },
      "execution_count": null,
      "outputs": [
        {
          "output_type": "stream",
          "name": "stdout",
          "text": [
            "saya berhasil menjalankan while loop\n",
            "saya berhasil menjalankan while loop\n",
            "saya berhasil menjalankan while loop\n",
            "saya berhasil menjalankan while loop\n",
            "saya berhasil menjalankan while loop\n",
            "saya berhasil menjalankan while loop\n",
            "saya berhasil menjalankan while loop\n",
            "saya berhasil menjalankan while loop\n",
            "saya berhasil menjalankan while loop\n",
            "saya berhasil menjalankan while loop\n"
          ]
        }
      ]
    },
    {
      "cell_type": "code",
      "source": [
        "x = 0"
      ],
      "metadata": {
        "id": "8BzC-JtX9MXm"
      },
      "execution_count": null,
      "outputs": []
    },
    {
      "cell_type": "code",
      "source": [
        "while x < 50:\n",
        "    print('Bilangan x saat ini adalah: ',x)\n",
        "    x += 2"
      ],
      "metadata": {
        "colab": {
          "base_uri": "https://localhost:8080/"
        },
        "id": "tKl1tmcK9XMi",
        "outputId": "0650943a-1ef8-4bb3-83ac-4038a8205d99"
      },
      "execution_count": null,
      "outputs": [
        {
          "output_type": "stream",
          "name": "stdout",
          "text": [
            "Bilangan x saat ini adalah:  0\n",
            "Bilangan x saat ini adalah:  2\n",
            "Bilangan x saat ini adalah:  4\n",
            "Bilangan x saat ini adalah:  6\n",
            "Bilangan x saat ini adalah:  8\n",
            "Bilangan x saat ini adalah:  10\n",
            "Bilangan x saat ini adalah:  12\n",
            "Bilangan x saat ini adalah:  14\n",
            "Bilangan x saat ini adalah:  16\n",
            "Bilangan x saat ini adalah:  18\n",
            "Bilangan x saat ini adalah:  20\n",
            "Bilangan x saat ini adalah:  22\n",
            "Bilangan x saat ini adalah:  24\n",
            "Bilangan x saat ini adalah:  26\n",
            "Bilangan x saat ini adalah:  28\n",
            "Bilangan x saat ini adalah:  30\n",
            "Bilangan x saat ini adalah:  32\n",
            "Bilangan x saat ini adalah:  34\n",
            "Bilangan x saat ini adalah:  36\n",
            "Bilangan x saat ini adalah:  38\n",
            "Bilangan x saat ini adalah:  40\n",
            "Bilangan x saat ini adalah:  42\n",
            "Bilangan x saat ini adalah:  44\n",
            "Bilangan x saat ini adalah:  46\n",
            "Bilangan x saat ini adalah:  48\n"
          ]
        }
      ]
    },
    {
      "cell_type": "code",
      "source": [
        "angka = [1,2,3,4,5,6,7,8,9,10]"
      ],
      "metadata": {
        "id": "__ctqjpS9pp3"
      },
      "execution_count": null,
      "outputs": []
    },
    {
      "cell_type": "code",
      "source": [
        "for item in angka:\n",
        "    if item %2 == 0:\n",
        "        continue\n",
        "    else:\n",
        "        print('Anda berada di angka ganjil =', item)"
      ],
      "metadata": {
        "colab": {
          "base_uri": "https://localhost:8080/"
        },
        "id": "dschLez093x6",
        "outputId": "fdc783f7-c82f-4104-ca02-a6e6a1b24db6"
      },
      "execution_count": null,
      "outputs": [
        {
          "output_type": "stream",
          "name": "stdout",
          "text": [
            "Anda berada di angka ganjil = 1\n",
            "Anda berada di angka ganjil = 3\n",
            "Anda berada di angka ganjil = 5\n",
            "Anda berada di angka ganjil = 7\n",
            "Anda berada di angka ganjil = 9\n"
          ]
        }
      ]
    },
    {
      "cell_type": "code",
      "source": [
        "for item in angka:\n",
        "    if item %2 != 0:\n",
        "        continue\n",
        "    else:\n",
        "        print('Anda berada di angka genap =', item)"
      ],
      "metadata": {
        "colab": {
          "base_uri": "https://localhost:8080/"
        },
        "id": "NxvUaz1i-U7F",
        "outputId": "76c3de37-cda0-4a76-ac15-bc7ca7f5dc8d"
      },
      "execution_count": null,
      "outputs": [
        {
          "output_type": "stream",
          "name": "stdout",
          "text": [
            "Anda berada di angka genap = 2\n",
            "Anda berada di angka genap = 4\n",
            "Anda berada di angka genap = 6\n",
            "Anda berada di angka genap = 8\n",
            "Anda berada di angka genap = 10\n"
          ]
        }
      ]
    },
    {
      "cell_type": "code",
      "source": [
        "for i in 'Saya sudah mulai mahir di Python':\n",
        "    if i == 'a':\n",
        "        pass\n",
        "    else:\n",
        "        continue"
      ],
      "metadata": {
        "id": "VaOZY58j-dJw"
      },
      "execution_count": null,
      "outputs": []
    },
    {
      "cell_type": "code",
      "source": [
        "for i in 'abcd':\n",
        "    pass"
      ],
      "metadata": {
        "id": "d_ZNB-JI-1vk"
      },
      "execution_count": null,
      "outputs": []
    },
    {
      "cell_type": "code",
      "source": [],
      "metadata": {
        "id": "OxXOwoC__I2P"
      },
      "execution_count": null,
      "outputs": []
    },
    {
      "cell_type": "markdown",
      "source": [
        "**14 to 52\n",
        "Usefull Operators & For Loops -Advanced-**"
      ],
      "metadata": {
        "id": "9pamc1e3_KNA"
      }
    },
    {
      "cell_type": "markdown",
      "source": [
        "Range"
      ],
      "metadata": {
        "id": "K2GY9n9XASX1"
      }
    },
    {
      "cell_type": "code",
      "source": [
        "for item in range(0,10):\n",
        "    print(item)"
      ],
      "metadata": {
        "colab": {
          "base_uri": "https://localhost:8080/"
        },
        "id": "yawntfFO_afM",
        "outputId": "a47c5176-b082-4616-d7d2-0c1831b93cd5"
      },
      "execution_count": null,
      "outputs": [
        {
          "output_type": "stream",
          "name": "stdout",
          "text": [
            "0\n",
            "1\n",
            "2\n",
            "3\n",
            "4\n",
            "5\n",
            "6\n",
            "7\n",
            "8\n",
            "9\n"
          ]
        }
      ]
    },
    {
      "cell_type": "code",
      "source": [
        "#for item in range 0-20(angka 20 tidak dimasukkan), dan melompat sebanyak 3 karakter\n",
        "for item in range(0,20,3):\n",
        "    print(item)"
      ],
      "metadata": {
        "colab": {
          "base_uri": "https://localhost:8080/"
        },
        "id": "B8Fcv1g4_md5",
        "outputId": "d8793178-6e2f-466d-a34f-d0673c48b021"
      },
      "execution_count": null,
      "outputs": [
        {
          "output_type": "stream",
          "name": "stdout",
          "text": [
            "0\n",
            "3\n",
            "6\n",
            "9\n",
            "12\n",
            "15\n",
            "18\n"
          ]
        }
      ]
    },
    {
      "cell_type": "code",
      "source": [
        "#cara 1\n",
        "angka = [1,2,3,4,5,6,7,8,9,10]"
      ],
      "metadata": {
        "id": "XdZ1Pq3EAHOF"
      },
      "execution_count": null,
      "outputs": []
    },
    {
      "cell_type": "code",
      "source": [
        "angka"
      ],
      "metadata": {
        "colab": {
          "base_uri": "https://localhost:8080/"
        },
        "id": "N4b67fJbApb4",
        "outputId": "0ce7c866-3043-4623-bb0f-9c524743054e"
      },
      "execution_count": null,
      "outputs": [
        {
          "output_type": "execute_result",
          "data": {
            "text/plain": [
              "[1, 2, 3, 4, 5, 6, 7, 8, 9, 10]"
            ]
          },
          "metadata": {},
          "execution_count": 16
        }
      ]
    },
    {
      "cell_type": "code",
      "source": [
        "#cara 2\n",
        "angka2 = list(range(1,11))"
      ],
      "metadata": {
        "id": "PwBYR27rAqep"
      },
      "execution_count": null,
      "outputs": []
    },
    {
      "cell_type": "code",
      "source": [
        "angka2"
      ],
      "metadata": {
        "colab": {
          "base_uri": "https://localhost:8080/"
        },
        "id": "tz0WZLs2Aw_T",
        "outputId": "c60b414c-bba2-48a0-93d1-97cc959b9289"
      },
      "execution_count": null,
      "outputs": [
        {
          "output_type": "execute_result",
          "data": {
            "text/plain": [
              "[1, 2, 3, 4, 5, 6, 7, 8, 9, 10]"
            ]
          },
          "metadata": {},
          "execution_count": 18
        }
      ]
    },
    {
      "cell_type": "markdown",
      "source": [
        "Enumerate (datanya dalam bentuk tuple)"
      ],
      "metadata": {
        "id": "JHmD6u-cA3HX"
      }
    },
    {
      "cell_type": "code",
      "source": [
        "#tanpa enumerate\n",
        "\n",
        "indeks = 0\n",
        "for item in 'abcdefghij':\n",
        "    print('karakter {} berada di indeks ke- {}'.format(item,indeks))\n",
        "    indeks += 1"
      ],
      "metadata": {
        "colab": {
          "base_uri": "https://localhost:8080/"
        },
        "id": "VsEsHzlkA5EX",
        "outputId": "9dd400d8-92d2-4f8d-ffdd-fb3b99ce9d7e"
      },
      "execution_count": null,
      "outputs": [
        {
          "output_type": "stream",
          "name": "stdout",
          "text": [
            "karakter a berada di indeks ke- 0\n",
            "karakter b berada di indeks ke- 1\n",
            "karakter c berada di indeks ke- 2\n",
            "karakter d berada di indeks ke- 3\n",
            "karakter e berada di indeks ke- 4\n",
            "karakter f berada di indeks ke- 5\n",
            "karakter g berada di indeks ke- 6\n",
            "karakter h berada di indeks ke- 7\n",
            "karakter i berada di indeks ke- 8\n",
            "karakter j berada di indeks ke- 9\n"
          ]
        }
      ]
    },
    {
      "cell_type": "code",
      "source": [
        "#dengan enumerate\n",
        "\n",
        "kata = 'abcdefghij'\n",
        "for item in enumerate(kata):\n",
        "    print(item)"
      ],
      "metadata": {
        "colab": {
          "base_uri": "https://localhost:8080/"
        },
        "id": "61nSvOhNBZ-a",
        "outputId": "fe0610d5-3733-483e-bd67-5b277375c2d9"
      },
      "execution_count": null,
      "outputs": [
        {
          "output_type": "stream",
          "name": "stdout",
          "text": [
            "(0, 'a')\n",
            "(1, 'b')\n",
            "(2, 'c')\n",
            "(3, 'd')\n",
            "(4, 'e')\n",
            "(5, 'f')\n",
            "(6, 'g')\n",
            "(7, 'h')\n",
            "(8, 'i')\n",
            "(9, 'j')\n"
          ]
        }
      ]
    },
    {
      "cell_type": "code",
      "source": [
        "nama = 'idar'\n",
        "for item in enumerate(nama):\n",
        "    print(item)"
      ],
      "metadata": {
        "colab": {
          "base_uri": "https://localhost:8080/"
        },
        "id": "FKsMJL0sB68G",
        "outputId": "ec755e4f-7323-4bdc-adeb-725bed4ec3dd"
      },
      "execution_count": null,
      "outputs": [
        {
          "output_type": "stream",
          "name": "stdout",
          "text": [
            "(0, 'i')\n",
            "(1, 'd')\n",
            "(2, 'a')\n",
            "(3, 'r')\n"
          ]
        }
      ]
    },
    {
      "cell_type": "code",
      "source": [
        "for a,b in enumerate(nama):\n",
        "    print(a)\n",
        "    print(b)"
      ],
      "metadata": {
        "colab": {
          "base_uri": "https://localhost:8080/"
        },
        "id": "WMhkmnPnCBYF",
        "outputId": "421e2ad4-1039-4e0f-8ace-2fe4a06f2d77"
      },
      "execution_count": null,
      "outputs": [
        {
          "output_type": "stream",
          "name": "stdout",
          "text": [
            "0\n",
            "i\n",
            "1\n",
            "d\n",
            "2\n",
            "a\n",
            "3\n",
            "r\n"
          ]
        }
      ]
    },
    {
      "cell_type": "code",
      "source": [
        "for a,b in enumerate(nama):\n",
        "    print(a,b)"
      ],
      "metadata": {
        "colab": {
          "base_uri": "https://localhost:8080/"
        },
        "id": "ta4YUg7eCOJH",
        "outputId": "26e86b40-67b4-4dde-fda4-b927f8a54d4f"
      },
      "execution_count": null,
      "outputs": [
        {
          "output_type": "stream",
          "name": "stdout",
          "text": [
            "0 i\n",
            "1 d\n",
            "2 a\n",
            "3 r\n"
          ]
        }
      ]
    },
    {
      "cell_type": "markdown",
      "source": [
        "Zip (datanya tuple)"
      ],
      "metadata": {
        "id": "8WqtvOkaCYfX"
      }
    },
    {
      "cell_type": "code",
      "source": [
        "list1 = [1,2,3,4,5]\n",
        "list2 = ['a','b','c','d','e']"
      ],
      "metadata": {
        "id": "Fcr2VkcrBYjO"
      },
      "execution_count": null,
      "outputs": []
    },
    {
      "cell_type": "code",
      "source": [
        "for item in zip (list1, list2):\n",
        "    print(item)"
      ],
      "metadata": {
        "colab": {
          "base_uri": "https://localhost:8080/"
        },
        "id": "T-liwVgjCt0e",
        "outputId": "e9716b20-7a5d-48a9-ac52-2bf916a705ad"
      },
      "execution_count": null,
      "outputs": [
        {
          "output_type": "stream",
          "name": "stdout",
          "text": [
            "(1, 'a')\n",
            "(2, 'b')\n",
            "(3, 'c')\n",
            "(4, 'd')\n",
            "(5, 'e')\n"
          ]
        }
      ]
    },
    {
      "cell_type": "code",
      "source": [
        "list1 = [1,2,3,4,5]\n",
        "list2 = ['a','b','c','d','e']\n",
        "list3 = [100,200,300,400,500]"
      ],
      "metadata": {
        "id": "pBoFV_weCnrK"
      },
      "execution_count": null,
      "outputs": []
    },
    {
      "cell_type": "code",
      "source": [
        "for item in zip (list1, list2, list3):\n",
        "    print(item)"
      ],
      "metadata": {
        "colab": {
          "base_uri": "https://localhost:8080/"
        },
        "id": "Dj0pAmHJC_X0",
        "outputId": "c2ecf7f5-7b27-47f6-e155-f4e3ed479b83"
      },
      "execution_count": null,
      "outputs": [
        {
          "output_type": "stream",
          "name": "stdout",
          "text": [
            "(1, 'a', 100)\n",
            "(2, 'b', 200)\n",
            "(3, 'c', 300)\n",
            "(4, 'd', 400)\n",
            "(5, 'e', 500)\n"
          ]
        }
      ]
    },
    {
      "cell_type": "code",
      "source": [
        "list(zip(list1,list2))"
      ],
      "metadata": {
        "colab": {
          "base_uri": "https://localhost:8080/"
        },
        "id": "weXMjaTTDEnY",
        "outputId": "1be5a9e4-f714-4cf1-907f-10335584654d"
      },
      "execution_count": null,
      "outputs": [
        {
          "output_type": "execute_result",
          "data": {
            "text/plain": [
              "[(1, 'a'), (2, 'b'), (3, 'c'), (4, 'd'), (5, 'e')]"
            ]
          },
          "metadata": {},
          "execution_count": 32
        }
      ]
    },
    {
      "cell_type": "code",
      "source": [
        "list(zip(list1, list2, list3))"
      ],
      "metadata": {
        "colab": {
          "base_uri": "https://localhost:8080/"
        },
        "id": "gMHXZ8pdDQfj",
        "outputId": "24cdac00-6951-44aa-e3bc-ecf832a14dd8"
      },
      "execution_count": null,
      "outputs": [
        {
          "output_type": "execute_result",
          "data": {
            "text/plain": [
              "[(1, 'a', 100), (2, 'b', 200), (3, 'c', 300), (4, 'd', 400), (5, 'e', 500)]"
            ]
          },
          "metadata": {},
          "execution_count": 33
        }
      ]
    },
    {
      "cell_type": "markdown",
      "source": [
        "**Item checking**\n",
        "\n",
        "utk berbagai macam tipe data, sangat berguna untuk melakukan checking pada data orang lain di bidang data science"
      ],
      "metadata": {
        "id": "lEy5UQ_lDqVC"
      }
    },
    {
      "cell_type": "code",
      "source": [
        "'aku belajar'"
      ],
      "metadata": {
        "colab": {
          "base_uri": "https://localhost:8080/",
          "height": 35
        },
        "id": "WyC1W56iDVLo",
        "outputId": "2cefc512-7937-4732-d33d-651defa04ec6"
      },
      "execution_count": null,
      "outputs": [
        {
          "output_type": "execute_result",
          "data": {
            "text/plain": [
              "'aku belajar'"
            ],
            "application/vnd.google.colaboratory.intrinsic+json": {
              "type": "string"
            }
          },
          "metadata": {},
          "execution_count": 34
        }
      ]
    },
    {
      "cell_type": "code",
      "source": [
        "'k' in 'aku belajar'"
      ],
      "metadata": {
        "colab": {
          "base_uri": "https://localhost:8080/"
        },
        "id": "trwbCQ0uDt_C",
        "outputId": "e8dec785-04ba-4def-c696-e65b2ea3486e"
      },
      "execution_count": null,
      "outputs": [
        {
          "output_type": "execute_result",
          "data": {
            "text/plain": [
              "True"
            ]
          },
          "metadata": {},
          "execution_count": 35
        }
      ]
    },
    {
      "cell_type": "code",
      "source": [
        "'v' in 'aku belajar'"
      ],
      "metadata": {
        "colab": {
          "base_uri": "https://localhost:8080/"
        },
        "id": "NLUPu1o1DzGK",
        "outputId": "add4d715-47f2-48d8-a3a4-8d36081c6a62"
      },
      "execution_count": null,
      "outputs": [
        {
          "output_type": "execute_result",
          "data": {
            "text/plain": [
              "False"
            ]
          },
          "metadata": {},
          "execution_count": 36
        }
      ]
    },
    {
      "cell_type": "code",
      "source": [
        "#pada contoh ini menggunakan data berbentuk dictionary jadi harus menggunakan tanda kurung {}\n",
        "\n",
        "kotak1 = {'a':100, 'b':200, 'c':300}"
      ],
      "metadata": {
        "id": "tVeTwr0eD1hh"
      },
      "execution_count": null,
      "outputs": []
    },
    {
      "cell_type": "code",
      "source": [
        "'c' in kotak1 #ini digunakan untuk mengecek key pada data berbentuk dictionary"
      ],
      "metadata": {
        "colab": {
          "base_uri": "https://localhost:8080/"
        },
        "id": "oK0fnujhETIh",
        "outputId": "68ed4a8f-d0c6-4408-e303-920d243423a4"
      },
      "execution_count": null,
      "outputs": [
        {
          "output_type": "execute_result",
          "data": {
            "text/plain": [
              "True"
            ]
          },
          "metadata": {},
          "execution_count": 40
        }
      ]
    },
    {
      "cell_type": "code",
      "source": [
        "200 in kotak1 #ini bernilai false karna angka 200 merupakan value/nilai dari key 'b'"
      ],
      "metadata": {
        "colab": {
          "base_uri": "https://localhost:8080/"
        },
        "id": "7crbMIsvEq4J",
        "outputId": "67ade963-c7a4-4ed5-9efd-baaca0904015"
      },
      "execution_count": null,
      "outputs": [
        {
          "output_type": "execute_result",
          "data": {
            "text/plain": [
              "False"
            ]
          },
          "metadata": {},
          "execution_count": 41
        }
      ]
    },
    {
      "cell_type": "code",
      "source": [
        "200 in kotak1.values() #kode ini digunakan untuk mengecek value/nilai dari sebuah key dalam data berbentuk dictionary"
      ],
      "metadata": {
        "colab": {
          "base_uri": "https://localhost:8080/"
        },
        "id": "l56eQUqpEyuS",
        "outputId": "d08022ce-e986-45ef-ba3b-2489225ac29e"
      },
      "execution_count": null,
      "outputs": [
        {
          "output_type": "execute_result",
          "data": {
            "text/plain": [
              "True"
            ]
          },
          "metadata": {},
          "execution_count": 43
        }
      ]
    },
    {
      "cell_type": "code",
      "source": [
        "250 in kotak1.values()"
      ],
      "metadata": {
        "colab": {
          "base_uri": "https://localhost:8080/"
        },
        "id": "iUGDxCLkFI9k",
        "outputId": "2f612c27-a8eb-4359-e904-47bfca5b3593"
      },
      "execution_count": null,
      "outputs": [
        {
          "output_type": "execute_result",
          "data": {
            "text/plain": [
              "False"
            ]
          },
          "metadata": {},
          "execution_count": 44
        }
      ]
    },
    {
      "cell_type": "markdown",
      "source": [
        "Advanced For Loops"
      ],
      "metadata": {
        "id": "9Ike-Yl9FWPp"
      }
    },
    {
      "cell_type": "code",
      "source": [
        "isi = [] #data 'isi' tidak ada isinya"
      ],
      "metadata": {
        "id": "bV5M_T0XFExV"
      },
      "execution_count": null,
      "outputs": []
    },
    {
      "cell_type": "code",
      "source": [
        "#cara 1 untuk mengisi data di dalam 'isi' menggunakan metode dibawah ini\n",
        "\n",
        "isi = list(range(1,11))"
      ],
      "metadata": {
        "id": "a2wKEzIHFhl2"
      },
      "execution_count": null,
      "outputs": []
    },
    {
      "cell_type": "code",
      "source": [
        "isi"
      ],
      "metadata": {
        "colab": {
          "base_uri": "https://localhost:8080/"
        },
        "id": "p6rr6THnF03L",
        "outputId": "cbb97a31-8f38-4475-be5d-4abaf5a62dc0"
      },
      "execution_count": null,
      "outputs": [
        {
          "output_type": "execute_result",
          "data": {
            "text/plain": [
              "[1, 2, 3, 4, 5, 6, 7, 8, 9, 10]"
            ]
          },
          "metadata": {},
          "execution_count": 47
        }
      ]
    },
    {
      "cell_type": "code",
      "source": [
        "#cara 2 untuk mengisi data di dalam 'isi' menggunakan metode dibawah ini\n",
        "\n",
        "isi2 = list()\n",
        "for item in range(1,11):\n",
        "    isi2.append(item)\n",
        "isi2"
      ],
      "metadata": {
        "colab": {
          "base_uri": "https://localhost:8080/"
        },
        "id": "piEueaV7F1aE",
        "outputId": "ea2ce2e8-19cf-41a9-bc2f-6bb9aa7f2ee7"
      },
      "execution_count": null,
      "outputs": [
        {
          "output_type": "execute_result",
          "data": {
            "text/plain": [
              "[1, 2, 3, 4, 5, 6, 7, 8, 9, 10]"
            ]
          },
          "metadata": {},
          "execution_count": 49
        }
      ]
    },
    {
      "cell_type": "code",
      "source": [
        "#cara untuk mepersingkat cara ke 2 di atas\n",
        "\n",
        "isi3 = [item for item in range(1,11)]"
      ],
      "metadata": {
        "id": "A_E0H5_SGy5g"
      },
      "execution_count": null,
      "outputs": []
    },
    {
      "cell_type": "code",
      "source": [
        "isi3"
      ],
      "metadata": {
        "colab": {
          "base_uri": "https://localhost:8080/"
        },
        "id": "CbJpAchAHTXD",
        "outputId": "ab18f968-3935-46a0-caec-0ce346afe451"
      },
      "execution_count": null,
      "outputs": [
        {
          "output_type": "execute_result",
          "data": {
            "text/plain": [
              "[1, 2, 3, 4, 5, 6, 7, 8, 9, 10]"
            ]
          },
          "metadata": {},
          "execution_count": 51
        }
      ]
    },
    {
      "cell_type": "code",
      "source": [
        "isi4 = [item**2 for item in range (1,11)]\n",
        "isi4"
      ],
      "metadata": {
        "colab": {
          "base_uri": "https://localhost:8080/"
        },
        "id": "OtOu9nhdHUc8",
        "outputId": "2c1e3243-fc93-4b91-82dd-0d0e8ff633ab"
      },
      "execution_count": null,
      "outputs": [
        {
          "output_type": "execute_result",
          "data": {
            "text/plain": [
              "[1, 4, 9, 16, 25, 36, 49, 64, 81, 100]"
            ]
          },
          "metadata": {},
          "execution_count": 53
        }
      ]
    },
    {
      "cell_type": "code",
      "source": [
        "isi5 = [item*2 for item in range (1,11)]\n",
        "isi5"
      ],
      "metadata": {
        "colab": {
          "base_uri": "https://localhost:8080/"
        },
        "id": "rHoBUMlGIEn5",
        "outputId": "2c96294b-2aa8-46bb-c445-eb513a9e2fa9"
      },
      "execution_count": null,
      "outputs": [
        {
          "output_type": "execute_result",
          "data": {
            "text/plain": [
              "[2, 4, 6, 8, 10, 12, 14, 16, 18, 20]"
            ]
          },
          "metadata": {},
          "execution_count": 54
        }
      ]
    },
    {
      "cell_type": "code",
      "source": [
        "isi6 = [item**2/3 for item in range (1,11)]\n",
        "isi6"
      ],
      "metadata": {
        "colab": {
          "base_uri": "https://localhost:8080/"
        },
        "id": "xfDv8uBrHzl7",
        "outputId": "cdf0ff31-c9e3-41ad-ac49-e7bc2a37841d"
      },
      "execution_count": null,
      "outputs": [
        {
          "output_type": "execute_result",
          "data": {
            "text/plain": [
              "[0.3333333333333333,\n",
              " 1.3333333333333333,\n",
              " 3.0,\n",
              " 5.333333333333333,\n",
              " 8.333333333333334,\n",
              " 12.0,\n",
              " 16.333333333333332,\n",
              " 21.333333333333332,\n",
              " 27.0,\n",
              " 33.333333333333336]"
            ]
          },
          "metadata": {},
          "execution_count": 55
        }
      ]
    },
    {
      "cell_type": "code",
      "source": [
        "#klo menggunakan if, penulisan if ditulis dibelakang\n",
        "\n",
        "isi7 = [item for item in range (1,11) if item %2 == 0]\n",
        "isi7"
      ],
      "metadata": {
        "colab": {
          "base_uri": "https://localhost:8080/"
        },
        "id": "t1xJ7s91Ic3K",
        "outputId": "1e2c0dd4-ba75-452b-854a-c716cf880c79"
      },
      "execution_count": null,
      "outputs": [
        {
          "output_type": "execute_result",
          "data": {
            "text/plain": [
              "[2, 4, 6, 8, 10]"
            ]
          },
          "metadata": {},
          "execution_count": 56
        }
      ]
    },
    {
      "cell_type": "code",
      "source": [
        "#klo menggunakna if dan else, maka penulisan if dan else ditulis di depan\n",
        "\n",
        "isi8 = [item if item%2==0 else 'angka ini bilangan ganjil' for item in range (1,11)]\n",
        "isi8"
      ],
      "metadata": {
        "colab": {
          "base_uri": "https://localhost:8080/"
        },
        "id": "Ayj5ShsAIyND",
        "outputId": "4da8365b-bb59-453e-e8a4-1f1a02c63f3e"
      },
      "execution_count": null,
      "outputs": [
        {
          "output_type": "execute_result",
          "data": {
            "text/plain": [
              "['angka ini bilangan ganjil',\n",
              " 2,\n",
              " 'angka ini bilangan ganjil',\n",
              " 4,\n",
              " 'angka ini bilangan ganjil',\n",
              " 6,\n",
              " 'angka ini bilangan ganjil',\n",
              " 8,\n",
              " 'angka ini bilangan ganjil',\n",
              " 10]"
            ]
          },
          "metadata": {},
          "execution_count": 62
        }
      ]
    },
    {
      "cell_type": "code",
      "source": [
        "#menggunakan cara yang lain, tapi outputnya akan sama dengan langkah diatas\n",
        "isi9 = []\n",
        "for item in range(1,11):\n",
        "    if item %2 == 0:\n",
        "        isi9.append(item)\n",
        "    else:\n",
        "        isi9.append('angka ini bilangan ganjil')"
      ],
      "metadata": {
        "id": "91GnuCzBJogu"
      },
      "execution_count": null,
      "outputs": []
    },
    {
      "cell_type": "code",
      "source": [
        "isi9"
      ],
      "metadata": {
        "colab": {
          "base_uri": "https://localhost:8080/"
        },
        "id": "0v8wCt7iLJ-O",
        "outputId": "08d08bf1-41c4-4355-c33a-c9e88091d06a"
      },
      "execution_count": null,
      "outputs": [
        {
          "output_type": "execute_result",
          "data": {
            "text/plain": [
              "['angka ini bilangan ganjil',\n",
              " 2,\n",
              " 'angka ini bilangan ganjil',\n",
              " 4,\n",
              " 'angka ini bilangan ganjil',\n",
              " 6,\n",
              " 'angka ini bilangan ganjil',\n",
              " 8,\n",
              " 'angka ini bilangan ganjil',\n",
              " 10]"
            ]
          },
          "metadata": {},
          "execution_count": 66
        }
      ]
    },
    {
      "cell_type": "markdown",
      "source": [
        "**Functions, ARGS & KWARGS**"
      ],
      "metadata": {
        "id": "6BOxHztiMPQ4"
      }
    },
    {
      "cell_type": "markdown",
      "source": [
        "Functions\n",
        "\n",
        "**def** nama_fungsinya(variabel):\n",
        "'''\n",
        "docstring = sebuah komentar untuk pembaca\n",
        "'''\n",
        "\n",
        "    perintah yang diinginkan\n",
        "    return/print\n",
        "\n",
        "\n",
        "*   Return digunakan untuk mendefinisikan hasil fungsi ke variabel\n",
        "*   Print digunakan jika hanya ingin mencetak hasil dari fungsinya"
      ],
      "metadata": {
        "id": "tvc6hKfPOz2B"
      }
    },
    {
      "cell_type": "code",
      "source": [
        "4+5"
      ],
      "metadata": {
        "colab": {
          "base_uri": "https://localhost:8080/"
        },
        "id": "ObK5ienHLG3C",
        "outputId": "2909a35f-a464-4b94-9f5e-40b5eb7cc36f"
      },
      "execution_count": null,
      "outputs": [
        {
          "output_type": "execute_result",
          "data": {
            "text/plain": [
              "9"
            ]
          },
          "metadata": {},
          "execution_count": 67
        }
      ]
    },
    {
      "cell_type": "code",
      "source": [
        "7*90"
      ],
      "metadata": {
        "colab": {
          "base_uri": "https://localhost:8080/"
        },
        "id": "i5ZkL9dNPbeA",
        "outputId": "b156d799-f0f7-48f8-ddeb-b89de19b5f57"
      },
      "execution_count": null,
      "outputs": [
        {
          "output_type": "execute_result",
          "data": {
            "text/plain": [
              "630"
            ]
          },
          "metadata": {},
          "execution_count": 68
        }
      ]
    },
    {
      "cell_type": "code",
      "source": [
        "def cetak_kalimat():\n",
        "    print('ternyata belajar Python itu mudah')"
      ],
      "metadata": {
        "id": "GUUZNjSwPcwR"
      },
      "execution_count": null,
      "outputs": []
    },
    {
      "cell_type": "code",
      "source": [
        "cetak_kalimat #klo lupa menggunakan tanda kurung, maka hasilnya seperti dibawah ini"
      ],
      "metadata": {
        "colab": {
          "base_uri": "https://localhost:8080/",
          "height": 104
        },
        "id": "3XQI6aOxQ3ea",
        "outputId": "e29c36a7-22f8-4f3b-b803-aedc4c3deefa"
      },
      "execution_count": null,
      "outputs": [
        {
          "output_type": "execute_result",
          "data": {
            "text/plain": [
              "<function __main__.cetak_kalimat()>"
            ],
            "text/html": [
              "<div style=\"max-width:800px; border: 1px solid var(--colab-border-color);\"><style>\n",
              "      pre.function-repr-contents {\n",
              "        overflow-x: auto;\n",
              "        padding: 8px 12px;\n",
              "        max-height: 500px;\n",
              "      }\n",
              "\n",
              "      pre.function-repr-contents.function-repr-contents-collapsed {\n",
              "        cursor: pointer;\n",
              "        max-height: 100px;\n",
              "      }\n",
              "    </style>\n",
              "    <pre style=\"white-space: initial; background:\n",
              "         var(--colab-secondary-surface-color); padding: 8px 12px;\n",
              "         border-bottom: 1px solid var(--colab-border-color);\"><b>cetak_kalimat</b><br/>def cetak_kalimat()</pre><pre class=\"function-repr-contents function-repr-contents-collapsed\" style=\"\"><a class=\"filepath\" style=\"display:none\" href=\"#\">/content/&lt;ipython-input-69-fa2db179002f&gt;</a>&lt;no docstring&gt;</pre></div>"
            ]
          },
          "metadata": {},
          "execution_count": 71
        }
      ]
    },
    {
      "cell_type": "code",
      "source": [
        "cetak_kalimat()"
      ],
      "metadata": {
        "colab": {
          "base_uri": "https://localhost:8080/"
        },
        "id": "21jd2GI_Qqks",
        "outputId": "2457780c-4760-4f8b-877a-4e27cdc45704"
      },
      "execution_count": null,
      "outputs": [
        {
          "output_type": "stream",
          "name": "stdout",
          "text": [
            "ternyata belajar Python itu mudah\n"
          ]
        }
      ]
    },
    {
      "cell_type": "code",
      "source": [
        "list1 = list(range(1,10))"
      ],
      "metadata": {
        "id": "0Dy2JQksQsBn"
      },
      "execution_count": null,
      "outputs": []
    },
    {
      "cell_type": "code",
      "source": [
        "list1.append"
      ],
      "metadata": {
        "colab": {
          "base_uri": "https://localhost:8080/"
        },
        "id": "R_U90MRIRDi0",
        "outputId": "adf23a9c-f4cb-4af3-ca50-c88ee05a5cd5"
      },
      "execution_count": null,
      "outputs": [
        {
          "output_type": "execute_result",
          "data": {
            "text/plain": [
              "<function list.append(object, /)>"
            ]
          },
          "metadata": {},
          "execution_count": 73
        }
      ]
    },
    {
      "cell_type": "code",
      "source": [
        "list1.append(3)"
      ],
      "metadata": {
        "id": "0WGkrab1RGlw"
      },
      "execution_count": null,
      "outputs": []
    },
    {
      "cell_type": "code",
      "source": [
        "list1"
      ],
      "metadata": {
        "colab": {
          "base_uri": "https://localhost:8080/"
        },
        "id": "d3AFdJMPRQ6P",
        "outputId": "96ed0000-c400-4912-d4c1-dcb9f87bd16f"
      },
      "execution_count": null,
      "outputs": [
        {
          "output_type": "execute_result",
          "data": {
            "text/plain": [
              "[1, 2, 3, 4, 5, 6, 7, 8, 9, 3]"
            ]
          },
          "metadata": {},
          "execution_count": 77
        }
      ]
    },
    {
      "cell_type": "code",
      "source": [
        "def perkalian(num1,num2):\n",
        "    return num1*num2"
      ],
      "metadata": {
        "id": "cUyIEJViRIRT"
      },
      "execution_count": null,
      "outputs": []
    },
    {
      "cell_type": "code",
      "source": [
        "kali = perkalian(6,7)\n",
        "kali"
      ],
      "metadata": {
        "colab": {
          "base_uri": "https://localhost:8080/"
        },
        "id": "WOZ6zvU2RrdJ",
        "outputId": "1682f772-1f14-4730-d7e1-0978a01b89d0"
      },
      "execution_count": null,
      "outputs": [
        {
          "output_type": "execute_result",
          "data": {
            "text/plain": [
              "42"
            ]
          },
          "metadata": {},
          "execution_count": 79
        }
      ]
    },
    {
      "cell_type": "code",
      "source": [
        "def perkalian(num1,num2,num3):\n",
        "    return num1*num2*num3"
      ],
      "metadata": {
        "id": "wspJn9vGUC2J"
      },
      "execution_count": null,
      "outputs": []
    },
    {
      "cell_type": "code",
      "source": [
        "kali = perkalian(6,7,2)\n",
        "kali"
      ],
      "metadata": {
        "colab": {
          "base_uri": "https://localhost:8080/"
        },
        "id": "-xwFvP7ZUKYu",
        "outputId": "6db35098-4caa-4644-b05e-ca44ce20fe2c"
      },
      "execution_count": null,
      "outputs": [
        {
          "output_type": "execute_result",
          "data": {
            "text/plain": [
              "84"
            ]
          },
          "metadata": {},
          "execution_count": 81
        }
      ]
    },
    {
      "cell_type": "code",
      "source": [
        "def penjumlahan(num1,num2):\n",
        "    print(num1+num2)"
      ],
      "metadata": {
        "id": "hUMWs1i6UOYP"
      },
      "execution_count": null,
      "outputs": []
    },
    {
      "cell_type": "code",
      "source": [
        "jumlah = penjumlahan(1,3)"
      ],
      "metadata": {
        "colab": {
          "base_uri": "https://localhost:8080/"
        },
        "id": "J9gLN1HOWVoM",
        "outputId": "0c0ff234-4ac2-4fd1-c964-19730f9314db"
      },
      "execution_count": null,
      "outputs": [
        {
          "output_type": "stream",
          "name": "stdout",
          "text": [
            "4\n"
          ]
        }
      ]
    },
    {
      "cell_type": "code",
      "source": [
        "type(jumlah)"
      ],
      "metadata": {
        "colab": {
          "base_uri": "https://localhost:8080/"
        },
        "id": "T4A26SzWWZ8o",
        "outputId": "e76e0355-cb8f-43b9-aa78-abc26eafb22c"
      },
      "execution_count": null,
      "outputs": [
        {
          "output_type": "execute_result",
          "data": {
            "text/plain": [
              "NoneType"
            ]
          },
          "metadata": {},
          "execution_count": 84
        }
      ]
    },
    {
      "cell_type": "code",
      "source": [
        "def belajar(nama='Python'):\n",
        "    print('Saya sedang belajar '+nama)"
      ],
      "metadata": {
        "id": "z3lCp7NFWfqT"
      },
      "execution_count": null,
      "outputs": []
    },
    {
      "cell_type": "code",
      "source": [
        "belajar('Matematika')"
      ],
      "metadata": {
        "colab": {
          "base_uri": "https://localhost:8080/"
        },
        "id": "i5XKEiAeW3x4",
        "outputId": "e4635c68-06b8-4f01-e84f-afb4689d5ce4"
      },
      "execution_count": null,
      "outputs": [
        {
          "output_type": "stream",
          "name": "stdout",
          "text": [
            "Saya sedang belajar Matematika\n"
          ]
        }
      ]
    },
    {
      "cell_type": "code",
      "source": [
        "def belajar(var='Python'):\n",
        "    print('Saya sedang belajar '+var)"
      ],
      "metadata": {
        "id": "2b_ghu8PXQOu"
      },
      "execution_count": null,
      "outputs": []
    },
    {
      "cell_type": "code",
      "source": [
        "belajar()"
      ],
      "metadata": {
        "colab": {
          "base_uri": "https://localhost:8080/"
        },
        "id": "6UWogBLiXpxz",
        "outputId": "fe6d77f0-beb2-4d1e-e18e-e57d54f2a157"
      },
      "execution_count": null,
      "outputs": [
        {
          "output_type": "stream",
          "name": "stdout",
          "text": [
            "Saya sedang belajar Python\n"
          ]
        }
      ]
    },
    {
      "cell_type": "code",
      "source": [
        "def deteksi_genap(var1):\n",
        "    '''\n",
        "    Ini adalah fungsi untuk membedakan ganjil genap\n",
        "    '''\n",
        "    if (var1 %2 == 0):\n",
        "        print('Ini adalah angka genap')\n",
        "    else:\n",
        "        print('Ini adalah angka ganjil')"
      ],
      "metadata": {
        "id": "BB0YDqR2XszO"
      },
      "execution_count": null,
      "outputs": []
    },
    {
      "cell_type": "code",
      "source": [
        "deteksi_genap(7)"
      ],
      "metadata": {
        "colab": {
          "base_uri": "https://localhost:8080/"
        },
        "id": "Sm0yuY1zeI5X",
        "outputId": "6629fc45-b1ff-4796-9b74-c32f0c53d77a"
      },
      "execution_count": null,
      "outputs": [
        {
          "output_type": "stream",
          "name": "stdout",
          "text": [
            "Ini adalah angka ganjil\n"
          ]
        }
      ]
    },
    {
      "cell_type": "code",
      "source": [
        "#Tantangan Fungsi\n",
        "'''\n",
        "Buatlah sbeuah fungsi yang bisa memberikan nilai True jika bisa menemukan kata 'Python'\n",
        "\n",
        "Contoh kalimatnya: \"Ternyata belajar Python itu mudah!\"\n",
        "Contoh kalimat juga bisa diubah-ubah sesuai keinginan\n",
        "'''"
      ],
      "metadata": {
        "id": "jIcZ2Y9MeM36"
      },
      "execution_count": null,
      "outputs": []
    },
    {
      "cell_type": "code",
      "source": [
        "kalimat = input('Masukkanlah kalimat yang diinginkan ')"
      ],
      "metadata": {
        "colab": {
          "base_uri": "https://localhost:8080/"
        },
        "id": "nZBevgepexlr",
        "outputId": "5a072091-20e1-4252-dbc0-e4f760e56b19"
      },
      "execution_count": null,
      "outputs": [
        {
          "name": "stdout",
          "output_type": "stream",
          "text": [
            "Masukkanlah kalimat yang diinginkan saya\n"
          ]
        }
      ]
    },
    {
      "cell_type": "code",
      "source": [
        "kalimat"
      ],
      "metadata": {
        "colab": {
          "base_uri": "https://localhost:8080/",
          "height": 35
        },
        "id": "UzbI9JdBe-ul",
        "outputId": "b4aa2e38-61b5-4cc2-d124-b850decee331"
      },
      "execution_count": null,
      "outputs": [
        {
          "output_type": "execute_result",
          "data": {
            "text/plain": [
              "'saya'"
            ],
            "application/vnd.google.colaboratory.intrinsic+json": {
              "type": "string"
            }
          },
          "metadata": {},
          "execution_count": 102
        }
      ]
    },
    {
      "cell_type": "code",
      "source": [
        "#cara 1\n",
        "\n",
        "def cetak_kalimat(var):\n",
        "    if 'Python' in var:\n",
        "        return True\n",
        "    else:\n",
        "        return False"
      ],
      "metadata": {
        "id": "9vRT9R-efZOS"
      },
      "execution_count": null,
      "outputs": []
    },
    {
      "cell_type": "code",
      "source": [
        "cetak_kalimat(kalimat)"
      ],
      "metadata": {
        "colab": {
          "base_uri": "https://localhost:8080/"
        },
        "id": "PDs91lUJfwNg",
        "outputId": "ab3a36dd-ef57-4e42-cd2c-05047e654705"
      },
      "execution_count": null,
      "outputs": [
        {
          "output_type": "execute_result",
          "data": {
            "text/plain": [
              "False"
            ]
          },
          "metadata": {},
          "execution_count": 104
        }
      ]
    },
    {
      "cell_type": "code",
      "source": [
        "'Nama' in 'Nama saya adalah Mega'"
      ],
      "metadata": {
        "colab": {
          "base_uri": "https://localhost:8080/"
        },
        "id": "y_P2iDfmhYTg",
        "outputId": "1b16e770-3534-49b3-8990-6ecb131e4f62"
      },
      "execution_count": null,
      "outputs": [
        {
          "output_type": "execute_result",
          "data": {
            "text/plain": [
              "True"
            ]
          },
          "metadata": {},
          "execution_count": 107
        }
      ]
    },
    {
      "cell_type": "code",
      "source": [
        "#cara 2\n",
        "\n",
        "def cetak_kalimat(var):\n",
        "    return 'Python' in var.lower()"
      ],
      "metadata": {
        "id": "pBuyxYPOf6j_"
      },
      "execution_count": null,
      "outputs": []
    },
    {
      "cell_type": "code",
      "source": [
        "cetak_kalimat(kalimat)"
      ],
      "metadata": {
        "colab": {
          "base_uri": "https://localhost:8080/"
        },
        "id": "L8_mdCfyg7iC",
        "outputId": "a87e1b95-58e6-4876-f339-2e896143a77f"
      },
      "execution_count": null,
      "outputs": [
        {
          "output_type": "execute_result",
          "data": {
            "text/plain": [
              "False"
            ]
          },
          "metadata": {},
          "execution_count": 112
        }
      ]
    },
    {
      "cell_type": "markdown",
      "source": [
        "*Args(argumen) dan **Kwargs(key word argumen)"
      ],
      "metadata": {
        "id": "9GRKP9SsjOyN"
      }
    },
    {
      "cell_type": "code",
      "source": [
        "def jumlah(a,b,c):\n",
        "    return a+b+c"
      ],
      "metadata": {
        "id": "ThaAoxgnjeur"
      },
      "execution_count": null,
      "outputs": []
    },
    {
      "cell_type": "code",
      "source": [
        "jumlah(8,9,1)"
      ],
      "metadata": {
        "colab": {
          "base_uri": "https://localhost:8080/"
        },
        "id": "6idzF5f6jsrw",
        "outputId": "7295df3a-eccc-4fe9-ea58-43cb9b667e7f"
      },
      "execution_count": null,
      "outputs": [
        {
          "output_type": "execute_result",
          "data": {
            "text/plain": [
              "18"
            ]
          },
          "metadata": {},
          "execution_count": 114
        }
      ]
    },
    {
      "cell_type": "code",
      "source": [
        "def kurang(a,b,c,d):\n",
        "    return a-b-c-d"
      ],
      "metadata": {
        "id": "8Lx2mhlejvPy"
      },
      "execution_count": null,
      "outputs": []
    },
    {
      "cell_type": "code",
      "source": [
        "kurang(9,3,2,1)"
      ],
      "metadata": {
        "colab": {
          "base_uri": "https://localhost:8080/"
        },
        "id": "3j4HHQDLj12G",
        "outputId": "824736a6-648b-4588-b9ae-ae1a0752105e"
      },
      "execution_count": null,
      "outputs": [
        {
          "output_type": "execute_result",
          "data": {
            "text/plain": [
              "3"
            ]
          },
          "metadata": {},
          "execution_count": 121
        }
      ]
    },
    {
      "cell_type": "code",
      "source": [
        "def bagi(a,b):\n",
        "    return(a/b)"
      ],
      "metadata": {
        "id": "I7aggHFJj74x"
      },
      "execution_count": null,
      "outputs": []
    },
    {
      "cell_type": "code",
      "source": [
        "bagi(6,2)"
      ],
      "metadata": {
        "colab": {
          "base_uri": "https://localhost:8080/"
        },
        "id": "k9qqIX9nkMzZ",
        "outputId": "f29e25aa-0d1f-4143-9e09-d504c55da8c9"
      },
      "execution_count": null,
      "outputs": [
        {
          "output_type": "execute_result",
          "data": {
            "text/plain": [
              "3.0"
            ]
          },
          "metadata": {},
          "execution_count": 123
        }
      ]
    },
    {
      "cell_type": "code",
      "source": [
        "#untuk menyederhanakan beberapa cara di atas\n",
        "\n",
        "def jumlah(*args):\n",
        "    return sum((args))"
      ],
      "metadata": {
        "id": "xlr9VTa4kPBI"
      },
      "execution_count": null,
      "outputs": []
    },
    {
      "cell_type": "code",
      "source": [
        "jumlah(8,9,1,100,4,7,2)"
      ],
      "metadata": {
        "colab": {
          "base_uri": "https://localhost:8080/"
        },
        "id": "3Q4ACGhFk-vR",
        "outputId": "c4ebac5a-37f2-4569-ab87-b634628f7169"
      },
      "execution_count": null,
      "outputs": [
        {
          "output_type": "execute_result",
          "data": {
            "text/plain": [
              "131"
            ]
          },
          "metadata": {},
          "execution_count": 129
        }
      ]
    },
    {
      "cell_type": "code",
      "source": [
        "def cek_args(*args):\n",
        "    print(args)"
      ],
      "metadata": {
        "id": "mCMgMwTLlEBJ"
      },
      "execution_count": null,
      "outputs": []
    },
    {
      "cell_type": "code",
      "source": [
        "cek_args(2,3,4,5,6,7)"
      ],
      "metadata": {
        "colab": {
          "base_uri": "https://localhost:8080/"
        },
        "id": "8630dA5tHrU-",
        "outputId": "38c5fb21-b43a-4470-c020-2da7b7266198"
      },
      "execution_count": null,
      "outputs": [
        {
          "output_type": "stream",
          "name": "stdout",
          "text": [
            "(2, 3, 4, 5, 6, 7)\n"
          ]
        }
      ]
    },
    {
      "cell_type": "code",
      "source": [
        "sum((2,3,4,5,6,7))"
      ],
      "metadata": {
        "colab": {
          "base_uri": "https://localhost:8080/"
        },
        "id": "XimqMjEHHukY",
        "outputId": "29aaf6dc-b0c0-4619-81be-2f4c970ebccf"
      },
      "execution_count": null,
      "outputs": [
        {
          "output_type": "execute_result",
          "data": {
            "text/plain": [
              "27"
            ]
          },
          "metadata": {},
          "execution_count": 3
        }
      ]
    },
    {
      "cell_type": "code",
      "source": [
        "sum([1,2,3,4])"
      ],
      "metadata": {
        "colab": {
          "base_uri": "https://localhost:8080/"
        },
        "id": "yf6R3V1FHy-t",
        "outputId": "06ae845f-b2a9-419d-cd93-6631c0634c4a"
      },
      "execution_count": null,
      "outputs": [
        {
          "output_type": "execute_result",
          "data": {
            "text/plain": [
              "10"
            ]
          },
          "metadata": {},
          "execution_count": 4
        }
      ]
    },
    {
      "cell_type": "code",
      "source": [
        "def cek_kwargs(**kwargs):\n",
        "    print(kwargs)"
      ],
      "metadata": {
        "id": "dW8y3l2kH3Q0"
      },
      "execution_count": null,
      "outputs": []
    },
    {
      "cell_type": "code",
      "source": [
        "cek_kwargs(anak='gemuk')"
      ],
      "metadata": {
        "colab": {
          "base_uri": "https://localhost:8080/"
        },
        "id": "EE7S9Pr0IR1l",
        "outputId": "14576305-e38c-4df1-e327-766324371567"
      },
      "execution_count": null,
      "outputs": [
        {
          "output_type": "stream",
          "name": "stdout",
          "text": [
            "{'anak': 'gemuk'}\n"
          ]
        }
      ]
    },
    {
      "cell_type": "code",
      "source": [
        "cek_kwargs(anak=86)"
      ],
      "metadata": {
        "colab": {
          "base_uri": "https://localhost:8080/"
        },
        "id": "xMWcPpmDIYkx",
        "outputId": "4c261752-0225-488c-b00c-27b18210b456"
      },
      "execution_count": null,
      "outputs": [
        {
          "output_type": "stream",
          "name": "stdout",
          "text": [
            "{'anak': 86}\n"
          ]
        }
      ]
    },
    {
      "cell_type": "code",
      "source": [
        "def cek_berat(**kwargs):\n",
        "    if 'Budi' in kwargs:\n",
        "        print('Berat Budi tergolong ke kategori {}'.format(kwargs['Budi']))\n",
        "    else:\n",
        "        print('Budi tidak termasuk ke database kita')"
      ],
      "metadata": {
        "id": "fqZ0lOB3IgPf"
      },
      "execution_count": null,
      "outputs": []
    },
    {
      "cell_type": "code",
      "source": [
        "cek_berat(Budi='gemuk')"
      ],
      "metadata": {
        "colab": {
          "base_uri": "https://localhost:8080/"
        },
        "id": "_R_Wboh5JCm1",
        "outputId": "a110a296-9c42-4979-b989-54df5692f389"
      },
      "execution_count": null,
      "outputs": [
        {
          "output_type": "stream",
          "name": "stdout",
          "text": [
            "Berat Budi tergolong ke kategori gemuk\n"
          ]
        }
      ]
    },
    {
      "cell_type": "code",
      "source": [
        "cek_berat(Budi='gemuk', Joko='kurus')"
      ],
      "metadata": {
        "colab": {
          "base_uri": "https://localhost:8080/"
        },
        "id": "fHfILBI_JNeh",
        "outputId": "52b564d0-4fa7-4d08-a7dc-033bc62716e3"
      },
      "execution_count": null,
      "outputs": [
        {
          "output_type": "stream",
          "name": "stdout",
          "text": [
            "Berat Budi tergolong ke kategori gemuk\n"
          ]
        }
      ]
    },
    {
      "cell_type": "markdown",
      "source": [
        "Menggabungkan *args dan **kwargs"
      ],
      "metadata": {
        "id": "zIrtyG35LWCT"
      }
    },
    {
      "cell_type": "code",
      "source": [
        "  def fungsiku(*args,**kwargs):\n",
        "      print('Saya ingin membeli {} {} secara tunai'.format(args[0], kwargs['makanan']))"
      ],
      "metadata": {
        "id": "-osS1BIDJXqQ"
      },
      "execution_count": null,
      "outputs": []
    },
    {
      "cell_type": "code",
      "source": [
        "fungsiku(23, 56, 10, buah='apel', makanan='nasi goreng')"
      ],
      "metadata": {
        "colab": {
          "base_uri": "https://localhost:8080/"
        },
        "id": "pksEFLAyL2Mp",
        "outputId": "d1e42f7e-2c71-4052-ceaa-30dd88ad1396"
      },
      "execution_count": null,
      "outputs": [
        {
          "output_type": "stream",
          "name": "stdout",
          "text": [
            "Saya ingin membeli 23 nasi goreng secara tunai\n"
          ]
        }
      ]
    },
    {
      "cell_type": "markdown",
      "source": [
        "**SCOPE & L-E-G-B**"
      ],
      "metadata": {
        "id": "fDmxNHIUMh6K"
      }
    },
    {
      "cell_type": "code",
      "source": [
        "a = 1000\n",
        "\n",
        "def jumlah():\n",
        "    a = 79\n",
        "    return a"
      ],
      "metadata": {
        "id": "RD1sR0MoMKgl"
      },
      "execution_count": null,
      "outputs": []
    },
    {
      "cell_type": "code",
      "source": [
        "print(a)"
      ],
      "metadata": {
        "colab": {
          "base_uri": "https://localhost:8080/"
        },
        "id": "yH5RDhD-M_a5",
        "outputId": "7c260933-d31a-4024-f861-0787aec374d5"
      },
      "execution_count": null,
      "outputs": [
        {
          "output_type": "stream",
          "name": "stdout",
          "text": [
            "1000\n"
          ]
        }
      ]
    },
    {
      "cell_type": "code",
      "source": [
        "print(jumlah())"
      ],
      "metadata": {
        "colab": {
          "base_uri": "https://localhost:8080/"
        },
        "id": "sx9isDLyOeVv",
        "outputId": "e84658ea-8efe-462a-814d-0fe3084a08d3"
      },
      "execution_count": null,
      "outputs": [
        {
          "output_type": "stream",
          "name": "stdout",
          "text": [
            "79\n"
          ]
        }
      ]
    },
    {
      "cell_type": "markdown",
      "source": [
        "Urutan eksekusi Python\n",
        "\n",
        "*   L (Local) = variabel ini bersifat lokal, yang biasanya berada di dalam fungsi (def/lamda) tertentu.\n",
        "*   E (Enclosing function local) = variabel ini berada di dalam fungsi (def/lamda) mulai dari lingkup terdalam hingga keluar.\n",
        "*   G (Global) = variabel ini didefinisikan di luar, biasanya di tahap awal.\n",
        "*   B (Built-in) = variabel bawaan Python, seperti list, str, upper, dll."
      ],
      "metadata": {
        "id": "SHYF6r3ANCVs"
      }
    },
    {
      "cell_type": "code",
      "source": [
        "kalimat = 'Saya adalah GLOBAL'\n",
        "\n",
        "def cetak():\n",
        "    kalimat = 'Saya adalah LOCAL'\n",
        "\n",
        "    def eksekusi():\n",
        "        print('Halo hasilnya adalah '+kalimat)\n",
        "\n",
        "    eksekusi()"
      ],
      "metadata": {
        "id": "MpLfgxciNBHA"
      },
      "execution_count": null,
      "outputs": []
    },
    {
      "cell_type": "code",
      "source": [
        "cetak()"
      ],
      "metadata": {
        "colab": {
          "base_uri": "https://localhost:8080/"
        },
        "id": "sAEx4yNQO5Lk",
        "outputId": "9a9722c9-f69e-454e-8bc7-e4a085b4918d"
      },
      "execution_count": null,
      "outputs": [
        {
          "output_type": "stream",
          "name": "stdout",
          "text": [
            "Halo hasilnya adalah Saya adalah LOCAL\n"
          ]
        }
      ]
    },
    {
      "cell_type": "code",
      "source": [
        "kalimat = 'Saya adalah GLOBAL'\n",
        "\n",
        "def cetak():\n",
        "    # kalimat = 'Saya adalah LOCAL'\n",
        "\n",
        "    def eksekusi():\n",
        "        print('Halo hasilnya adalah '+kalimat)\n",
        "\n",
        "    eksekusi()"
      ],
      "metadata": {
        "id": "RMhE7j5uMADa"
      },
      "execution_count": null,
      "outputs": []
    },
    {
      "cell_type": "code",
      "source": [
        "cetak()"
      ],
      "metadata": {
        "colab": {
          "base_uri": "https://localhost:8080/"
        },
        "id": "TkDLOEY5QpuE",
        "outputId": "496d9993-5445-471a-b852-66d06ecbdf7a"
      },
      "execution_count": null,
      "outputs": [
        {
          "output_type": "stream",
          "name": "stdout",
          "text": [
            "Halo hasilnya adalah Saya adalah GLOBAL\n"
          ]
        }
      ]
    },
    {
      "cell_type": "code",
      "source": [
        "kalimat = 'Saya adalah GLOBAL'\n",
        "\n",
        "def cetak():\n",
        "    kalimat = 'Saya adalah LOCAL'\n",
        "\n",
        "    def eksekusi():\n",
        "        kalimat = 'Saya itu LOCAL BANGET'\n",
        "        print('Halo hasilnya adalah '+kalimat)\n",
        "\n",
        "    eksekusi()"
      ],
      "metadata": {
        "id": "l6Rt9u39QrCl"
      },
      "execution_count": null,
      "outputs": []
    },
    {
      "cell_type": "code",
      "source": [
        "cetak()"
      ],
      "metadata": {
        "colab": {
          "base_uri": "https://localhost:8080/"
        },
        "id": "MJyRs0TwRFP_",
        "outputId": "f8532126-3946-4fa6-8f9d-a5bd9fddf395"
      },
      "execution_count": null,
      "outputs": [
        {
          "output_type": "stream",
          "name": "stdout",
          "text": [
            "Halo hasilnya adalah Saya itu LOCAL BANGET\n"
          ]
        }
      ]
    },
    {
      "cell_type": "code",
      "source": [
        "angka = 99\n",
        "\n",
        "def tulis(angka):\n",
        "    print(f'Angka = {angka}') #penulisan ini sama dengan print('Angka = {}'.format{angka})"
      ],
      "metadata": {
        "id": "VsfVb82hRLL0"
      },
      "execution_count": null,
      "outputs": []
    },
    {
      "cell_type": "code",
      "source": [
        "tulis(angka)"
      ],
      "metadata": {
        "colab": {
          "base_uri": "https://localhost:8080/"
        },
        "id": "O8XbZe9JRxGA",
        "outputId": "1c982cea-a11d-431f-dc5f-215863bdbd98"
      },
      "execution_count": null,
      "outputs": [
        {
          "output_type": "stream",
          "name": "stdout",
          "text": [
            "Angka = 99\n"
          ]
        }
      ]
    },
    {
      "cell_type": "code",
      "source": [
        "angka = 99\n",
        "\n",
        "def tulis(angka):\n",
        "    print(f'Angka = {angka}') #penulisan ini sama dengan print('Angka = {}'.format{angka})\n",
        "\n",
        "    #mendefinisikan ulang sebuah variabel di fungsi\n",
        "    angka = 300\n",
        "    print(f'Angkanya sekarang saya ubah menjadi {angka}')"
      ],
      "metadata": {
        "id": "GvBfdxKIR__g"
      },
      "execution_count": null,
      "outputs": []
    },
    {
      "cell_type": "code",
      "source": [
        "print(angka)"
      ],
      "metadata": {
        "colab": {
          "base_uri": "https://localhost:8080/"
        },
        "id": "O8i_nyCtSfaL",
        "outputId": "da911852-99ac-4a1f-83b8-907ed5517e92"
      },
      "execution_count": null,
      "outputs": [
        {
          "output_type": "stream",
          "name": "stdout",
          "text": [
            "99\n"
          ]
        }
      ]
    },
    {
      "cell_type": "code",
      "source": [
        "angka = 99\n",
        "\n",
        "def tulis():\n",
        "    global angka\n",
        "\n",
        "    #mendefinisikan ulang sebuah variabel di fungsi\n",
        "    angka = 'GANTI LO'\n",
        "    print(f'Angkanya sekarang saya ubah menjadi {angka}')"
      ],
      "metadata": {
        "id": "JqwtGkHESiFY"
      },
      "execution_count": null,
      "outputs": []
    },
    {
      "cell_type": "code",
      "source": [
        "tulis()"
      ],
      "metadata": {
        "colab": {
          "base_uri": "https://localhost:8080/"
        },
        "id": "l2UsnjHkRIOL",
        "outputId": "9289a644-6359-41a0-dc43-2abe30e03f66"
      },
      "execution_count": null,
      "outputs": [
        {
          "output_type": "stream",
          "name": "stdout",
          "text": [
            "Angkanya sekarang saya ubah menjadi GANTI LO\n"
          ]
        }
      ]
    },
    {
      "cell_type": "code",
      "source": [
        "print(angka)"
      ],
      "metadata": {
        "colab": {
          "base_uri": "https://localhost:8080/"
        },
        "id": "JCQDJNn0Tcva",
        "outputId": "8a8ae25e-8cf1-46f4-fe39-dd83650f9a71"
      },
      "execution_count": null,
      "outputs": [
        {
          "output_type": "stream",
          "name": "stdout",
          "text": [
            "GANTI LO\n"
          ]
        }
      ]
    },
    {
      "cell_type": "code",
      "source": [
        "angka = 99\n",
        "\n",
        "def tulis(angka):\n",
        "\n",
        "    #mendefinisikan ulang sebuah variabel di fungsi\n",
        "    angka = 'GANTI LO'\n",
        "    print(f'Angkanya sekarang saya ubah menjadi {angka}')\n",
        "    return angka"
      ],
      "metadata": {
        "id": "kRexCF9vTiz2"
      },
      "execution_count": null,
      "outputs": []
    },
    {
      "cell_type": "code",
      "source": [
        "print(angka)"
      ],
      "metadata": {
        "colab": {
          "base_uri": "https://localhost:8080/"
        },
        "id": "wxAK5IemUAeu",
        "outputId": "df3fb8c4-9c56-465b-f779-2fe36e04ff43"
      },
      "execution_count": null,
      "outputs": [
        {
          "output_type": "stream",
          "name": "stdout",
          "text": [
            "99\n"
          ]
        }
      ]
    },
    {
      "cell_type": "markdown",
      "source": [
        "**MAP, Filter & Lambda**"
      ],
      "metadata": {
        "id": "bUPLD1-SUJjL"
      }
    },
    {
      "cell_type": "code",
      "source": [
        "#MAP\n",
        "\n",
        "def kali10(num):\n",
        "    return num*10"
      ],
      "metadata": {
        "id": "bkE51RDbUXcn"
      },
      "execution_count": null,
      "outputs": []
    },
    {
      "cell_type": "code",
      "source": [
        "kali10(76)"
      ],
      "metadata": {
        "colab": {
          "base_uri": "https://localhost:8080/"
        },
        "id": "1kGC7PB2UxNS",
        "outputId": "2520c7c1-b7c7-4362-ff71-95492965f03b"
      },
      "execution_count": null,
      "outputs": [
        {
          "output_type": "execute_result",
          "data": {
            "text/plain": [
              "760"
            ]
          },
          "metadata": {},
          "execution_count": 44
        }
      ]
    },
    {
      "cell_type": "code",
      "source": [
        "angka = [3,6,9]"
      ],
      "metadata": {
        "id": "8bYoES1UUzRc"
      },
      "execution_count": null,
      "outputs": []
    },
    {
      "cell_type": "code",
      "source": [
        "kali10(angka)\n",
        "#fungsi ini membuat semua variabel di dalam angka muncul sebanyak 10 kali"
      ],
      "metadata": {
        "colab": {
          "base_uri": "https://localhost:8080/"
        },
        "id": "kNt2_z0aU4Ab",
        "outputId": "38e20b52-ccdf-4683-9c62-0972abf0ee7f"
      },
      "execution_count": null,
      "outputs": [
        {
          "output_type": "execute_result",
          "data": {
            "text/plain": [
              "[3,\n",
              " 6,\n",
              " 9,\n",
              " 3,\n",
              " 6,\n",
              " 9,\n",
              " 3,\n",
              " 6,\n",
              " 9,\n",
              " 3,\n",
              " 6,\n",
              " 9,\n",
              " 3,\n",
              " 6,\n",
              " 9,\n",
              " 3,\n",
              " 6,\n",
              " 9,\n",
              " 3,\n",
              " 6,\n",
              " 9,\n",
              " 3,\n",
              " 6,\n",
              " 9,\n",
              " 3,\n",
              " 6,\n",
              " 9,\n",
              " 3,\n",
              " 6,\n",
              " 9]"
            ]
          },
          "metadata": {},
          "execution_count": 46
        }
      ]
    },
    {
      "cell_type": "code",
      "source": [
        "for item in map(kali10, angka):\n",
        "    print(item)"
      ],
      "metadata": {
        "colab": {
          "base_uri": "https://localhost:8080/"
        },
        "id": "q2dsJXbiU8QJ",
        "outputId": "2bf34c72-3caf-4b2f-8391-1fec6f3e63e2"
      },
      "execution_count": null,
      "outputs": [
        {
          "output_type": "stream",
          "name": "stdout",
          "text": [
            "30\n",
            "60\n",
            "90\n"
          ]
        }
      ]
    },
    {
      "cell_type": "code",
      "source": [
        "list(map(kali10,angka))"
      ],
      "metadata": {
        "colab": {
          "base_uri": "https://localhost:8080/"
        },
        "id": "xXbSSJIUVh9r",
        "outputId": "34372e6d-0401-4aa3-f7b6-646e7485434b"
      },
      "execution_count": null,
      "outputs": [
        {
          "output_type": "execute_result",
          "data": {
            "text/plain": [
              "[30, 60, 90]"
            ]
          },
          "metadata": {},
          "execution_count": 50
        }
      ]
    },
    {
      "cell_type": "code",
      "source": [
        "hasil = list(map(kali10,angka))\n",
        "hasil"
      ],
      "metadata": {
        "colab": {
          "base_uri": "https://localhost:8080/"
        },
        "id": "avoyak_KV-kJ",
        "outputId": "b051590c-fa5c-40f5-a690-465afffdd569"
      },
      "execution_count": null,
      "outputs": [
        {
          "output_type": "execute_result",
          "data": {
            "text/plain": [
              "[30, 60, 90]"
            ]
          },
          "metadata": {},
          "execution_count": 51
        }
      ]
    },
    {
      "cell_type": "code",
      "source": [
        "angka2 = (31,61,91)"
      ],
      "metadata": {
        "id": "EAhePPYfWCuc"
      },
      "execution_count": null,
      "outputs": []
    },
    {
      "cell_type": "code",
      "source": [
        "hasil2 = tuple(map(kali10, angka2))"
      ],
      "metadata": {
        "id": "w7LcU9CaWRN6"
      },
      "execution_count": null,
      "outputs": []
    },
    {
      "cell_type": "code",
      "source": [
        "hasil2"
      ],
      "metadata": {
        "colab": {
          "base_uri": "https://localhost:8080/"
        },
        "id": "edRZXO_5WVSe",
        "outputId": "373350bf-ca0a-4188-9d79-471e0141310f"
      },
      "execution_count": null,
      "outputs": [
        {
          "output_type": "execute_result",
          "data": {
            "text/plain": [
              "(310, 610, 910)"
            ]
          },
          "metadata": {},
          "execution_count": 54
        }
      ]
    },
    {
      "cell_type": "code",
      "source": [
        "def jumlahkata(kata):\n",
        "    if len(kata)%2 == 0:\n",
        "        return 'GENAP LHO'\n",
        "    else:\n",
        "        return 'GANJIL LHO'"
      ],
      "metadata": {
        "id": "ygm7YdXaWWcQ"
      },
      "execution_count": null,
      "outputs": []
    },
    {
      "cell_type": "code",
      "source": [
        "jumlahkata('hdjjieikdhdjvjvdd')"
      ],
      "metadata": {
        "colab": {
          "base_uri": "https://localhost:8080/",
          "height": 35
        },
        "id": "HXkbv7MRWuk6",
        "outputId": "633c2bb7-3228-4fbe-b9bd-1d317409e644"
      },
      "execution_count": null,
      "outputs": [
        {
          "output_type": "execute_result",
          "data": {
            "text/plain": [
              "'GANJIL LHO'"
            ],
            "application/vnd.google.colaboratory.intrinsic+json": {
              "type": "string"
            }
          },
          "metadata": {},
          "execution_count": 56
        }
      ]
    },
    {
      "cell_type": "code",
      "source": [
        "listkata = ['jdkljdkl','diuhiuf','hieuheig']"
      ],
      "metadata": {
        "id": "JRgy27oxWxN2"
      },
      "execution_count": null,
      "outputs": []
    },
    {
      "cell_type": "code",
      "source": [
        "list(map(jumlahkata,listkata))"
      ],
      "metadata": {
        "colab": {
          "base_uri": "https://localhost:8080/"
        },
        "id": "WpyXJGS-W9hO",
        "outputId": "547db8c7-7978-458b-fbc0-f6686edfb919"
      },
      "execution_count": null,
      "outputs": [
        {
          "output_type": "execute_result",
          "data": {
            "text/plain": [
              "['GENAP LHO', 'GANJIL LHO', 'GENAP LHO']"
            ]
          },
          "metadata": {},
          "execution_count": 58
        }
      ]
    },
    {
      "cell_type": "code",
      "source": [
        "# FILTER\n",
        "\n",
        "def cekgenap(num):\n",
        "    return num%2 == 0"
      ],
      "metadata": {
        "id": "iGqgsHH3Vq6Z"
      },
      "execution_count": null,
      "outputs": []
    },
    {
      "cell_type": "code",
      "source": [
        "cekgenap(7)"
      ],
      "metadata": {
        "colab": {
          "base_uri": "https://localhost:8080/"
        },
        "id": "34fE1fMwXUDQ",
        "outputId": "c4a528c5-d964-4dcf-b804-5867f7dd3ee6"
      },
      "execution_count": null,
      "outputs": [
        {
          "output_type": "execute_result",
          "data": {
            "text/plain": [
              "False"
            ]
          },
          "metadata": {},
          "execution_count": 60
        }
      ]
    },
    {
      "cell_type": "code",
      "source": [
        "nomor = [1,2,3,4,5,6,7,8,9,10]"
      ],
      "metadata": {
        "id": "mkNNFsWGXYJK"
      },
      "execution_count": null,
      "outputs": []
    },
    {
      "cell_type": "code",
      "source": [
        "list(filter(cekgenap, nomor)) #hasilnya dalam bentuk list"
      ],
      "metadata": {
        "colab": {
          "base_uri": "https://localhost:8080/"
        },
        "id": "hlr_uWjcXb4g",
        "outputId": "c079ddbe-1b26-4c7c-b0dd-9b7bcf3282b1"
      },
      "execution_count": null,
      "outputs": [
        {
          "output_type": "execute_result",
          "data": {
            "text/plain": [
              "[2, 4, 6, 8, 10]"
            ]
          },
          "metadata": {},
          "execution_count": 63
        }
      ]
    },
    {
      "cell_type": "code",
      "source": [
        "for item in filter(cekgenap, nomor):  #hasilnya dalam bentuk menurun\n",
        "    print(item)"
      ],
      "metadata": {
        "colab": {
          "base_uri": "https://localhost:8080/"
        },
        "id": "tXQ1gw30XoLa",
        "outputId": "f720b922-679d-4829-81bf-8a0ac8a5a9d7"
      },
      "execution_count": null,
      "outputs": [
        {
          "output_type": "stream",
          "name": "stdout",
          "text": [
            "2\n",
            "4\n",
            "6\n",
            "8\n",
            "10\n"
          ]
        }
      ]
    },
    {
      "cell_type": "code",
      "source": [
        "# map dan filter"
      ],
      "metadata": {
        "id": "Y6sPvuhmXyS6"
      },
      "execution_count": null,
      "outputs": []
    },
    {
      "cell_type": "markdown",
      "source": [
        "**Lambda Expression**"
      ],
      "metadata": {
        "id": "ZzhI8xMEYSlD"
      }
    },
    {
      "cell_type": "code",
      "source": [
        "def kali10a(num):\n",
        "    return num*10"
      ],
      "metadata": {
        "id": "4I_Tz8wOXgyP"
      },
      "execution_count": null,
      "outputs": []
    },
    {
      "cell_type": "code",
      "source": [
        "kali10a(6)"
      ],
      "metadata": {
        "colab": {
          "base_uri": "https://localhost:8080/"
        },
        "id": "jTpaI8jWYgsc",
        "outputId": "37e826af-eb18-45bf-c3b0-e5cbcde6c857"
      },
      "execution_count": null,
      "outputs": [
        {
          "output_type": "execute_result",
          "data": {
            "text/plain": [
              "60"
            ]
          },
          "metadata": {},
          "execution_count": 66
        }
      ]
    },
    {
      "cell_type": "code",
      "source": [
        "fungsiku = lambda x: x*10"
      ],
      "metadata": {
        "id": "JOL0Eel8Yim9"
      },
      "execution_count": null,
      "outputs": []
    },
    {
      "cell_type": "code",
      "source": [
        "fungsiku(60)"
      ],
      "metadata": {
        "colab": {
          "base_uri": "https://localhost:8080/"
        },
        "id": "ud67dIdnYvGI",
        "outputId": "14274ee5-5b15-4e0a-970c-0d9b6681cc6d"
      },
      "execution_count": null,
      "outputs": [
        {
          "output_type": "execute_result",
          "data": {
            "text/plain": [
              "600"
            ]
          },
          "metadata": {},
          "execution_count": 68
        }
      ]
    },
    {
      "cell_type": "code",
      "source": [
        "hasila = list(map(lambda x: x*10, angka))"
      ],
      "metadata": {
        "id": "vuJm1CFcYx7m"
      },
      "execution_count": null,
      "outputs": []
    },
    {
      "cell_type": "code",
      "source": [
        "hasila"
      ],
      "metadata": {
        "colab": {
          "base_uri": "https://localhost:8080/"
        },
        "id": "SJy9Kx4yZFys",
        "outputId": "95a672cc-e3c9-4d01-d176-7337474ac2a4"
      },
      "execution_count": null,
      "outputs": [
        {
          "output_type": "execute_result",
          "data": {
            "text/plain": [
              "[30, 60, 90]"
            ]
          },
          "metadata": {},
          "execution_count": 70
        }
      ]
    },
    {
      "cell_type": "code",
      "source": [
        "genapku = list(filter(lambda num: num%2 == 0, nomor))"
      ],
      "metadata": {
        "id": "sW8-l_SjZHI0"
      },
      "execution_count": null,
      "outputs": []
    },
    {
      "cell_type": "code",
      "source": [
        "genapku"
      ],
      "metadata": {
        "colab": {
          "base_uri": "https://localhost:8080/"
        },
        "id": "n0gz-3j1Za8n",
        "outputId": "d7ef89d4-eee8-4e88-aa6e-e9a083ce8841"
      },
      "execution_count": null,
      "outputs": [
        {
          "output_type": "execute_result",
          "data": {
            "text/plain": [
              "[2, 4, 6, 8, 10]"
            ]
          },
          "metadata": {},
          "execution_count": 75
        }
      ]
    },
    {
      "cell_type": "markdown",
      "source": [
        "### **Object Oriented Programming**"
      ],
      "metadata": {
        "id": "-xinf8HdasNv"
      }
    },
    {
      "cell_type": "code",
      "source": [
        "# Di Python semua adalah objek, seperti; lists, strings, dictionary, dll.\n",
        "# Di Python, objek disebut dengan istilah class.\n",
        "\n",
        "#Setelah mendefinisikan objek, kita bisa menggunakan methods dan attributes terhadap objek tersebut.\n",
        "\n",
        "#OOP memungkinkan programmer untuk menciptakan objek mereka sendiri, termasuk methods dan attributes-nya.\n",
        "\n",
        "#OOP memungkinkan kita membuat objek kita sendiri, termasuk methods dan attributes nya"
      ],
      "metadata": {
        "id": "dztRYu87a2M1"
      },
      "execution_count": null,
      "outputs": []
    },
    {
      "cell_type": "code",
      "source": [
        "print(type([]))\n",
        "print(type({}))\n",
        "print(type('saya adalah string'))\n",
        "print(type(12))\n",
        "print(type(13.98))\n",
        "print(type(()))\n",
        "print(type(True))\n",
        "print(type(None))"
      ],
      "metadata": {
        "colab": {
          "base_uri": "https://localhost:8080/"
        },
        "id": "tXY8E9bOcH8d",
        "outputId": "7b178f4a-9c46-4f70-83b3-6872f5cbbee2"
      },
      "execution_count": null,
      "outputs": [
        {
          "output_type": "stream",
          "name": "stdout",
          "text": [
            "<class 'list'>\n",
            "<class 'dict'>\n",
            "<class 'str'>\n",
            "<class 'int'>\n",
            "<class 'float'>\n",
            "<class 'tuple'>\n",
            "<class 'bool'>\n",
            "<class 'NoneType'>\n"
          ]
        }
      ]
    },
    {
      "cell_type": "markdown",
      "source": [
        "**Mendefinisikan Class**\n",
        "\n",
        "class NamaClass:\n",
        "\n",
        "    def_init_(self, nama_attribute1, nama_attribute2):\n",
        "        self.nama_attribute1 = nama_attribute1\n",
        "        self.nama_attribute2 = nama_attribute2\n",
        "\n",
        "    def nama_methode(self):\n",
        "      return #tulis fungsinya"
      ],
      "metadata": {
        "id": "ay5_ydFTetPw"
      }
    },
    {
      "cell_type": "code",
      "source": [
        "class Nama:\n",
        "    pass"
      ],
      "metadata": {
        "id": "stgjsjPTDfKh"
      },
      "execution_count": null,
      "outputs": []
    },
    {
      "cell_type": "code",
      "source": [
        "var1 = Nama()"
      ],
      "metadata": {
        "id": "6DoKxJHnEf69"
      },
      "execution_count": null,
      "outputs": []
    },
    {
      "cell_type": "code",
      "source": [
        "type(var1)"
      ],
      "metadata": {
        "colab": {
          "base_uri": "https://localhost:8080/"
        },
        "id": "dezqzNlqEkhm",
        "outputId": "8fd8598f-268e-411a-be64-9b913df3d917"
      },
      "execution_count": null,
      "outputs": [
        {
          "output_type": "execute_result",
          "data": {
            "text/plain": [
              "__main__.Nama"
            ]
          },
          "metadata": {},
          "execution_count": 3
        }
      ]
    },
    {
      "cell_type": "code",
      "source": [
        "# penulisan cara 2 : bisa juga dituliskan berbeda\n",
        "\n",
        "class Kulkas:\n",
        "    def __init__(self, merek1, harga1):\n",
        "        self.brand = merek1\n",
        "        self.price = harga1"
      ],
      "metadata": {
        "id": "-G6yATPUGE3o"
      },
      "execution_count": null,
      "outputs": []
    },
    {
      "cell_type": "code",
      "source": [
        "barang1 = Kulkas('Samsung', 500) #bisa juga dituliskan seperti ini"
      ],
      "metadata": {
        "id": "pazPho8wFvYd"
      },
      "execution_count": null,
      "outputs": []
    },
    {
      "cell_type": "code",
      "source": [
        "barang1.brand"
      ],
      "metadata": {
        "colab": {
          "base_uri": "https://localhost:8080/",
          "height": 36
        },
        "id": "QNhH0I59G8Fc",
        "outputId": "eb91abf9-368b-4db4-897e-9ebad56f179b"
      },
      "execution_count": null,
      "outputs": [
        {
          "output_type": "execute_result",
          "data": {
            "text/plain": [
              "'Samsung'"
            ],
            "application/vnd.google.colaboratory.intrinsic+json": {
              "type": "string"
            }
          },
          "metadata": {},
          "execution_count": 12
        }
      ]
    },
    {
      "cell_type": "code",
      "source": [
        "barang1.price"
      ],
      "metadata": {
        "colab": {
          "base_uri": "https://localhost:8080/"
        },
        "id": "kdudnK7XG-oy",
        "outputId": "23524f1d-8df0-4247-b793-e6954f784200"
      },
      "execution_count": null,
      "outputs": [
        {
          "output_type": "execute_result",
          "data": {
            "text/plain": [
              "500"
            ]
          },
          "metadata": {},
          "execution_count": 13
        }
      ]
    },
    {
      "cell_type": "code",
      "source": [
        "# penulisan cara 1 : dituliskan sama agar tidak membingungkan\n",
        "\n",
        "class Kulkas:\n",
        "    def __init__(self, merek, harga):\n",
        "        self.merek = merek\n",
        "        self.harga = harga"
      ],
      "metadata": {
        "id": "QxQMyTWgEmnL"
      },
      "execution_count": null,
      "outputs": []
    },
    {
      "cell_type": "code",
      "source": [
        "barang1 = Kulkas(merek='Samsung', harga=500) #bisa dituliskan seperti ini"
      ],
      "metadata": {
        "id": "Y9v0y0uYFQ0Q"
      },
      "execution_count": null,
      "outputs": []
    },
    {
      "cell_type": "code",
      "source": [
        "barang1.merek"
      ],
      "metadata": {
        "colab": {
          "base_uri": "https://localhost:8080/",
          "height": 36
        },
        "id": "SvIisW4jFyE0",
        "outputId": "684ec930-aa24-4757-cf85-725668b164d9"
      },
      "execution_count": null,
      "outputs": [
        {
          "output_type": "execute_result",
          "data": {
            "text/plain": [
              "'Samsung'"
            ],
            "application/vnd.google.colaboratory.intrinsic+json": {
              "type": "string"
            }
          },
          "metadata": {},
          "execution_count": 16
        }
      ]
    },
    {
      "cell_type": "code",
      "source": [
        "barang1.harga"
      ],
      "metadata": {
        "colab": {
          "base_uri": "https://localhost:8080/"
        },
        "id": "xBxbMR37GDW_",
        "outputId": "17edb9ad-3c5a-4b91-aac7-afeec7a75041"
      },
      "execution_count": null,
      "outputs": [
        {
          "output_type": "execute_result",
          "data": {
            "text/plain": [
              "500"
            ]
          },
          "metadata": {},
          "execution_count": 17
        }
      ]
    },
    {
      "cell_type": "code",
      "source": [
        "barang2 = Kulkas('Toshiba', 1200)"
      ],
      "metadata": {
        "id": "LqNC2jHEHAdV"
      },
      "execution_count": null,
      "outputs": []
    },
    {
      "cell_type": "code",
      "source": [
        "barang2.merek\n",
        "#self.merek <- self ini merepresantasikan barang2"
      ],
      "metadata": {
        "colab": {
          "base_uri": "https://localhost:8080/",
          "height": 36
        },
        "id": "AKI371d-H3Je",
        "outputId": "5d0c7bd2-57f1-4a9b-d63d-c4a1e946f905"
      },
      "execution_count": null,
      "outputs": [
        {
          "output_type": "execute_result",
          "data": {
            "text/plain": [
              "'Toshiba'"
            ],
            "application/vnd.google.colaboratory.intrinsic+json": {
              "type": "string"
            }
          },
          "metadata": {},
          "execution_count": 19
        }
      ]
    },
    {
      "cell_type": "code",
      "source": [
        "barang2.harga"
      ],
      "metadata": {
        "colab": {
          "base_uri": "https://localhost:8080/"
        },
        "id": "V0i_3DswH6nQ",
        "outputId": "71b4898c-3e18-4145-cf4f-b0bf83ce5f1c"
      },
      "execution_count": null,
      "outputs": [
        {
          "output_type": "execute_result",
          "data": {
            "text/plain": [
              "1200"
            ]
          },
          "metadata": {},
          "execution_count": 20
        }
      ]
    },
    {
      "cell_type": "code",
      "source": [
        "#Bisa menambah atribut lain\n",
        "class Kulkas:\n",
        "\n",
        "    def __init__(self, merek, harga): #yang wajib didefinisikan hanya 2 attribute (merek, harga)\n",
        "        self.merek = merek\n",
        "        self.harga = harga\n",
        "        self.garansi = 3\n",
        "        self.tenaga = 'listrik'"
      ],
      "metadata": {
        "id": "7kCshEHKH8bS"
      },
      "execution_count": null,
      "outputs": []
    },
    {
      "cell_type": "code",
      "source": [
        "barang2 = Kulkas('LG', 2000)"
      ],
      "metadata": {
        "id": "E6Ab2XvCI8p6"
      },
      "execution_count": null,
      "outputs": []
    },
    {
      "cell_type": "code",
      "source": [
        "barang2.garansi"
      ],
      "metadata": {
        "colab": {
          "base_uri": "https://localhost:8080/"
        },
        "id": "VVx1hnafI68m",
        "outputId": "88b60787-33f9-4ab4-9980-94ad127c05ee"
      },
      "execution_count": null,
      "outputs": [
        {
          "output_type": "execute_result",
          "data": {
            "text/plain": [
              "3"
            ]
          },
          "metadata": {},
          "execution_count": 28
        }
      ]
    },
    {
      "cell_type": "code",
      "source": [
        "barang2.tenaga"
      ],
      "metadata": {
        "colab": {
          "base_uri": "https://localhost:8080/",
          "height": 36
        },
        "id": "v6u3RXiwJIjH",
        "outputId": "4ac0d74f-0cff-4f16-cda0-c0ae5f78f651"
      },
      "execution_count": null,
      "outputs": [
        {
          "output_type": "execute_result",
          "data": {
            "text/plain": [
              "'listrik'"
            ],
            "application/vnd.google.colaboratory.intrinsic+json": {
              "type": "string"
            }
          },
          "metadata": {},
          "execution_count": 29
        }
      ]
    },
    {
      "cell_type": "code",
      "source": [
        "#cara yang lain\n",
        "\n",
        "class Kulkas:\n",
        "\n",
        "    # class object attribute (attribute ini bersifat global untuk class Kulkas)\n",
        "    penjual = 'Pak Mamat'\n",
        "\n",
        "    def __init__(self, merek, harga):\n",
        "        self.merek = merek\n",
        "        self.harga = harga\n",
        "        self.garansi = 3\n",
        "        self.tenaga = 'listrik'\n",
        "\n",
        "    def konsumsi(self):\n",
        "        print('500 watt')"
      ],
      "metadata": {
        "id": "2D_3Fv4xJrJa"
      },
      "execution_count": null,
      "outputs": []
    },
    {
      "cell_type": "code",
      "source": [
        "barang = Kulkas('LG', 200)"
      ],
      "metadata": {
        "id": "7ML9p70dKvNt"
      },
      "execution_count": null,
      "outputs": []
    },
    {
      "cell_type": "code",
      "source": [
        "barang.penjual"
      ],
      "metadata": {
        "colab": {
          "base_uri": "https://localhost:8080/",
          "height": 36
        },
        "id": "e0Lx7-5LK3Bf",
        "outputId": "1a18819c-131b-400b-b423-ba68c968f1d5"
      },
      "execution_count": null,
      "outputs": [
        {
          "output_type": "execute_result",
          "data": {
            "text/plain": [
              "'Pak Mamat'"
            ],
            "application/vnd.google.colaboratory.intrinsic+json": {
              "type": "string"
            }
          },
          "metadata": {},
          "execution_count": 37
        }
      ]
    },
    {
      "cell_type": "code",
      "source": [
        "barang.konsumsi() #utk menjalankan definisi dibawah __init__ (konsumsi) harus ditambahkan tanda dalam kurung"
      ],
      "metadata": {
        "colab": {
          "base_uri": "https://localhost:8080/"
        },
        "id": "IX1rhm4NK45E",
        "outputId": "6fa84bf7-f33c-4218-a9cf-56dd86f077b3"
      },
      "execution_count": null,
      "outputs": [
        {
          "output_type": "stream",
          "name": "stdout",
          "text": [
            "500 watt\n"
          ]
        }
      ]
    },
    {
      "cell_type": "code",
      "source": [
        "#cara yang lain\n",
        "\n",
        "class Kulkas:\n",
        "\n",
        "    # class object attribute (attribute ini bersifat global untuk class Kulkas)\n",
        "    penjual = 'Pak Mamat'\n",
        "\n",
        "    def __init__(self, merek, harga):\n",
        "        self.merek = merek\n",
        "        self.harga = harga\n",
        "        self.garansi = 3\n",
        "        self.tenaga = 'listrik'\n",
        "\n",
        "    def keterangan(self):\n",
        "        print('Kulkas merek {} harganya sebesar {}, dan nama penjualnya {}'.format(self.merek, self.harga, self.penjual))"
      ],
      "metadata": {
        "id": "1Y5lerspLQbi"
      },
      "execution_count": null,
      "outputs": []
    },
    {
      "cell_type": "code",
      "source": [
        "barang = Kulkas('LG', 200)"
      ],
      "metadata": {
        "id": "jsxi0gGXMJi8"
      },
      "execution_count": null,
      "outputs": []
    },
    {
      "cell_type": "code",
      "source": [
        "barang.keterangan()"
      ],
      "metadata": {
        "colab": {
          "base_uri": "https://localhost:8080/"
        },
        "id": "NOiLlKdTMNG6",
        "outputId": "d3fbf3ca-25ac-417d-9d0e-6a0a8bf4e451"
      },
      "execution_count": null,
      "outputs": [
        {
          "output_type": "stream",
          "name": "stdout",
          "text": [
            "Kulkas merek LG harganya sebesar 200, dan nama penjualnya Pak Mamat\n"
          ]
        }
      ]
    },
    {
      "cell_type": "code",
      "source": [
        "#cara yang lain\n",
        "\n",
        "class Kulkas:\n",
        "\n",
        "    # class object attribute (attribute ini bersifat global untuk class Kulkas)\n",
        "    penjual = 'Pak Mamat'\n",
        "\n",
        "    def __init__(self, merek, harga):\n",
        "        self.merek = merek\n",
        "        self.harga = harga\n",
        "        self.garansi = 3\n",
        "        self.tenaga = 'listrik'\n",
        "\n",
        "    def keterangan(self, anak):\n",
        "        print('Kulkas merek {} harganya sebesar {}, dan nama penjualnya {} yang punya {} anak'.format(self.merek, self.harga, self.penjual, anak))"
      ],
      "metadata": {
        "id": "Q3cmr9aXM3Cy"
      },
      "execution_count": null,
      "outputs": []
    },
    {
      "cell_type": "code",
      "source": [
        "barang = Kulkas('LG', 200)"
      ],
      "metadata": {
        "id": "XWxhP2G0NDD2"
      },
      "execution_count": null,
      "outputs": []
    },
    {
      "cell_type": "code",
      "source": [
        "barang.keterangan(5)"
      ],
      "metadata": {
        "colab": {
          "base_uri": "https://localhost:8080/"
        },
        "id": "-mCSJFXGNHYJ",
        "outputId": "c3219630-100b-47d2-f808-e988a9072bda"
      },
      "execution_count": null,
      "outputs": [
        {
          "output_type": "stream",
          "name": "stdout",
          "text": [
            "Kulkas merek LG harganya sebesar 200, dan nama penjualnya Pak Mamat yang punya 5 anak\n"
          ]
        }
      ]
    },
    {
      "cell_type": "code",
      "source": [
        "#menghitung Luas Lingkaran\n",
        "\n",
        "class Lingkaran:\n",
        "\n",
        "    # koefisien phi\n",
        "    phi = 3.14\n",
        "\n",
        "    def __init__(self, radius):\n",
        "        self.radius = radius\n",
        "\n",
        "    def keliling(self): #cara 1 penulisan def keliling\n",
        "        self.keliling = 2*self.phi*self.radius\n",
        "        return self.keliling\n",
        "\n",
        "    def keliling(self): #cara 2 penulisan def keliling\n",
        "        return 2*self.phi*self.radius\n",
        "\n",
        "    def Luas(self):\n",
        "        return self.phi*self.radius*self.radius"
      ],
      "metadata": {
        "id": "wE5HFpwSLyBa"
      },
      "execution_count": null,
      "outputs": []
    },
    {
      "cell_type": "code",
      "source": [
        "l1 = Lingkaran(10)"
      ],
      "metadata": {
        "id": "C5PkP4jIOs0l"
      },
      "execution_count": null,
      "outputs": []
    },
    {
      "cell_type": "code",
      "source": [
        "l1.keliling()"
      ],
      "metadata": {
        "colab": {
          "base_uri": "https://localhost:8080/"
        },
        "id": "wlHqhMxXOydl",
        "outputId": "dad7dbbb-8e66-4797-e745-efdb46d34751"
      },
      "execution_count": null,
      "outputs": [
        {
          "output_type": "execute_result",
          "data": {
            "text/plain": [
              "62.800000000000004"
            ]
          },
          "metadata": {},
          "execution_count": 56
        }
      ]
    },
    {
      "cell_type": "code",
      "source": [
        "l1.Luas()"
      ],
      "metadata": {
        "colab": {
          "base_uri": "https://localhost:8080/"
        },
        "id": "x9-D3OVXO0ep",
        "outputId": "3a4bbdaa-e53b-4717-b0eb-51071eff291f"
      },
      "execution_count": null,
      "outputs": [
        {
          "output_type": "execute_result",
          "data": {
            "text/plain": [
              "314.0"
            ]
          },
          "metadata": {},
          "execution_count": 58
        }
      ]
    },
    {
      "cell_type": "code",
      "source": [
        "#cara yang lebih singkat dalam menghitung Luas Lingkaran\n",
        "\n",
        "class Lingkaran:\n",
        "\n",
        "    # koefisien phi\n",
        "    phi = 3.14\n",
        "\n",
        "    def __init__(self, radius):\n",
        "        self.radius = radius\n",
        "        self.luas = 2*self.phi*radius*radius\n",
        "\n",
        "    def keliling(self): #cara 2 penulisan def keliling\n",
        "        return 2*self.phi*self.radius"
      ],
      "metadata": {
        "id": "zJSS2xEPO3h3"
      },
      "execution_count": null,
      "outputs": []
    },
    {
      "cell_type": "code",
      "source": [
        "l1 = Lingkaran(7)"
      ],
      "metadata": {
        "id": "eqX6TAuEPZ_1"
      },
      "execution_count": null,
      "outputs": []
    },
    {
      "cell_type": "code",
      "source": [
        "l1.luas #ini tidak ditambahkan tanda kurung setelah kata luas karena luas sudah ada di def pertama"
      ],
      "metadata": {
        "colab": {
          "base_uri": "https://localhost:8080/"
        },
        "id": "T3dVYgzaPd9n",
        "outputId": "b506ac70-28de-4500-8f55-fa0f7e700402"
      },
      "execution_count": null,
      "outputs": [
        {
          "output_type": "execute_result",
          "data": {
            "text/plain": [
              "307.72"
            ]
          },
          "metadata": {},
          "execution_count": 61
        }
      ]
    },
    {
      "cell_type": "markdown",
      "source": [
        "**Inheritance**"
      ],
      "metadata": {
        "id": "vJ4HkvjlP3dE"
      }
    },
    {
      "cell_type": "code",
      "source": [
        "class Mahasiswa:\n",
        "\n",
        "    status = 'Mahasiswa'\n",
        "\n",
        "    def __init__(self, nama, kelas):\n",
        "        self.nama = nama\n",
        "        self.kelas = kelas\n",
        "\n",
        "    def keterangan(self):\n",
        "        print('{} di kelas {} adalah seorang {}'.format(self.nama, self.kelas, self.status))"
      ],
      "metadata": {
        "id": "uAeUksk6N6WI"
      },
      "execution_count": null,
      "outputs": []
    },
    {
      "cell_type": "code",
      "source": [
        "Idar = Mahasiswa('Idar', 'IF 2025')"
      ],
      "metadata": {
        "id": "jxx6FOHlQdVb"
      },
      "execution_count": null,
      "outputs": []
    },
    {
      "cell_type": "code",
      "source": [
        "Idar.keterangan()"
      ],
      "metadata": {
        "colab": {
          "base_uri": "https://localhost:8080/"
        },
        "id": "JT0a8tkRQxxh",
        "outputId": "f378ffbd-f402-4512-b6bf-f24d7bddada7"
      },
      "execution_count": null,
      "outputs": [
        {
          "output_type": "stream",
          "name": "stdout",
          "text": [
            "Idar di kelas IF 2025 adalah seorang Mahasiswa\n"
          ]
        }
      ]
    },
    {
      "cell_type": "code",
      "source": [
        "class Nilai(Mahasiswa):\n",
        "\n",
        "     def __init__(self, nama, kelas):\n",
        "        super().__init__(nama, kelas) #fungsi ini sama dengan Mahasiswa.__init__(nama, kelas), tidak butuh menuliskan slef karna self sudah masuk ke dalam super\n",
        "        self.nilai_update = []\n",
        "\n",
        "     def input_nilai(self, tambah):\n",
        "        self.nilai_update.append(tambah)"
      ],
      "metadata": {
        "id": "vl7Dz4R9Q2op"
      },
      "execution_count": null,
      "outputs": []
    },
    {
      "cell_type": "code",
      "source": [
        "Idar = Nilai('Idar', 'IF 2025')"
      ],
      "metadata": {
        "id": "u40XwPX5YT5G"
      },
      "execution_count": null,
      "outputs": []
    },
    {
      "cell_type": "code",
      "source": [
        "Idar.input_nilai(99)"
      ],
      "metadata": {
        "id": "w3j0q-42Ym8g"
      },
      "execution_count": null,
      "outputs": []
    },
    {
      "cell_type": "code",
      "source": [
        "Idar.keterangan()"
      ],
      "metadata": {
        "colab": {
          "base_uri": "https://localhost:8080/"
        },
        "id": "WZormBXnYsXN",
        "outputId": "855d9a5e-fe7b-4e77-83d8-6546eeceb69d"
      },
      "execution_count": null,
      "outputs": [
        {
          "output_type": "stream",
          "name": "stdout",
          "text": [
            "Idar di kelas IF 2025 adalah seorang Mahasiswa\n"
          ]
        }
      ]
    },
    {
      "cell_type": "code",
      "source": [
        "Idar.nilai_update"
      ],
      "metadata": {
        "colab": {
          "base_uri": "https://localhost:8080/"
        },
        "id": "vu-02ctkYxFb",
        "outputId": "e07bb99e-7410-4fd0-fad6-5d094d7f8fd8"
      },
      "execution_count": null,
      "outputs": [
        {
          "output_type": "execute_result",
          "data": {
            "text/plain": [
              "[99]"
            ]
          },
          "metadata": {},
          "execution_count": 78
        }
      ]
    },
    {
      "cell_type": "markdown",
      "source": [
        "**Polymorphism**\n",
        "\n",
        "Fitur dari sebuah kelas/beberapa kelas bisa digunakan ke dalam sebuah fungsi dimana fungsi memiliki karakter dari objek yang dia pakai."
      ],
      "metadata": {
        "id": "lfzHob0VZUZA"
      }
    },
    {
      "cell_type": "code",
      "source": [
        "class Kucing:\n",
        "\n",
        "    def __init__(self, nama):\n",
        "        self.nama = nama\n",
        "\n",
        "    def respon(self):\n",
        "        return self.nama + ' Meong-Meong!'"
      ],
      "metadata": {
        "id": "8FwJqcsOZZUo"
      },
      "execution_count": null,
      "outputs": []
    },
    {
      "cell_type": "code",
      "source": [
        "class Anjing:\n",
        "\n",
        "    def __init__(self, nama):\n",
        "        self.nama = nama\n",
        "\n",
        "    def respon(self):\n",
        "        return self.nama + ' Guk-Guk!'"
      ],
      "metadata": {
        "id": "xm5Ov4ehaBTn"
      },
      "execution_count": null,
      "outputs": []
    },
    {
      "cell_type": "code",
      "source": [
        "anta = Kucing('Anta')"
      ],
      "metadata": {
        "id": "CXqOQfkNaEKR"
      },
      "execution_count": null,
      "outputs": []
    },
    {
      "cell_type": "code",
      "source": [
        "doggie = Anjing('Doggie')"
      ],
      "metadata": {
        "id": "0lAE8QbsaONv"
      },
      "execution_count": null,
      "outputs": []
    },
    {
      "cell_type": "code",
      "source": [
        "anta.respon()"
      ],
      "metadata": {
        "colab": {
          "base_uri": "https://localhost:8080/",
          "height": 36
        },
        "id": "zeR-ID9YaPrW",
        "outputId": "649637d2-5ea8-47be-8099-48a33bd16374"
      },
      "execution_count": null,
      "outputs": [
        {
          "output_type": "execute_result",
          "data": {
            "text/plain": [
              "'Anta Meong-Meong!'"
            ],
            "application/vnd.google.colaboratory.intrinsic+json": {
              "type": "string"
            }
          },
          "metadata": {},
          "execution_count": 90
        }
      ]
    },
    {
      "cell_type": "code",
      "source": [
        "doggie.respon()"
      ],
      "metadata": {
        "colab": {
          "base_uri": "https://localhost:8080/",
          "height": 36
        },
        "id": "eIVhfyFEaXdE",
        "outputId": "225f7c63-72de-4fba-9b09-04ad3596e553"
      },
      "execution_count": null,
      "outputs": [
        {
          "output_type": "execute_result",
          "data": {
            "text/plain": [
              "'Doggie Guk-Guk!'"
            ],
            "application/vnd.google.colaboratory.intrinsic+json": {
              "type": "string"
            }
          },
          "metadata": {},
          "execution_count": 91
        }
      ]
    },
    {
      "cell_type": "code",
      "source": [
        "for binatang in [anta, doggie]:\n",
        "    print(type(binatang))\n",
        "    print(binatang.respon())"
      ],
      "metadata": {
        "colab": {
          "base_uri": "https://localhost:8080/"
        },
        "id": "TWGBs2tiafU-",
        "outputId": "2fe2004a-e4b1-4a77-fa85-033503cbb66e"
      },
      "execution_count": null,
      "outputs": [
        {
          "output_type": "stream",
          "name": "stdout",
          "text": [
            "<class '__main__.Kucing'>\n",
            "Anta Meong-Meong!\n",
            "<class '__main__.Anjing'>\n",
            "Doggie Guk-Guk!\n"
          ]
        }
      ]
    },
    {
      "cell_type": "code",
      "source": [
        "#bisa juga menggunakan cara ini\n",
        "\n",
        "def  hewan_ngomong(binatang):\n",
        "    print(binatang.respon())"
      ],
      "metadata": {
        "id": "ZTdDnG1kat8F"
      },
      "execution_count": null,
      "outputs": []
    },
    {
      "cell_type": "code",
      "source": [
        "hewan_ngomong(anta)"
      ],
      "metadata": {
        "colab": {
          "base_uri": "https://localhost:8080/"
        },
        "id": "kKaVumIYbMmx",
        "outputId": "2d4de829-f4de-4e33-94d1-74baf8849e1c"
      },
      "execution_count": null,
      "outputs": [
        {
          "output_type": "stream",
          "name": "stdout",
          "text": [
            "Anta Meong-Meong!\n"
          ]
        }
      ]
    },
    {
      "cell_type": "markdown",
      "source": [
        "**Dunder/Magic Methods**\n"
      ],
      "metadata": {
        "id": "GfsEOe_7bzAA"
      }
    },
    {
      "cell_type": "code",
      "source": [
        "class Coba:\n",
        "\n",
        "    def __init__(self, nama):\n",
        "        self.nama = nama\n",
        "\n",
        "    def cetak(self):\n",
        "        return self.nama"
      ],
      "metadata": {
        "id": "xZ8RBJIyb7Ao"
      },
      "execution_count": null,
      "outputs": []
    },
    {
      "cell_type": "code",
      "source": [
        "coba = Coba('testing')"
      ],
      "metadata": {
        "id": "z9u6QIkOcLGW"
      },
      "execution_count": null,
      "outputs": []
    },
    {
      "cell_type": "code",
      "source": [
        "coba.cetak()"
      ],
      "metadata": {
        "colab": {
          "base_uri": "https://localhost:8080/",
          "height": 36
        },
        "id": "cG5OwJL_cQ2Y",
        "outputId": "b7a7551f-8f5c-4e40-dbd5-a560439ab28f"
      },
      "execution_count": null,
      "outputs": [
        {
          "output_type": "execute_result",
          "data": {
            "text/plain": [
              "'testing'"
            ],
            "application/vnd.google.colaboratory.intrinsic+json": {
              "type": "string"
            }
          },
          "metadata": {},
          "execution_count": 105
        }
      ]
    },
    {
      "cell_type": "code",
      "source": [
        "print(dir(coba))\n",
        "#ini adalah sekian banyak methode yang tersembunyi, semua methods ini adalah dunder methods artinya methods ini dimungkinkan digunakan oleh ojek 'Coba', tapi tidak disarankan untuk mengubah kecuali tau tujuannya."
      ],
      "metadata": {
        "colab": {
          "base_uri": "https://localhost:8080/"
        },
        "id": "Gv0-YP5-cSYE",
        "outputId": "2828c83b-2266-4398-9817-cc5b8bde06c8"
      },
      "execution_count": null,
      "outputs": [
        {
          "output_type": "stream",
          "name": "stdout",
          "text": [
            "['__class__', '__delattr__', '__dict__', '__dir__', '__doc__', '__eq__', '__format__', '__ge__', '__getattribute__', '__getstate__', '__gt__', '__hash__', '__init__', '__init_subclass__', '__le__', '__lt__', '__module__', '__ne__', '__new__', '__reduce__', '__reduce_ex__', '__repr__', '__setattr__', '__sizeof__', '__str__', '__subclasshook__', '__weakref__', 'cetak', 'nama']\n"
          ]
        }
      ]
    },
    {
      "cell_type": "code",
      "source": [
        "# Change from ___str__ to __str__\n",
        "coba.__str__()"
      ],
      "metadata": {
        "colab": {
          "base_uri": "https://localhost:8080/",
          "height": 36
        },
        "id": "xh5ABV9ZcYOe",
        "outputId": "01694d05-b1f1-455a-bb6f-4491b9c26b42"
      },
      "execution_count": null,
      "outputs": [
        {
          "output_type": "execute_result",
          "data": {
            "text/plain": [
              "'<__main__.Coba object at 0x7fa9529ea890>'"
            ],
            "application/vnd.google.colaboratory.intrinsic+json": {
              "type": "string"
            }
          },
          "metadata": {},
          "execution_count": 112
        }
      ]
    },
    {
      "cell_type": "code",
      "source": [
        "str(coba)"
      ],
      "metadata": {
        "colab": {
          "base_uri": "https://localhost:8080/",
          "height": 36
        },
        "id": "buYzfgwudL9I",
        "outputId": "ba868881-b32f-43e4-d885-486f8412d530"
      },
      "execution_count": null,
      "outputs": [
        {
          "output_type": "execute_result",
          "data": {
            "text/plain": [
              "'<__main__.Coba object at 0x7fa9529ea890>'"
            ],
            "application/vnd.google.colaboratory.intrinsic+json": {
              "type": "string"
            }
          },
          "metadata": {},
          "execution_count": 113
        }
      ]
    },
    {
      "cell_type": "code",
      "source": [
        "#menambahkan def str\n",
        "\n",
        "class Coba:\n",
        "\n",
        "    def __init__(self, nama, angka, kata):\n",
        "        self.nama = nama\n",
        "        self.angka = angka\n",
        "        self.kata = kata\n",
        "\n",
        "    def cetak(self):\n",
        "        return self.nama\n",
        "\n",
        "    def __str__(self):\n",
        "        return self.nama"
      ],
      "metadata": {
        "id": "VQSzqwLFdAdV"
      },
      "execution_count": null,
      "outputs": []
    },
    {
      "cell_type": "code",
      "source": [
        "coba = Coba('Idar',20,'sehat')"
      ],
      "metadata": {
        "id": "s_px3EH9d5kJ"
      },
      "execution_count": null,
      "outputs": []
    },
    {
      "cell_type": "code",
      "source": [
        "coba.cetak()"
      ],
      "metadata": {
        "colab": {
          "base_uri": "https://localhost:8080/",
          "height": 36
        },
        "id": "37GCsKbFd_Vs",
        "outputId": "d0509a20-8679-4e3f-b9dd-4a66301262c3"
      },
      "execution_count": null,
      "outputs": [
        {
          "output_type": "execute_result",
          "data": {
            "text/plain": [
              "'Idar'"
            ],
            "application/vnd.google.colaboratory.intrinsic+json": {
              "type": "string"
            }
          },
          "metadata": {},
          "execution_count": 116
        }
      ]
    },
    {
      "cell_type": "code",
      "source": [
        "str(coba)"
      ],
      "metadata": {
        "colab": {
          "base_uri": "https://localhost:8080/",
          "height": 36
        },
        "id": "8DUUTEM9eCTr",
        "outputId": "7b0bc0ee-5f21-4bf3-9e0d-13aa2c73b6dc"
      },
      "execution_count": null,
      "outputs": [
        {
          "output_type": "execute_result",
          "data": {
            "text/plain": [
              "'Idar'"
            ],
            "application/vnd.google.colaboratory.intrinsic+json": {
              "type": "string"
            }
          },
          "metadata": {},
          "execution_count": 117
        }
      ]
    },
    {
      "cell_type": "markdown",
      "source": [
        "Tantangan OOP\n",
        "\n",
        "\n",
        "Buatlah sebuah class dengan nama RekeningBank.\n",
        "\n",
        "Kemudian class ini memiliki method seperti mencetak saldo, menabung dan menarik uang.\n",
        "\n",
        "Jika rekeningnya kurang, maka akan menunjukkan bahwa saldo tidak bisa ditarik karena tidak mencukupi."
      ],
      "metadata": {
        "id": "S0gmUE0BgVu4"
      }
    },
    {
      "cell_type": "code",
      "source": [
        "class RekeningBank:\n",
        "\n",
        "    def __init__(self, tabungan):\n",
        "         self.tabungan = tabungan\n",
        "\n",
        "    def cek_saldo(self):\n",
        "        print('Jumlah saldo Anda adalah = Rp.{}'.format(self.tabungan))\n",
        "\n",
        "    def menabung(self, jumlah):\n",
        "        tambah = int(input('Masukkan jumlah yang ingin ditabung = '))\n",
        "        self.tabungan += jumlah #self.tabungan = self.tabungan + tambah\n",
        "\n",
        "    def menarik(self):\n",
        "        kurang = int(input('Masukkan jumlah yang ingin ditarik = '))\n",
        "        if self.tabungan < kurang:\n",
        "            print('Maaf saldo Anda tidak mencukupi \\nSaldo Anda saat ini adalah {}'.format(self.tabungan))\n",
        "        else:\n",
        "            self.tabungan -= kurang # self.tabungan = self.tabungan - kurang"
      ],
      "metadata": {
        "id": "Gn0Un8vff2fK"
      },
      "execution_count": null,
      "outputs": []
    },
    {
      "cell_type": "code",
      "source": [
        "tabunganku = RekeningBank(10000)"
      ],
      "metadata": {
        "id": "I0HtX6IWc1Wz"
      },
      "execution_count": null,
      "outputs": []
    },
    {
      "cell_type": "code",
      "source": [
        "tabunganku.cek_saldo()"
      ],
      "metadata": {
        "colab": {
          "base_uri": "https://localhost:8080/"
        },
        "id": "D-6bvsmuFmUg",
        "outputId": "133ff881-ffe6-4527-af16-8c8caed08aec"
      },
      "execution_count": null,
      "outputs": [
        {
          "output_type": "stream",
          "name": "stdout",
          "text": [
            "Jumlah saldo Anda adalah = Rp.10000\n"
          ]
        }
      ]
    },
    {
      "cell_type": "code",
      "source": [
        "tabunganku.menabung()"
      ],
      "metadata": {
        "colab": {
          "base_uri": "https://localhost:8080/"
        },
        "id": "Qm8BiFiXFqRG",
        "outputId": "4346de90-dadc-43c8-8ef5-c73187c16b5f"
      },
      "execution_count": null,
      "outputs": [
        {
          "name": "stdout",
          "output_type": "stream",
          "text": [
            "Masukkan jumlah yang ingin ditabung = 100000\n"
          ]
        }
      ]
    },
    {
      "cell_type": "code",
      "source": [
        "tabunganku.cek_saldo()"
      ],
      "metadata": {
        "colab": {
          "base_uri": "https://localhost:8080/"
        },
        "id": "vqrcZhT5FvM3",
        "outputId": "ca397319-9ae5-4135-d246-a846748e8154"
      },
      "execution_count": null,
      "outputs": [
        {
          "output_type": "stream",
          "name": "stdout",
          "text": [
            "Jumlah saldo Anda adalah = Rp.20000\n"
          ]
        }
      ]
    },
    {
      "cell_type": "code",
      "source": [
        "tabunganku.menarik()"
      ],
      "metadata": {
        "colab": {
          "base_uri": "https://localhost:8080/"
        },
        "id": "BdW0IVFSF3MI",
        "outputId": "43343e0a-796c-49fb-b152-249bfa4e3951"
      },
      "execution_count": null,
      "outputs": [
        {
          "output_type": "stream",
          "name": "stdout",
          "text": [
            "Masukkan jumlah yang ingin ditarik = 50000\n",
            "Maaf saldo Anda tidak mencukupi \n",
            "Saldo Anda saat ini adalah 20000\n"
          ]
        }
      ]
    },
    {
      "cell_type": "markdown",
      "source": [
        "## Numpy"
      ],
      "metadata": {
        "id": "DVWFNkmTGSf3"
      }
    },
    {
      "cell_type": "markdown",
      "source": [
        "Apa itu Numpy?\n",
        "\n",
        "\n",
        "*   Library aljabar linear untuk Python\n",
        "*   Numpy sering dipakai dalam konteks AI & Data Science\n",
        "*   Numpy sangat cepat dan dibangun melalui Bahasa C\n",
        "\n"
      ],
      "metadata": {
        "id": "MEJVeD7mGisc"
      }
    },
    {
      "cell_type": "markdown",
      "source": [
        "Menginstall Numpy\n",
        "\n",
        "\n",
        "*   Direkomendasikan melalui Anaconda\n",
        "*   Anaconda prompt -> conda install numpy\n",
        "*   Command line -> pip install numpy"
      ],
      "metadata": {
        "id": "0TIneI9CG-kW"
      }
    },
    {
      "cell_type": "code",
      "source": [
        "import numpy as np"
      ],
      "metadata": {
        "id": "M2dOjyKcGdsf"
      },
      "execution_count": null,
      "outputs": []
    },
    {
      "cell_type": "code",
      "source": [
        "angka = [1,2,3]"
      ],
      "metadata": {
        "id": "9p7EZmV5H6n9"
      },
      "execution_count": null,
      "outputs": []
    },
    {
      "cell_type": "code",
      "source": [
        "angkanp = np.array(angka)"
      ],
      "metadata": {
        "id": "3XW-ZPMiIAV7"
      },
      "execution_count": null,
      "outputs": []
    },
    {
      "cell_type": "code",
      "source": [
        "angkanp"
      ],
      "metadata": {
        "colab": {
          "base_uri": "https://localhost:8080/"
        },
        "id": "MUp4xlPvJgsN",
        "outputId": "ea9366d0-58f7-499e-ab23-d5230ddb6791"
      },
      "execution_count": null,
      "outputs": [
        {
          "output_type": "execute_result",
          "data": {
            "text/plain": [
              "array([1, 2, 3])"
            ]
          },
          "metadata": {},
          "execution_count": 133
        }
      ]
    },
    {
      "cell_type": "code",
      "source": [
        "angka*3 #ini output klo menggunakan list"
      ],
      "metadata": {
        "colab": {
          "base_uri": "https://localhost:8080/"
        },
        "id": "_6fMTM4yJiG7",
        "outputId": "0d08f522-246f-4085-d2cd-bb3571f8d6c8"
      },
      "execution_count": null,
      "outputs": [
        {
          "output_type": "execute_result",
          "data": {
            "text/plain": [
              "[1, 2, 3, 1, 2, 3, 1, 2, 3]"
            ]
          },
          "metadata": {},
          "execution_count": 134
        }
      ]
    },
    {
      "cell_type": "code",
      "source": [
        "angkanp*3 #nilai dalam np dikali 3, hasil menjadi 1 baris vektor"
      ],
      "metadata": {
        "colab": {
          "base_uri": "https://localhost:8080/"
        },
        "id": "nSb0pX-nJkuS",
        "outputId": "9077ecf9-1df1-4aca-bfd5-d241ad0c2097"
      },
      "execution_count": null,
      "outputs": [
        {
          "output_type": "execute_result",
          "data": {
            "text/plain": [
              "array([3, 6, 9])"
            ]
          },
          "metadata": {},
          "execution_count": 135
        }
      ]
    },
    {
      "cell_type": "code",
      "source": [
        "varsilist = [[1,2,3],[4,5,6],[7,8,9]]\n",
        "varsilist"
      ],
      "metadata": {
        "colab": {
          "base_uri": "https://localhost:8080/"
        },
        "id": "t-g9eneyKEyi",
        "outputId": "ce6f53a6-3497-4d29-c5be-cd7926e52c64"
      },
      "execution_count": null,
      "outputs": [
        {
          "output_type": "execute_result",
          "data": {
            "text/plain": [
              "[[1, 2, 3], [4, 5, 6], [7, 8, 9]]"
            ]
          },
          "metadata": {},
          "execution_count": 138
        }
      ]
    },
    {
      "cell_type": "code",
      "source": [
        "versinumpy = np.array(varsilist)\n",
        "versinumpy"
      ],
      "metadata": {
        "colab": {
          "base_uri": "https://localhost:8080/"
        },
        "id": "108uOfC0KZ8D",
        "outputId": "7221d784-5234-47e3-fe33-d12982ebacbd"
      },
      "execution_count": null,
      "outputs": [
        {
          "output_type": "execute_result",
          "data": {
            "text/plain": [
              "array([[1, 2, 3],\n",
              "       [4, 5, 6],\n",
              "       [7, 8, 9]])"
            ]
          },
          "metadata": {},
          "execution_count": 139
        }
      ]
    },
    {
      "cell_type": "code",
      "source": [
        "np.arange(0,10)"
      ],
      "metadata": {
        "colab": {
          "base_uri": "https://localhost:8080/"
        },
        "id": "x_pDJttXKYkS",
        "outputId": "85224bde-9ae1-40f4-97e1-012bf89b0702"
      },
      "execution_count": null,
      "outputs": [
        {
          "output_type": "execute_result",
          "data": {
            "text/plain": [
              "array([0, 1, 2, 3, 4, 5, 6, 7, 8, 9])"
            ]
          },
          "metadata": {},
          "execution_count": 141
        }
      ]
    },
    {
      "cell_type": "code",
      "source": [
        "np.arange(0,20,3)"
      ],
      "metadata": {
        "colab": {
          "base_uri": "https://localhost:8080/"
        },
        "id": "-vKTi2GcK0W2",
        "outputId": "5d46e733-2ca7-4f12-869d-86f27b3c931e"
      },
      "execution_count": null,
      "outputs": [
        {
          "output_type": "execute_result",
          "data": {
            "text/plain": [
              "array([ 0,  3,  6,  9, 12, 15, 18])"
            ]
          },
          "metadata": {},
          "execution_count": 142
        }
      ]
    },
    {
      "cell_type": "code",
      "source": [
        "np.zeros(5)"
      ],
      "metadata": {
        "colab": {
          "base_uri": "https://localhost:8080/"
        },
        "id": "qaIa7fTcK7XX",
        "outputId": "85eca31d-8ed6-415d-c8d4-a649ace873aa"
      },
      "execution_count": null,
      "outputs": [
        {
          "output_type": "execute_result",
          "data": {
            "text/plain": [
              "array([0., 0., 0., 0., 0.])"
            ]
          },
          "metadata": {},
          "execution_count": 143
        }
      ]
    },
    {
      "cell_type": "code",
      "source": [
        "np.zeros((2,4))"
      ],
      "metadata": {
        "colab": {
          "base_uri": "https://localhost:8080/"
        },
        "id": "KaIxOs88LhrO",
        "outputId": "db3939cb-5143-40af-e7b3-44434be3c796"
      },
      "execution_count": null,
      "outputs": [
        {
          "output_type": "execute_result",
          "data": {
            "text/plain": [
              "array([[0., 0., 0., 0.],\n",
              "       [0., 0., 0., 0.]])"
            ]
          },
          "metadata": {},
          "execution_count": 144
        }
      ]
    },
    {
      "cell_type": "code",
      "source": [
        "np.ones((2,4))"
      ],
      "metadata": {
        "colab": {
          "base_uri": "https://localhost:8080/"
        },
        "id": "bvop56bvLkjN",
        "outputId": "5ebdea9f-43f0-4441-c7cb-ab3708fcebfe"
      },
      "execution_count": null,
      "outputs": [
        {
          "output_type": "execute_result",
          "data": {
            "text/plain": [
              "array([[1., 1., 1., 1.],\n",
              "       [1., 1., 1., 1.]])"
            ]
          },
          "metadata": {},
          "execution_count": 145
        }
      ]
    },
    {
      "cell_type": "code",
      "source": [
        "np.linspace(0,8,10)"
      ],
      "metadata": {
        "colab": {
          "base_uri": "https://localhost:8080/"
        },
        "id": "2wTv1Kk1L4pk",
        "outputId": "6048023c-992d-455f-f51a-758cd247c2d6"
      },
      "execution_count": null,
      "outputs": [
        {
          "output_type": "execute_result",
          "data": {
            "text/plain": [
              "array([0.        , 0.88888889, 1.77777778, 2.66666667, 3.55555556,\n",
              "       4.44444444, 5.33333333, 6.22222222, 7.11111111, 8.        ])"
            ]
          },
          "metadata": {},
          "execution_count": 149
        }
      ]
    },
    {
      "cell_type": "code",
      "source": [
        "np.linspace(0,2,1)"
      ],
      "metadata": {
        "colab": {
          "base_uri": "https://localhost:8080/"
        },
        "id": "D5-rfRcWMK1y",
        "outputId": "f1685f2e-fdd0-4444-868c-8aa49533fe62"
      },
      "execution_count": null,
      "outputs": [
        {
          "output_type": "execute_result",
          "data": {
            "text/plain": [
              "array([0.])"
            ]
          },
          "metadata": {},
          "execution_count": 150
        }
      ]
    },
    {
      "cell_type": "markdown",
      "source": [
        "**Identity Matrix**"
      ],
      "metadata": {
        "id": "ybjRTE6tMop_"
      }
    },
    {
      "cell_type": "code",
      "source": [
        "np.identity(3)"
      ],
      "metadata": {
        "colab": {
          "base_uri": "https://localhost:8080/"
        },
        "id": "23WWmn87MPPe",
        "outputId": "7dac0dfd-b6ba-4998-9318-0d462924f8ca"
      },
      "execution_count": null,
      "outputs": [
        {
          "output_type": "execute_result",
          "data": {
            "text/plain": [
              "array([[1., 0., 0.],\n",
              "       [0., 1., 0.],\n",
              "       [0., 0., 1.]])"
            ]
          },
          "metadata": {},
          "execution_count": 151
        }
      ]
    },
    {
      "cell_type": "code",
      "source": [
        "np.eye(3)"
      ],
      "metadata": {
        "colab": {
          "base_uri": "https://localhost:8080/"
        },
        "id": "CzzptOLcMx6K",
        "outputId": "53ffc2ea-3eaa-4edc-b2ed-83c5dfd838dd"
      },
      "execution_count": null,
      "outputs": [
        {
          "output_type": "execute_result",
          "data": {
            "text/plain": [
              "array([[1., 0., 0.],\n",
              "       [0., 1., 0.],\n",
              "       [0., 0., 1.]])"
            ]
          },
          "metadata": {},
          "execution_count": 152
        }
      ]
    },
    {
      "cell_type": "markdown",
      "source": [
        "**Numpy Part 2**\n",
        "\n",
        "Indexing & Slicing"
      ],
      "metadata": {
        "id": "64HXlROLNDHp"
      }
    },
    {
      "cell_type": "code",
      "source": [
        "import numpy as np"
      ],
      "metadata": {
        "id": "n9p9iihINBK_"
      },
      "execution_count": null,
      "outputs": []
    },
    {
      "cell_type": "code",
      "source": [
        "#bilangan distribusi uniform (0-1)\n",
        "\n",
        "np.random.rand(7)"
      ],
      "metadata": {
        "colab": {
          "base_uri": "https://localhost:8080/"
        },
        "id": "0lqMOLrLNQmx",
        "outputId": "011944a0-01fc-464d-b7ab-2fe43842388e"
      },
      "execution_count": null,
      "outputs": [
        {
          "output_type": "execute_result",
          "data": {
            "text/plain": [
              "array([0.9430404 , 0.35310772, 0.49585491, 0.49003311, 0.28918018,\n",
              "       0.78481795, 0.75237657])"
            ]
          },
          "metadata": {},
          "execution_count": 154
        }
      ]
    },
    {
      "cell_type": "code",
      "source": [
        "#bilangan distribusi uniform (0-1) matriks 2 dimensi\n",
        "\n",
        "np.random.rand(5,4)"
      ],
      "metadata": {
        "colab": {
          "base_uri": "https://localhost:8080/"
        },
        "id": "4y50d9DYNfgB",
        "outputId": "6e5c8cd4-d204-43e6-c3b4-fd01ec7734c0"
      },
      "execution_count": null,
      "outputs": [
        {
          "output_type": "execute_result",
          "data": {
            "text/plain": [
              "array([[0.32995662, 0.72208551, 0.94103167, 0.69664089],\n",
              "       [0.93149092, 0.3195989 , 0.35749949, 0.86339548],\n",
              "       [0.7976556 , 0.10361218, 0.3358437 , 0.95003403],\n",
              "       [0.94313565, 0.96489952, 0.71740039, 0.1716357 ],\n",
              "       [0.81630789, 0.01739791, 0.4367334 , 0.07346792]])"
            ]
          },
          "metadata": {},
          "execution_count": 155
        }
      ]
    },
    {
      "cell_type": "code",
      "source": [
        "# distribusi normal (gaussian)\n",
        "\n",
        "np.random.randn(5) #cara penulisannya sama hanya ditambahkan n pada rand pada distribusi normal(gaussian)"
      ],
      "metadata": {
        "colab": {
          "base_uri": "https://localhost:8080/"
        },
        "id": "rnDu0l2cNsOS",
        "outputId": "be3ffc43-3157-411f-9a34-d54c8817331d"
      },
      "execution_count": null,
      "outputs": [
        {
          "output_type": "execute_result",
          "data": {
            "text/plain": [
              "array([-0.87986571, -0.53294165,  2.54447308, -0.05194882,  0.47129464])"
            ]
          },
          "metadata": {},
          "execution_count": 156
        }
      ]
    },
    {
      "cell_type": "code",
      "source": [
        "# distribusi normal (gaussian)\n",
        "\n",
        "np.random.randn(10)"
      ],
      "metadata": {
        "colab": {
          "base_uri": "https://localhost:8080/"
        },
        "id": "aoSxu324N3_4",
        "outputId": "9430f270-db06-4041-8f8b-439b2344ea62"
      },
      "execution_count": null,
      "outputs": [
        {
          "output_type": "execute_result",
          "data": {
            "text/plain": [
              "array([ 1.68276027,  1.06220522,  0.70738563,  0.51514772, -0.21635772,\n",
              "        1.80855686, -0.70951596, -1.84303481, -1.21013599,  0.22266846])"
            ]
          },
          "metadata": {},
          "execution_count": 157
        }
      ]
    },
    {
      "cell_type": "code",
      "source": [
        "# distribusi normal (gaussian) matriks 2 dimensi\n",
        "\n",
        "np.random.randn(4,4)"
      ],
      "metadata": {
        "colab": {
          "base_uri": "https://localhost:8080/"
        },
        "id": "lNvnJX4iN9qm",
        "outputId": "13dce19f-f52e-47f7-dafd-1276361aac58"
      },
      "execution_count": null,
      "outputs": [
        {
          "output_type": "execute_result",
          "data": {
            "text/plain": [
              "array([[-0.75433593,  1.52085837,  0.15307786,  0.66392102],\n",
              "       [-0.59225873,  0.63437998, -0.27689287, -1.03059283],\n",
              "       [ 1.17607021,  0.61936595,  1.44273958,  0.82735413],\n",
              "       [ 0.50051465, -0.46258429, -0.02994889,  0.68322734]])"
            ]
          },
          "metadata": {},
          "execution_count": 158
        }
      ]
    },
    {
      "cell_type": "code",
      "source": [
        "from numpy.random import randn"
      ],
      "metadata": {
        "id": "9YNsikcROMTK"
      },
      "execution_count": null,
      "outputs": []
    },
    {
      "cell_type": "code",
      "source": [
        "randn(6,2)"
      ],
      "metadata": {
        "colab": {
          "base_uri": "https://localhost:8080/"
        },
        "id": "NbmFme1HOtLz",
        "outputId": "46a8979c-5e9a-4e25-baa8-6255576a81cd"
      },
      "execution_count": null,
      "outputs": [
        {
          "output_type": "execute_result",
          "data": {
            "text/plain": [
              "array([[ 0.85521715, -0.44094841],\n",
              "       [ 1.91167773,  0.05438929],\n",
              "       [-0.7166812 , -0.94198647],\n",
              "       [ 0.86439113,  0.52548829],\n",
              "       [ 0.2906774 ,  0.9232103 ],\n",
              "       [ 1.09517675, -1.47785924]])"
            ]
          },
          "metadata": {},
          "execution_count": 160
        }
      ]
    },
    {
      "cell_type": "code",
      "source": [
        "from numpy.random import randn, randint"
      ],
      "metadata": {
        "id": "mNebfhCVOwq3"
      },
      "execution_count": null,
      "outputs": []
    },
    {
      "cell_type": "code",
      "source": [
        "randn(4,2)"
      ],
      "metadata": {
        "colab": {
          "base_uri": "https://localhost:8080/"
        },
        "id": "_EPekthiPCw-",
        "outputId": "09e5f631-0846-4163-9e23-df47b0a9762a"
      },
      "execution_count": null,
      "outputs": [
        {
          "output_type": "execute_result",
          "data": {
            "text/plain": [
              "array([[-0.401648  , -1.01085134],\n",
              "       [-0.29302252,  0.90420697],\n",
              "       [-0.36017736,  0.01523509],\n",
              "       [-0.73593935,  0.42385425]])"
            ]
          },
          "metadata": {},
          "execution_count": 163
        }
      ]
    },
    {
      "cell_type": "code",
      "source": [
        "randint(0,10)"
      ],
      "metadata": {
        "colab": {
          "base_uri": "https://localhost:8080/"
        },
        "id": "-gxhE_jrPHWJ",
        "outputId": "d6385857-6496-4ed5-d77d-0355807c71df"
      },
      "execution_count": null,
      "outputs": [
        {
          "output_type": "execute_result",
          "data": {
            "text/plain": [
              "1"
            ]
          },
          "metadata": {},
          "execution_count": 165
        }
      ]
    },
    {
      "cell_type": "code",
      "source": [
        "randn(6,2)"
      ],
      "metadata": {
        "colab": {
          "base_uri": "https://localhost:8080/"
        },
        "id": "wjnGHqRPPNcS",
        "outputId": "47637555-c7c7-4b06-9e21-53d19ac6f9a1"
      },
      "execution_count": null,
      "outputs": [
        {
          "output_type": "execute_result",
          "data": {
            "text/plain": [
              "array([[-1.93029713e+00, -3.86145471e-01],\n",
              "       [ 5.15762123e-01, -8.49205062e-01],\n",
              "       [ 3.18555130e-01,  5.15907505e-01],\n",
              "       [-6.03054868e-01, -3.24326047e-01],\n",
              "       [ 1.18654619e+00,  1.86739805e-03],\n",
              "       [-1.05597864e+00,  1.34574255e-01]])"
            ]
          },
          "metadata": {},
          "execution_count": 166
        }
      ]
    },
    {
      "cell_type": "code",
      "source": [
        "randint(0,10)"
      ],
      "metadata": {
        "colab": {
          "base_uri": "https://localhost:8080/"
        },
        "id": "7TvULNqJPixu",
        "outputId": "68c306df-595d-45f2-ab57-405912c26920"
      },
      "execution_count": null,
      "outputs": [
        {
          "output_type": "execute_result",
          "data": {
            "text/plain": [
              "9"
            ]
          },
          "metadata": {},
          "execution_count": 167
        }
      ]
    },
    {
      "cell_type": "code",
      "source": [
        "randint(0,10,5)"
      ],
      "metadata": {
        "colab": {
          "base_uri": "https://localhost:8080/"
        },
        "id": "ECt0OZcEPkbc",
        "outputId": "274c17db-b9e2-435d-e6e2-62af451b0937"
      },
      "execution_count": null,
      "outputs": [
        {
          "output_type": "execute_result",
          "data": {
            "text/plain": [
              "array([1, 0, 5, 6, 2])"
            ]
          },
          "metadata": {},
          "execution_count": 168
        }
      ]
    },
    {
      "cell_type": "code",
      "source": [
        "bilangan = randint(0,100,20)"
      ],
      "metadata": {
        "id": "X1hKthYHPul7"
      },
      "execution_count": null,
      "outputs": []
    },
    {
      "cell_type": "code",
      "source": [
        "bilangan"
      ],
      "metadata": {
        "colab": {
          "base_uri": "https://localhost:8080/"
        },
        "id": "p-HyaZGbQP6-",
        "outputId": "db33bf34-6442-47e3-e702-bf85a224d105"
      },
      "execution_count": null,
      "outputs": [
        {
          "output_type": "execute_result",
          "data": {
            "text/plain": [
              "array([19, 20, 33, 88, 77, 11, 66, 89, 14, 48, 72, 81, 27, 36, 20,  9, 76,\n",
              "       18, 32, 41])"
            ]
          },
          "metadata": {},
          "execution_count": 170
        }
      ]
    },
    {
      "cell_type": "code",
      "source": [
        "bilangan.reshape(4,5) #untuk mengubah dari vektor 1 baris menjadi beberapa baris yang diinginkan"
      ],
      "metadata": {
        "colab": {
          "base_uri": "https://localhost:8080/"
        },
        "id": "m7D2Uc5cQRCY",
        "outputId": "fd44f322-c421-473f-a1ff-508c066e056d"
      },
      "execution_count": null,
      "outputs": [
        {
          "output_type": "execute_result",
          "data": {
            "text/plain": [
              "array([[19, 20, 33, 88, 77],\n",
              "       [11, 66, 89, 14, 48],\n",
              "       [72, 81, 27, 36, 20],\n",
              "       [ 9, 76, 18, 32, 41]])"
            ]
          },
          "metadata": {},
          "execution_count": 171
        }
      ]
    },
    {
      "cell_type": "code",
      "source": [
        "bilangan.reshape(2,10)"
      ],
      "metadata": {
        "colab": {
          "base_uri": "https://localhost:8080/"
        },
        "id": "TvHhBHIfQf-3",
        "outputId": "897aa5fd-1f46-43f7-de09-30ffe3845752"
      },
      "execution_count": null,
      "outputs": [
        {
          "output_type": "execute_result",
          "data": {
            "text/plain": [
              "array([[19, 20, 33, 88, 77, 11, 66, 89, 14, 48],\n",
              "       [72, 81, 27, 36, 20,  9, 76, 18, 32, 41]])"
            ]
          },
          "metadata": {},
          "execution_count": 172
        }
      ]
    },
    {
      "cell_type": "code",
      "source": [
        "bilangan.reshape(5,4)"
      ],
      "metadata": {
        "colab": {
          "base_uri": "https://localhost:8080/"
        },
        "id": "DfB3mI-QQsUU",
        "outputId": "55736e94-130b-4c6e-e10e-b31e466fe334"
      },
      "execution_count": null,
      "outputs": [
        {
          "output_type": "execute_result",
          "data": {
            "text/plain": [
              "array([[19, 20, 33, 88],\n",
              "       [77, 11, 66, 89],\n",
              "       [14, 48, 72, 81],\n",
              "       [27, 36, 20,  9],\n",
              "       [76, 18, 32, 41]])"
            ]
          },
          "metadata": {},
          "execution_count": 174
        }
      ]
    },
    {
      "cell_type": "code",
      "source": [
        "randint(0,10,15)"
      ],
      "metadata": {
        "colab": {
          "base_uri": "https://localhost:8080/"
        },
        "id": "dxnISXtFQym6",
        "outputId": "8759c28f-b755-4ed0-bbcf-bf689a30853f"
      },
      "execution_count": null,
      "outputs": [
        {
          "output_type": "execute_result",
          "data": {
            "text/plain": [
              "array([3, 2, 2, 6, 1, 8, 9, 0, 7, 3, 8, 9, 8, 3, 4])"
            ]
          },
          "metadata": {},
          "execution_count": 175
        }
      ]
    },
    {
      "cell_type": "code",
      "source": [
        "coba = randint(0,10,15).reshape(3,5)"
      ],
      "metadata": {
        "id": "qst8MRjzQwCo"
      },
      "execution_count": null,
      "outputs": []
    },
    {
      "cell_type": "code",
      "source": [
        "coba"
      ],
      "metadata": {
        "colab": {
          "base_uri": "https://localhost:8080/"
        },
        "id": "Rp4zzhtQPKJz",
        "outputId": "6b4c8c2c-108f-4061-8d79-97e0be415a38"
      },
      "execution_count": null,
      "outputs": [
        {
          "output_type": "execute_result",
          "data": {
            "text/plain": [
              "array([[4, 0, 4, 6, 9],\n",
              "       [4, 0, 9, 0, 5],\n",
              "       [9, 4, 8, 7, 9]])"
            ]
          },
          "metadata": {},
          "execution_count": 177
        }
      ]
    },
    {
      "cell_type": "code",
      "source": [
        "coba.reshape(5,3)"
      ],
      "metadata": {
        "colab": {
          "base_uri": "https://localhost:8080/"
        },
        "id": "uMgM1_JzRJKv",
        "outputId": "d2ff8d10-2593-4a9a-bc61-7c7a5f24d52e"
      },
      "execution_count": null,
      "outputs": [
        {
          "output_type": "execute_result",
          "data": {
            "text/plain": [
              "array([[4, 0, 4],\n",
              "       [6, 9, 4],\n",
              "       [0, 9, 0],\n",
              "       [5, 9, 4],\n",
              "       [8, 7, 9]])"
            ]
          },
          "metadata": {},
          "execution_count": 178
        }
      ]
    },
    {
      "cell_type": "code",
      "source": [
        "coba #klo tidak didefine ulang maka akan kembali ke matriks awal"
      ],
      "metadata": {
        "colab": {
          "base_uri": "https://localhost:8080/"
        },
        "id": "d_6T1RbOO-Yp",
        "outputId": "f2ac5be6-6f07-4013-d649-336bf9fba7e8"
      },
      "execution_count": null,
      "outputs": [
        {
          "output_type": "execute_result",
          "data": {
            "text/plain": [
              "array([[4, 0, 4, 6, 9],\n",
              "       [4, 0, 9, 0, 5],\n",
              "       [9, 4, 8, 7, 9]])"
            ]
          },
          "metadata": {},
          "execution_count": 179
        }
      ]
    },
    {
      "cell_type": "code",
      "source": [
        "coba = coba.reshape(5,3)"
      ],
      "metadata": {
        "id": "adomOUM7RWLj"
      },
      "execution_count": null,
      "outputs": []
    },
    {
      "cell_type": "code",
      "source": [
        "coba"
      ],
      "metadata": {
        "colab": {
          "base_uri": "https://localhost:8080/"
        },
        "id": "m3E5XSE4Rgd2",
        "outputId": "2155cdcc-398a-41fd-d413-1fd24690df0e"
      },
      "execution_count": null,
      "outputs": [
        {
          "output_type": "execute_result",
          "data": {
            "text/plain": [
              "array([[4, 0, 4],\n",
              "       [6, 9, 4],\n",
              "       [0, 9, 0],\n",
              "       [5, 9, 4],\n",
              "       [8, 7, 9]])"
            ]
          },
          "metadata": {},
          "execution_count": 183
        }
      ]
    },
    {
      "cell_type": "code",
      "source": [
        "from numpy.random import rand, randn, randint"
      ],
      "metadata": {
        "id": "3Tu3184jRhgU"
      },
      "execution_count": null,
      "outputs": []
    },
    {
      "cell_type": "code",
      "source": [
        "coba1d = randint(0,100,20)"
      ],
      "metadata": {
        "id": "tdDtrn_6R9fg"
      },
      "execution_count": null,
      "outputs": []
    },
    {
      "cell_type": "code",
      "source": [
        "coba2d = randint(0,100,20).reshape(4,5)"
      ],
      "metadata": {
        "id": "GAG6Kl6dSB9L"
      },
      "execution_count": null,
      "outputs": []
    },
    {
      "cell_type": "code",
      "source": [
        "coba1d"
      ],
      "metadata": {
        "colab": {
          "base_uri": "https://localhost:8080/"
        },
        "id": "j4XNWj1cSLrN",
        "outputId": "9e0c642b-f30e-4ee1-af83-8692edd44124"
      },
      "execution_count": null,
      "outputs": [
        {
          "output_type": "execute_result",
          "data": {
            "text/plain": [
              "array([15, 90, 15, 64, 39, 36, 91, 20, 20, 54, 55, 74, 62,  4, 16, 15, 87,\n",
              "        2, 59, 51])"
            ]
          },
          "metadata": {},
          "execution_count": 187
        }
      ]
    },
    {
      "cell_type": "code",
      "source": [
        "coba2d"
      ],
      "metadata": {
        "colab": {
          "base_uri": "https://localhost:8080/"
        },
        "id": "cvw6yTzySNWI",
        "outputId": "26ae76ae-0fb4-47bd-b3ee-5803ccc7c930"
      },
      "execution_count": null,
      "outputs": [
        {
          "output_type": "execute_result",
          "data": {
            "text/plain": [
              "array([[91, 63, 66, 27,  9],\n",
              "       [43, 11, 28, 35, 21],\n",
              "       [43, 87, 39, 37, 43],\n",
              "       [ 1, 11, 24, 49, 68]])"
            ]
          },
          "metadata": {},
          "execution_count": 188
        }
      ]
    },
    {
      "cell_type": "code",
      "source": [
        "coba1d.max() #untuk melihat nilai yg paling besar dari matriks"
      ],
      "metadata": {
        "colab": {
          "base_uri": "https://localhost:8080/"
        },
        "id": "T5CF-tx6SRBz",
        "outputId": "3c3a20d2-c0f6-428c-946d-975d7591e13c"
      },
      "execution_count": null,
      "outputs": [
        {
          "output_type": "execute_result",
          "data": {
            "text/plain": [
              "np.int64(91)"
            ]
          },
          "metadata": {},
          "execution_count": 189
        }
      ]
    },
    {
      "cell_type": "code",
      "source": [
        "coba2d.max() #untuk melihat nilai yg paling besar dari matriks"
      ],
      "metadata": {
        "colab": {
          "base_uri": "https://localhost:8080/"
        },
        "id": "fLTXHgzpSlRV",
        "outputId": "55c84995-f3bc-4a6c-f9fc-e2b5dba3094f"
      },
      "execution_count": null,
      "outputs": [
        {
          "output_type": "execute_result",
          "data": {
            "text/plain": [
              "np.int64(91)"
            ]
          },
          "metadata": {},
          "execution_count": 191
        }
      ]
    },
    {
      "cell_type": "code",
      "source": [
        "coba1d.min()"
      ],
      "metadata": {
        "colab": {
          "base_uri": "https://localhost:8080/"
        },
        "id": "eqM-ujEGSsaG",
        "outputId": "95424fc6-3317-47e5-d2ba-066f7d3af8fe"
      },
      "execution_count": null,
      "outputs": [
        {
          "output_type": "execute_result",
          "data": {
            "text/plain": [
              "np.int64(2)"
            ]
          },
          "metadata": {},
          "execution_count": 192
        }
      ]
    },
    {
      "cell_type": "code",
      "source": [
        "coba2d.min()"
      ],
      "metadata": {
        "colab": {
          "base_uri": "https://localhost:8080/"
        },
        "id": "ZLB0h0-TTFnx",
        "outputId": "d4bf720f-ea23-439b-fc6e-b049e0d3d3ce"
      },
      "execution_count": null,
      "outputs": [
        {
          "output_type": "execute_result",
          "data": {
            "text/plain": [
              "np.int64(1)"
            ]
          },
          "metadata": {},
          "execution_count": 193
        }
      ]
    },
    {
      "cell_type": "code",
      "source": [
        "#argmax dan argmin sangat berguna untuk machine learning\n",
        "\n",
        "coba1d.argmax() #argmax digunakan untuk  mencari indeks (posisi) elemen dengan nilai terbesar dalam sebuah array atau list."
      ],
      "metadata": {
        "colab": {
          "base_uri": "https://localhost:8080/"
        },
        "id": "Hkfoz2HaTHd-",
        "outputId": "1fcae3f7-9038-4911-ef62-6c8d6a29cdbb"
      },
      "execution_count": null,
      "outputs": [
        {
          "output_type": "execute_result",
          "data": {
            "text/plain": [
              "np.int64(6)"
            ]
          },
          "metadata": {},
          "execution_count": 194
        }
      ]
    },
    {
      "cell_type": "code",
      "source": [
        "coba2d.argmax() #argmax digunakan untuk  mencari indeks (posisi) elemen dengan nilai terbesar dalam sebuah array atau list."
      ],
      "metadata": {
        "colab": {
          "base_uri": "https://localhost:8080/"
        },
        "id": "3OZtBOIMTg5m",
        "outputId": "412b6f83-d20a-4069-bf83-4fb5f27705b4"
      },
      "execution_count": null,
      "outputs": [
        {
          "output_type": "execute_result",
          "data": {
            "text/plain": [
              "np.int64(0)"
            ]
          },
          "metadata": {},
          "execution_count": 195
        }
      ]
    },
    {
      "cell_type": "code",
      "source": [
        "coba1d.argmin() #argmin digunakan untuk  mencari indeks (posisi) elemen dengan nilai terkecil dalam sebuah array atau list."
      ],
      "metadata": {
        "colab": {
          "base_uri": "https://localhost:8080/"
        },
        "id": "vpsuhO6pTjiz",
        "outputId": "643075e7-eb44-41de-8974-5a18c3da5645"
      },
      "execution_count": null,
      "outputs": [
        {
          "output_type": "execute_result",
          "data": {
            "text/plain": [
              "np.int64(17)"
            ]
          },
          "metadata": {},
          "execution_count": 196
        }
      ]
    },
    {
      "cell_type": "code",
      "source": [
        "coba2d.min() #argmin digunakan untuk  mencari indeks (posisi) elemen dengan nilai terkecil dalam sebuah array atau list."
      ],
      "metadata": {
        "colab": {
          "base_uri": "https://localhost:8080/"
        },
        "id": "g4o7HuZZUjbG",
        "outputId": "517263e1-ee2a-4d72-f197-e62c82b4b285"
      },
      "execution_count": null,
      "outputs": [
        {
          "output_type": "execute_result",
          "data": {
            "text/plain": [
              "np.int64(1)"
            ]
          },
          "metadata": {},
          "execution_count": 197
        }
      ]
    },
    {
      "cell_type": "code",
      "source": [
        "coba1d.shape #digunakan untuk mengetahui jenis matriksnya"
      ],
      "metadata": {
        "colab": {
          "base_uri": "https://localhost:8080/"
        },
        "id": "-38pP8H0UlLa",
        "outputId": "58ece584-103e-42bb-d09a-bdeaee790814"
      },
      "execution_count": null,
      "outputs": [
        {
          "output_type": "execute_result",
          "data": {
            "text/plain": [
              "(20,)"
            ]
          },
          "metadata": {},
          "execution_count": 199
        }
      ]
    },
    {
      "cell_type": "code",
      "source": [
        "coba2d.shape"
      ],
      "metadata": {
        "colab": {
          "base_uri": "https://localhost:8080/"
        },
        "id": "ZY5enlqhU-X3",
        "outputId": "9ef43c69-5e3a-4887-df2a-3f5b93bf0543"
      },
      "execution_count": null,
      "outputs": [
        {
          "output_type": "execute_result",
          "data": {
            "text/plain": [
              "(4, 5)"
            ]
          },
          "metadata": {},
          "execution_count": 200
        }
      ]
    },
    {
      "cell_type": "code",
      "source": [
        "coba1d.dtype #digunakan untuk mengetahui jenis data"
      ],
      "metadata": {
        "colab": {
          "base_uri": "https://localhost:8080/"
        },
        "id": "Rj2KCPOvVIJm",
        "outputId": "c581eacd-9b59-4bfe-dd14-d0a2a049262d"
      },
      "execution_count": null,
      "outputs": [
        {
          "output_type": "execute_result",
          "data": {
            "text/plain": [
              "dtype('int64')"
            ]
          },
          "metadata": {},
          "execution_count": 201
        }
      ]
    },
    {
      "cell_type": "markdown",
      "source": [
        "**Indexing di Numpy**"
      ],
      "metadata": {
        "id": "ECVsH2XLVO7m"
      }
    },
    {
      "cell_type": "code",
      "source": [
        "import numpy as np"
      ],
      "metadata": {
        "id": "vWTPg1KnVWrI"
      },
      "execution_count": null,
      "outputs": []
    },
    {
      "cell_type": "code",
      "source": [
        "coba = np.arange(0,11)"
      ],
      "metadata": {
        "id": "uNEVy3YFVYSy"
      },
      "execution_count": null,
      "outputs": []
    },
    {
      "cell_type": "code",
      "source": [
        "coba"
      ],
      "metadata": {
        "colab": {
          "base_uri": "https://localhost:8080/"
        },
        "id": "rGgwjILLVbNO",
        "outputId": "d61337c8-f144-4519-d381-669bfddc8285"
      },
      "execution_count": null,
      "outputs": [
        {
          "output_type": "execute_result",
          "data": {
            "text/plain": [
              "array([ 0,  1,  2,  3,  4,  5,  6,  7,  8,  9, 10])"
            ]
          },
          "metadata": {},
          "execution_count": 204
        }
      ]
    },
    {
      "cell_type": "code",
      "source": [
        "coba[6]"
      ],
      "metadata": {
        "colab": {
          "base_uri": "https://localhost:8080/"
        },
        "id": "RuvDzXYmVcke",
        "outputId": "81df843b-cabf-468c-c5c4-9cd00ea6ed6b"
      },
      "execution_count": null,
      "outputs": [
        {
          "output_type": "execute_result",
          "data": {
            "text/plain": [
              "np.int64(6)"
            ]
          },
          "metadata": {},
          "execution_count": 205
        }
      ]
    },
    {
      "cell_type": "code",
      "source": [
        "coba[9]"
      ],
      "metadata": {
        "colab": {
          "base_uri": "https://localhost:8080/"
        },
        "id": "DKpLfO2mVedC",
        "outputId": "e9deb67a-c82a-4193-d6fb-907ea847cb7d"
      },
      "execution_count": null,
      "outputs": [
        {
          "output_type": "execute_result",
          "data": {
            "text/plain": [
              "np.int64(9)"
            ]
          },
          "metadata": {},
          "execution_count": 207
        }
      ]
    },
    {
      "cell_type": "code",
      "source": [
        "coba1 = np.arange(0,20,2)"
      ],
      "metadata": {
        "id": "g4xYIgeFVn10"
      },
      "execution_count": null,
      "outputs": []
    },
    {
      "cell_type": "code",
      "source": [
        "coba1"
      ],
      "metadata": {
        "colab": {
          "base_uri": "https://localhost:8080/"
        },
        "id": "e_ubGYjrVwya",
        "outputId": "21ad2727-a903-499c-a64a-4c70a89132b8"
      },
      "execution_count": null,
      "outputs": [
        {
          "output_type": "execute_result",
          "data": {
            "text/plain": [
              "array([ 0,  2,  4,  6,  8, 10, 12, 14, 16, 18])"
            ]
          },
          "metadata": {},
          "execution_count": 211
        }
      ]
    },
    {
      "cell_type": "code",
      "source": [
        "coba1[3]"
      ],
      "metadata": {
        "colab": {
          "base_uri": "https://localhost:8080/"
        },
        "id": "TLDbQLBcVxzD",
        "outputId": "f04c7779-f187-4bd8-eb8e-1d4f7c3d3103"
      },
      "execution_count": null,
      "outputs": [
        {
          "output_type": "execute_result",
          "data": {
            "text/plain": [
              "np.int64(6)"
            ]
          },
          "metadata": {},
          "execution_count": 212
        }
      ]
    },
    {
      "cell_type": "code",
      "source": [
        "coba1[5:]"
      ],
      "metadata": {
        "colab": {
          "base_uri": "https://localhost:8080/"
        },
        "id": "IWJm9Uq_WGHl",
        "outputId": "244b55b4-0e2a-49ff-cad3-578479029adf"
      },
      "execution_count": null,
      "outputs": [
        {
          "output_type": "execute_result",
          "data": {
            "text/plain": [
              "array([10, 12, 14, 16, 18])"
            ]
          },
          "metadata": {},
          "execution_count": 213
        }
      ]
    },
    {
      "cell_type": "code",
      "source": [
        "coba1[3:7]"
      ],
      "metadata": {
        "colab": {
          "base_uri": "https://localhost:8080/"
        },
        "id": "ZygSAncEWNbI",
        "outputId": "20380aea-dfed-404d-8fc4-437e7218111c"
      },
      "execution_count": null,
      "outputs": [
        {
          "output_type": "execute_result",
          "data": {
            "text/plain": [
              "array([ 6,  8, 10, 12])"
            ]
          },
          "metadata": {},
          "execution_count": 214
        }
      ]
    },
    {
      "cell_type": "code",
      "source": [
        "coba1[:4]"
      ],
      "metadata": {
        "colab": {
          "base_uri": "https://localhost:8080/"
        },
        "id": "IG64AY_bWQ8y",
        "outputId": "92bca438-5a6f-4da7-957b-22b05f04cdcc"
      },
      "execution_count": null,
      "outputs": [
        {
          "output_type": "execute_result",
          "data": {
            "text/plain": [
              "array([0, 2, 4, 6])"
            ]
          },
          "metadata": {},
          "execution_count": 215
        }
      ]
    },
    {
      "cell_type": "code",
      "source": [
        "coba2 = coba[:6] #ini mengubah data pada coba"
      ],
      "metadata": {
        "id": "3xCj4FXtWUPr"
      },
      "execution_count": null,
      "outputs": []
    },
    {
      "cell_type": "code",
      "source": [
        "coba2"
      ],
      "metadata": {
        "colab": {
          "base_uri": "https://localhost:8080/"
        },
        "id": "W1Z8p15jWep6",
        "outputId": "f07c20d5-340d-4a15-aebe-23cd75d68431"
      },
      "execution_count": null,
      "outputs": [
        {
          "output_type": "execute_result",
          "data": {
            "text/plain": [
              "array([ 0,  2,  4,  6,  8, 10])"
            ]
          },
          "metadata": {},
          "execution_count": 217
        }
      ]
    },
    {
      "cell_type": "code",
      "source": [
        "coba2[:] = 100 #mengubah semua data di dalam coba2 menjadi 100"
      ],
      "metadata": {
        "id": "2HHVJp8IWggV"
      },
      "execution_count": null,
      "outputs": []
    },
    {
      "cell_type": "code",
      "source": [
        "coba2"
      ],
      "metadata": {
        "colab": {
          "base_uri": "https://localhost:8080/"
        },
        "id": "UYslw6QjW0Xb",
        "outputId": "1e54662c-50b0-4daf-f610-a1d6b32da52d"
      },
      "execution_count": null,
      "outputs": [
        {
          "output_type": "execute_result",
          "data": {
            "text/plain": [
              "array([100, 100, 100, 100, 100, 100])"
            ]
          },
          "metadata": {},
          "execution_count": 219
        }
      ]
    },
    {
      "cell_type": "code",
      "source": [
        "coba"
      ],
      "metadata": {
        "colab": {
          "base_uri": "https://localhost:8080/"
        },
        "id": "j2eppOg0W1W_",
        "outputId": "2012a957-eb41-45e0-bef1-e6a7aefce0f6"
      },
      "execution_count": null,
      "outputs": [
        {
          "output_type": "execute_result",
          "data": {
            "text/plain": [
              "array([100, 100, 100, 100, 100, 100,  12,  14,  16,  18])"
            ]
          },
          "metadata": {},
          "execution_count": 220
        }
      ]
    },
    {
      "cell_type": "code",
      "source": [
        "# untuk tidak mengubah data pada data 'coba' menggunakan cara seperti dibawah ini\n",
        "\n",
        "coba = np.arange(0,11)"
      ],
      "metadata": {
        "id": "yuyaConQW5J2"
      },
      "execution_count": null,
      "outputs": []
    },
    {
      "cell_type": "code",
      "source": [
        "# untuk tidak mengubah data pada data 'coba' menggunakan cara seperti dibawah ini\n",
        "\n",
        "coba"
      ],
      "metadata": {
        "colab": {
          "base_uri": "https://localhost:8080/"
        },
        "id": "Pq5UML85X8Bg",
        "outputId": "ce273669-ecea-47f2-94b9-c2f3fc354920"
      },
      "execution_count": null,
      "outputs": [
        {
          "output_type": "execute_result",
          "data": {
            "text/plain": [
              "array([ 0,  1,  2,  3,  4,  5,  6,  7,  8,  9, 10])"
            ]
          },
          "metadata": {},
          "execution_count": 223
        }
      ]
    },
    {
      "cell_type": "code",
      "source": [
        "# untuk tidak mengubah data pada data 'coba' menggunakan cara seperti dibawah ini\n",
        "\n",
        "coba2 = coba.copy()"
      ],
      "metadata": {
        "id": "1iakwJRzX_2A"
      },
      "execution_count": null,
      "outputs": []
    },
    {
      "cell_type": "code",
      "source": [
        "coba2"
      ],
      "metadata": {
        "colab": {
          "base_uri": "https://localhost:8080/"
        },
        "id": "uf6tn23DYG7k",
        "outputId": "b425d7d8-5334-49d4-d926-70b81c3d13be"
      },
      "execution_count": null,
      "outputs": [
        {
          "output_type": "execute_result",
          "data": {
            "text/plain": [
              "array([ 0,  1,  2,  3,  4,  5,  6,  7,  8,  9, 10])"
            ]
          },
          "metadata": {},
          "execution_count": 225
        }
      ]
    },
    {
      "cell_type": "code",
      "source": [
        "coba2[:]=200"
      ],
      "metadata": {
        "id": "ggAnMpSlYKsk"
      },
      "execution_count": null,
      "outputs": []
    },
    {
      "cell_type": "code",
      "source": [
        "coba2"
      ],
      "metadata": {
        "colab": {
          "base_uri": "https://localhost:8080/"
        },
        "id": "qXSA0DYnYPQH",
        "outputId": "3bdca96c-6da4-4f16-9463-b180d35f86cf"
      },
      "execution_count": null,
      "outputs": [
        {
          "output_type": "execute_result",
          "data": {
            "text/plain": [
              "array([200, 200, 200, 200, 200, 200, 200, 200, 200, 200, 200])"
            ]
          },
          "metadata": {},
          "execution_count": 227
        }
      ]
    },
    {
      "cell_type": "code",
      "source": [
        "coba #data pada coba tidak berubah"
      ],
      "metadata": {
        "colab": {
          "base_uri": "https://localhost:8080/"
        },
        "id": "0IwAvC_dYQ9m",
        "outputId": "456d1a5a-ace3-4ff3-d4e0-1b524fc419fe"
      },
      "execution_count": null,
      "outputs": [
        {
          "output_type": "execute_result",
          "data": {
            "text/plain": [
              "array([ 0,  1,  2,  3,  4,  5,  6,  7,  8,  9, 10])"
            ]
          },
          "metadata": {},
          "execution_count": 228
        }
      ]
    },
    {
      "cell_type": "code",
      "source": [],
      "metadata": {
        "id": "SRHjJ1SJYT4P"
      },
      "execution_count": null,
      "outputs": []
    },
    {
      "cell_type": "code",
      "source": [
        "bil2d = np.array([[1,2,3],[4,5,6],[7,8,9]])"
      ],
      "metadata": {
        "id": "DITGsMVBXzTm"
      },
      "execution_count": null,
      "outputs": []
    },
    {
      "cell_type": "code",
      "source": [
        "bil2d"
      ],
      "metadata": {
        "colab": {
          "base_uri": "https://localhost:8080/"
        },
        "id": "U9ElpSKPYhJH",
        "outputId": "9380c0f4-b91d-4c99-dd69-09411816713a"
      },
      "execution_count": null,
      "outputs": [
        {
          "output_type": "execute_result",
          "data": {
            "text/plain": [
              "array([[1, 2, 3],\n",
              "       [4, 5, 6],\n",
              "       [7, 8, 9]])"
            ]
          },
          "metadata": {},
          "execution_count": 230
        }
      ]
    },
    {
      "cell_type": "code",
      "source": [
        "bil2d[0][0] #ini digunakan untuk memanggil angka 1, di posisi bil2d[baris][kolom], indeks dimulai dari 0"
      ],
      "metadata": {
        "colab": {
          "base_uri": "https://localhost:8080/"
        },
        "id": "qIs0kQRQYis1",
        "outputId": "1fb52a22-16da-415c-92e2-e9cb57b58fd6"
      },
      "execution_count": null,
      "outputs": [
        {
          "output_type": "execute_result",
          "data": {
            "text/plain": [
              "np.int64(1)"
            ]
          },
          "metadata": {},
          "execution_count": 231
        }
      ]
    },
    {
      "cell_type": "code",
      "source": [
        "bil2d[1] #ini digunakan untuk memanggil angka di baris ke-1, indeks dimulai dari 0"
      ],
      "metadata": {
        "colab": {
          "base_uri": "https://localhost:8080/"
        },
        "id": "qeTzp5KKYpdY",
        "outputId": "cca854e7-1688-41e8-dfb3-90c62f5273bf"
      },
      "execution_count": null,
      "outputs": [
        {
          "output_type": "execute_result",
          "data": {
            "text/plain": [
              "array([4, 5, 6])"
            ]
          },
          "metadata": {},
          "execution_count": 232
        }
      ]
    },
    {
      "cell_type": "code",
      "source": [
        "bil2d[2,2] #ini digunakan untuk memanggil angka pada posisi baris 2, kolom 2, indeks dimulai dari 0"
      ],
      "metadata": {
        "colab": {
          "base_uri": "https://localhost:8080/"
        },
        "id": "k55JN5NJYt9k",
        "outputId": "47d83b22-4c7a-4f8a-d81d-415408880c36"
      },
      "execution_count": null,
      "outputs": [
        {
          "output_type": "execute_result",
          "data": {
            "text/plain": [
              "np.int64(9)"
            ]
          },
          "metadata": {},
          "execution_count": 233
        }
      ]
    },
    {
      "cell_type": "code",
      "source": [
        "bil2d"
      ],
      "metadata": {
        "colab": {
          "base_uri": "https://localhost:8080/"
        },
        "id": "zmOUTFRwY0cw",
        "outputId": "cbfcfce0-7f78-4100-884a-61ac3e3b6213"
      },
      "execution_count": null,
      "outputs": [
        {
          "output_type": "execute_result",
          "data": {
            "text/plain": [
              "array([[1, 2, 3],\n",
              "       [4, 5, 6],\n",
              "       [7, 8, 9]])"
            ]
          },
          "metadata": {},
          "execution_count": 234
        }
      ]
    },
    {
      "cell_type": "code",
      "source": [
        "bil2d[1:2,1:]"
      ],
      "metadata": {
        "colab": {
          "base_uri": "https://localhost:8080/"
        },
        "id": "2zDfKaoVZpqV",
        "outputId": "b5a962cb-9c50-4241-ff0d-1e785a9346ea"
      },
      "execution_count": null,
      "outputs": [
        {
          "output_type": "execute_result",
          "data": {
            "text/plain": [
              "array([[5, 6]])"
            ]
          },
          "metadata": {},
          "execution_count": 236
        }
      ]
    },
    {
      "cell_type": "code",
      "source": [
        "bil2d[1:2,1:2] #kenapa hanya angka 5 yang dimasukkan karena kalo penulisannya 1:2 artinya yang diambil hanya kolom 1 sebelum kolom 2."
      ],
      "metadata": {
        "colab": {
          "base_uri": "https://localhost:8080/"
        },
        "id": "b6Iimx_TZ7Oj",
        "outputId": "525970d0-b2b8-4ae7-c301-ae9409aef6a9"
      },
      "execution_count": null,
      "outputs": [
        {
          "output_type": "execute_result",
          "data": {
            "text/plain": [
              "array([[5]])"
            ]
          },
          "metadata": {},
          "execution_count": 237
        }
      ]
    },
    {
      "cell_type": "markdown",
      "source": [
        "**Slicing dengan boolean Numpy**"
      ],
      "metadata": {
        "id": "QzzzFhw9aYAs"
      }
    },
    {
      "cell_type": "code",
      "source": [
        "import numpy as np"
      ],
      "metadata": {
        "id": "sUzgbPOAaMLE"
      },
      "execution_count": null,
      "outputs": []
    },
    {
      "cell_type": "code",
      "source": [
        "bil = np.arange(1,11)"
      ],
      "metadata": {
        "id": "7SxDBAEkfFVi"
      },
      "execution_count": null,
      "outputs": []
    },
    {
      "cell_type": "code",
      "source": [
        "bil"
      ],
      "metadata": {
        "colab": {
          "base_uri": "https://localhost:8080/"
        },
        "id": "NT82WvxLfILw",
        "outputId": "e149b552-ed78-4dcf-df19-4b8b485aea2c"
      },
      "execution_count": null,
      "outputs": [
        {
          "output_type": "execute_result",
          "data": {
            "text/plain": [
              "array([ 1,  2,  3,  4,  5,  6,  7,  8,  9, 10])"
            ]
          },
          "metadata": {},
          "execution_count": 250
        }
      ]
    },
    {
      "cell_type": "code",
      "source": [
        "angkaT = bil>5"
      ],
      "metadata": {
        "id": "Jbqt3qvxfKyB"
      },
      "execution_count": null,
      "outputs": []
    },
    {
      "cell_type": "code",
      "source": [
        "angkaT"
      ],
      "metadata": {
        "colab": {
          "base_uri": "https://localhost:8080/"
        },
        "id": "W1WcMgvYfcLA",
        "outputId": "dd903e58-bc77-420e-e290-13b944caa0f7"
      },
      "execution_count": null,
      "outputs": [
        {
          "output_type": "execute_result",
          "data": {
            "text/plain": [
              "array([False, False, False, False, False,  True,  True,  True,  True,\n",
              "        True])"
            ]
          },
          "metadata": {},
          "execution_count": 252
        }
      ]
    },
    {
      "cell_type": "code",
      "source": [
        "bil = bil[angkaT]"
      ],
      "metadata": {
        "id": "fmggN7nmfdo_"
      },
      "execution_count": null,
      "outputs": []
    },
    {
      "cell_type": "code",
      "source": [
        "bil"
      ],
      "metadata": {
        "colab": {
          "base_uri": "https://localhost:8080/"
        },
        "id": "j2LQDQKffvBZ",
        "outputId": "bf1d69e5-1d16-47f2-f987-6f2945b77180"
      },
      "execution_count": null,
      "outputs": [
        {
          "output_type": "execute_result",
          "data": {
            "text/plain": [
              "array([ 6,  7,  8,  9, 10])"
            ]
          },
          "metadata": {},
          "execution_count": 254
        }
      ]
    },
    {
      "cell_type": "markdown",
      "source": [
        "Melakukan Operasi Matematik di Numpy"
      ],
      "metadata": {
        "id": "egGXrO4BjWa0"
      }
    },
    {
      "cell_type": "code",
      "source": [
        "import numpy as np"
      ],
      "metadata": {
        "id": "YDoxVRUNijlW"
      },
      "execution_count": null,
      "outputs": []
    },
    {
      "cell_type": "code",
      "source": [
        "coba = np.arange(0,11)"
      ],
      "metadata": {
        "id": "3y_kcRgNjfpc"
      },
      "execution_count": null,
      "outputs": []
    },
    {
      "cell_type": "code",
      "source": [
        "coba"
      ],
      "metadata": {
        "colab": {
          "base_uri": "https://localhost:8080/"
        },
        "id": "7CwYlwbzjjh-",
        "outputId": "04ab2413-cc1d-4fc9-a150-f23b5ea6db33"
      },
      "execution_count": null,
      "outputs": [
        {
          "output_type": "execute_result",
          "data": {
            "text/plain": [
              "array([ 0,  1,  2,  3,  4,  5,  6,  7,  8,  9, 10])"
            ]
          },
          "metadata": {},
          "execution_count": 258
        }
      ]
    },
    {
      "cell_type": "code",
      "source": [
        "coba+5"
      ],
      "metadata": {
        "colab": {
          "base_uri": "https://localhost:8080/"
        },
        "id": "PdkuuwRJjkse",
        "outputId": "3ba490fb-eb4c-4062-dead-4eef3d3b2883"
      },
      "execution_count": null,
      "outputs": [
        {
          "output_type": "execute_result",
          "data": {
            "text/plain": [
              "array([ 5,  6,  7,  8,  9, 10, 11, 12, 13, 14, 15])"
            ]
          },
          "metadata": {},
          "execution_count": 259
        }
      ]
    },
    {
      "cell_type": "code",
      "source": [
        "coba+coba"
      ],
      "metadata": {
        "colab": {
          "base_uri": "https://localhost:8080/"
        },
        "id": "RoenbYh0joSV",
        "outputId": "709849a6-0516-4cb9-a244-af8940c1f5ce"
      },
      "execution_count": null,
      "outputs": [
        {
          "output_type": "execute_result",
          "data": {
            "text/plain": [
              "array([ 0,  2,  4,  6,  8, 10, 12, 14, 16, 18, 20])"
            ]
          },
          "metadata": {},
          "execution_count": 260
        }
      ]
    },
    {
      "cell_type": "code",
      "source": [
        "coba_list = [0,1,2,3,4,5,6,7,8,9,10]"
      ],
      "metadata": {
        "id": "5PhJpz8Ljp3S"
      },
      "execution_count": null,
      "outputs": []
    },
    {
      "cell_type": "code",
      "source": [
        "coba_list+coba_list"
      ],
      "metadata": {
        "colab": {
          "base_uri": "https://localhost:8080/"
        },
        "id": "Z0_WUNnLjzex",
        "outputId": "4fde8209-c306-423b-c74a-63e2ef339768"
      },
      "execution_count": null,
      "outputs": [
        {
          "output_type": "execute_result",
          "data": {
            "text/plain": [
              "[0, 1, 2, 3, 4, 5, 6, 7, 8, 9, 10, 0, 1, 2, 3, 4, 5, 6, 7, 8, 9, 10]"
            ]
          },
          "metadata": {},
          "execution_count": 262
        }
      ]
    },
    {
      "cell_type": "code",
      "source": [
        "coba"
      ],
      "metadata": {
        "colab": {
          "base_uri": "https://localhost:8080/"
        },
        "id": "fuid_jmnj1VZ",
        "outputId": "187e8d7a-66e6-4baf-d6ad-1860b70143f0"
      },
      "execution_count": null,
      "outputs": [
        {
          "output_type": "execute_result",
          "data": {
            "text/plain": [
              "array([ 0,  1,  2,  3,  4,  5,  6,  7,  8,  9, 10])"
            ]
          },
          "metadata": {},
          "execution_count": 263
        }
      ]
    },
    {
      "cell_type": "code",
      "source": [
        "coba*2"
      ],
      "metadata": {
        "colab": {
          "base_uri": "https://localhost:8080/"
        },
        "id": "zglYnwDVj6KM",
        "outputId": "e66fc420-e446-4e0f-bd3c-7d15f3b8c022"
      },
      "execution_count": null,
      "outputs": [
        {
          "output_type": "execute_result",
          "data": {
            "text/plain": [
              "array([ 0,  2,  4,  6,  8, 10, 12, 14, 16, 18, 20])"
            ]
          },
          "metadata": {},
          "execution_count": 264
        }
      ]
    },
    {
      "cell_type": "code",
      "source": [
        "coba_list*2"
      ],
      "metadata": {
        "colab": {
          "base_uri": "https://localhost:8080/"
        },
        "id": "Y0UNQ8xHj8AS",
        "outputId": "007012dd-91bf-437a-d2ed-1233a73d6c58"
      },
      "execution_count": null,
      "outputs": [
        {
          "output_type": "execute_result",
          "data": {
            "text/plain": [
              "[0, 1, 2, 3, 4, 5, 6, 7, 8, 9, 10, 0, 1, 2, 3, 4, 5, 6, 7, 8, 9, 10]"
            ]
          },
          "metadata": {},
          "execution_count": 265
        }
      ]
    },
    {
      "cell_type": "code",
      "source": [
        "coba-coba"
      ],
      "metadata": {
        "colab": {
          "base_uri": "https://localhost:8080/"
        },
        "id": "JxPUQDU2j-cj",
        "outputId": "a63b5dab-b325-4f37-e53b-252e86ea1877"
      },
      "execution_count": null,
      "outputs": [
        {
          "output_type": "execute_result",
          "data": {
            "text/plain": [
              "array([0, 0, 0, 0, 0, 0, 0, 0, 0, 0, 0])"
            ]
          },
          "metadata": {},
          "execution_count": 266
        }
      ]
    },
    {
      "cell_type": "code",
      "source": [
        "coba-100"
      ],
      "metadata": {
        "colab": {
          "base_uri": "https://localhost:8080/"
        },
        "id": "Dbh9mlgckIqF",
        "outputId": "b37b82a4-48ea-4f52-9cc2-a15a288dee2c"
      },
      "execution_count": null,
      "outputs": [
        {
          "output_type": "execute_result",
          "data": {
            "text/plain": [
              "array([-100,  -99,  -98,  -97,  -96,  -95,  -94,  -93,  -92,  -91,  -90])"
            ]
          },
          "metadata": {},
          "execution_count": 267
        }
      ]
    },
    {
      "cell_type": "code",
      "source": [
        "coba/coba #output nan karna apa pun yang dibagi dengan angka 0 tidak bisa"
      ],
      "metadata": {
        "colab": {
          "base_uri": "https://localhost:8080/"
        },
        "id": "UsfnbRe-kLLv",
        "outputId": "166e1db9-bff9-47e0-8deb-5f548cab7168"
      },
      "execution_count": null,
      "outputs": [
        {
          "output_type": "stream",
          "name": "stderr",
          "text": [
            "<ipython-input-268-4b181eb448c2>:1: RuntimeWarning: invalid value encountered in divide\n",
            "  coba/coba\n"
          ]
        },
        {
          "output_type": "execute_result",
          "data": {
            "text/plain": [
              "array([nan,  1.,  1.,  1.,  1.,  1.,  1.,  1.,  1.,  1.,  1.])"
            ]
          },
          "metadata": {},
          "execution_count": 268
        }
      ]
    },
    {
      "cell_type": "code",
      "source": [
        "1/coba"
      ],
      "metadata": {
        "colab": {
          "base_uri": "https://localhost:8080/"
        },
        "id": "zC27-gRbkRVp",
        "outputId": "7ce8c5f4-c0b6-4c04-ea78-8ca7eba72a56"
      },
      "execution_count": null,
      "outputs": [
        {
          "output_type": "stream",
          "name": "stderr",
          "text": [
            "<ipython-input-269-021fa7643746>:1: RuntimeWarning: divide by zero encountered in divide\n",
            "  1/coba\n"
          ]
        },
        {
          "output_type": "execute_result",
          "data": {
            "text/plain": [
              "array([       inf, 1.        , 0.5       , 0.33333333, 0.25      ,\n",
              "       0.2       , 0.16666667, 0.14285714, 0.125     , 0.11111111,\n",
              "       0.1       ])"
            ]
          },
          "metadata": {},
          "execution_count": 269
        }
      ]
    },
    {
      "cell_type": "code",
      "source": [
        "np.sqrt(coba) #akar"
      ],
      "metadata": {
        "colab": {
          "base_uri": "https://localhost:8080/"
        },
        "id": "eDwWPRPgkoQE",
        "outputId": "567a2c90-2550-4578-cbbd-163b1faae978"
      },
      "execution_count": null,
      "outputs": [
        {
          "output_type": "execute_result",
          "data": {
            "text/plain": [
              "array([0.        , 1.        , 1.41421356, 1.73205081, 2.        ,\n",
              "       2.23606798, 2.44948974, 2.64575131, 2.82842712, 3.        ,\n",
              "       3.16227766])"
            ]
          },
          "metadata": {},
          "execution_count": 270
        }
      ]
    },
    {
      "cell_type": "code",
      "source": [
        "coba"
      ],
      "metadata": {
        "colab": {
          "base_uri": "https://localhost:8080/"
        },
        "id": "6QQJSnJKk1kp",
        "outputId": "d5fc9db5-179f-4ff6-e8e3-4f01c8da46b7"
      },
      "execution_count": null,
      "outputs": [
        {
          "output_type": "execute_result",
          "data": {
            "text/plain": [
              "array([ 0,  1,  2,  3,  4,  5,  6,  7,  8,  9, 10])"
            ]
          },
          "metadata": {},
          "execution_count": 271
        }
      ]
    },
    {
      "cell_type": "markdown",
      "source": [
        "Eksponen\n",
        "**e = 2.7182**"
      ],
      "metadata": {
        "id": "ee5fPuQtlHv5"
      }
    },
    {
      "cell_type": "code",
      "source": [
        "np.max(coba)"
      ],
      "metadata": {
        "colab": {
          "base_uri": "https://localhost:8080/"
        },
        "id": "BLPXhcpQlBOA",
        "outputId": "c00c3cd5-9969-417d-c644-7d0909fcdb2d"
      },
      "execution_count": null,
      "outputs": [
        {
          "output_type": "execute_result",
          "data": {
            "text/plain": [
              "np.int64(10)"
            ]
          },
          "metadata": {},
          "execution_count": 272
        }
      ]
    },
    {
      "cell_type": "code",
      "source": [
        "coba.max()"
      ],
      "metadata": {
        "colab": {
          "base_uri": "https://localhost:8080/"
        },
        "id": "HrnAJX-hlT41",
        "outputId": "27936d7e-6411-4f6a-d2ed-b4082bc73334"
      },
      "execution_count": null,
      "outputs": [
        {
          "output_type": "execute_result",
          "data": {
            "text/plain": [
              "np.int64(10)"
            ]
          },
          "metadata": {},
          "execution_count": 273
        }
      ]
    },
    {
      "cell_type": "code",
      "source": [
        "np.min(coba)"
      ],
      "metadata": {
        "colab": {
          "base_uri": "https://localhost:8080/"
        },
        "id": "QXAx-R8tlXIL",
        "outputId": "ed3eb1e8-7d92-4d1a-91dd-a879800d2a3b"
      },
      "execution_count": null,
      "outputs": [
        {
          "output_type": "execute_result",
          "data": {
            "text/plain": [
              "np.int64(0)"
            ]
          },
          "metadata": {},
          "execution_count": 274
        }
      ]
    },
    {
      "cell_type": "code",
      "source": [
        "coba.min()"
      ],
      "metadata": {
        "colab": {
          "base_uri": "https://localhost:8080/"
        },
        "id": "hwWb_q-Elein",
        "outputId": "c93ef860-b4f2-4203-f15d-5ab0f4124f3c"
      },
      "execution_count": null,
      "outputs": [
        {
          "output_type": "execute_result",
          "data": {
            "text/plain": [
              "np.int64(0)"
            ]
          },
          "metadata": {},
          "execution_count": 276
        }
      ]
    },
    {
      "cell_type": "code",
      "source": [
        "np.sin(coba)"
      ],
      "metadata": {
        "colab": {
          "base_uri": "https://localhost:8080/"
        },
        "id": "X69tq6E9liax",
        "outputId": "6528d2d7-1376-44ee-8fc6-b04192e25202"
      },
      "execution_count": null,
      "outputs": [
        {
          "output_type": "execute_result",
          "data": {
            "text/plain": [
              "array([ 0.        ,  0.84147098,  0.90929743,  0.14112001, -0.7568025 ,\n",
              "       -0.95892427, -0.2794155 ,  0.6569866 ,  0.98935825,  0.41211849,\n",
              "       -0.54402111])"
            ]
          },
          "metadata": {},
          "execution_count": 277
        }
      ]
    },
    {
      "cell_type": "code",
      "source": [
        "np.log(coba)"
      ],
      "metadata": {
        "colab": {
          "base_uri": "https://localhost:8080/"
        },
        "id": "7NnIGNp6lmsA",
        "outputId": "d343cdf1-5153-49e3-91b0-c162d07c7215"
      },
      "execution_count": null,
      "outputs": [
        {
          "output_type": "stream",
          "name": "stderr",
          "text": [
            "<ipython-input-278-953d5638885c>:1: RuntimeWarning: divide by zero encountered in log\n",
            "  np.log(coba)\n"
          ]
        },
        {
          "output_type": "execute_result",
          "data": {
            "text/plain": [
              "array([      -inf, 0.        , 0.69314718, 1.09861229, 1.38629436,\n",
              "       1.60943791, 1.79175947, 1.94591015, 2.07944154, 2.19722458,\n",
              "       2.30258509])"
            ]
          },
          "metadata": {},
          "execution_count": 278
        }
      ]
    },
    {
      "cell_type": "markdown",
      "source": [
        "**numpy.org -> untuk melihat func (fungsi) dalam python**"
      ],
      "metadata": {
        "id": "QqnY_gRtlzSg"
      }
    },
    {
      "cell_type": "markdown",
      "source": [
        "# **Modul & Package**"
      ],
      "metadata": {
        "id": "iid6F92ymV0g"
      }
    },
    {
      "cell_type": "markdown",
      "source": [
        "Modul = sebuah script Python yang memiliki ekstensi*.py\n",
        "Jupyter notebook menggunakan ekstensi *.ipynb\n",
        "Package = Kumpulan dari beberapa modul"
      ],
      "metadata": {
        "id": "Q_U3CxgULf5h"
      }
    },
    {
      "cell_type": "markdown",
      "source": [
        "**name dan main**\n",
        "\n",
        "if__name__== \"__main__\":\n",
        "\n",
        "Kita ingin menegtahui apakah saat menjalankan module, kita menjalankan langsung di module itu atau hasil impor."
      ],
      "metadata": {
        "id": "3EAuyfTfTw09"
      }
    },
    {
      "cell_type": "markdown",
      "source": [],
      "metadata": {
        "id": "YL91jPUrT2u5"
      }
    },
    {
      "cell_type": "code",
      "source": [],
      "metadata": {
        "id": "jMOS-8WYlr3y"
      },
      "execution_count": null,
      "outputs": []
    },
    {
      "cell_type": "code",
      "source": [],
      "metadata": {
        "id": "Aql1cybclgSa"
      },
      "execution_count": null,
      "outputs": []
    }
  ]
}