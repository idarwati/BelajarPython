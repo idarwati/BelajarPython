{
  "nbformat": 4,
  "nbformat_minor": 0,
  "metadata": {
    "colab": {
      "provenance": [],
      "authorship_tag": "ABX9TyMeRsFO0pPGAGKCqeC9uxQR",
      "include_colab_link": true
    },
    "kernelspec": {
      "name": "python3",
      "display_name": "Python 3"
    },
    "language_info": {
      "name": "python"
    }
  },
  "cells": [
    {
      "cell_type": "markdown",
      "metadata": {
        "id": "view-in-github",
        "colab_type": "text"
      },
      "source": [
        "<a href=\"https://colab.research.google.com/github/idarwati/BelajarPython/blob/main/PythonMasterclass/_43_Belajar_Aritmatika_di_Python.ipynb\" target=\"_parent\"><img src=\"https://colab.research.google.com/assets/colab-badge.svg\" alt=\"Open In Colab\"/></a>"
      ]
    },
    {
      "cell_type": "markdown",
      "source": [
        "# Machine Learning adalah Matematika !"
      ],
      "metadata": {
        "id": "Xs01CjJkmCG8"
      }
    },
    {
      "cell_type": "code",
      "source": [
        "print(8-4)"
      ],
      "metadata": {
        "colab": {
          "base_uri": "https://localhost:8080/"
        },
        "id": "2IqYGbgfmAVX",
        "outputId": "9992a76a-8dc7-48d6-d32d-3d99bf8c0f8c"
      },
      "execution_count": 1,
      "outputs": [
        {
          "output_type": "stream",
          "name": "stdout",
          "text": [
            "4\n"
          ]
        }
      ]
    },
    {
      "cell_type": "code",
      "source": [
        "print(4+2)"
      ],
      "metadata": {
        "colab": {
          "base_uri": "https://localhost:8080/"
        },
        "id": "RxB99B5Dmf2X",
        "outputId": "c55368ee-6b9d-455a-c77b-9c587f9c48f4"
      },
      "execution_count": 2,
      "outputs": [
        {
          "output_type": "stream",
          "name": "stdout",
          "text": [
            "6\n"
          ]
        }
      ]
    },
    {
      "cell_type": "code",
      "source": [
        "1+2"
      ],
      "metadata": {
        "colab": {
          "base_uri": "https://localhost:8080/"
        },
        "id": "h9i3ors7mhvC",
        "outputId": "f2f1e479-cc77-437f-94cc-10a36ae0c14f"
      },
      "execution_count": 3,
      "outputs": [
        {
          "output_type": "execute_result",
          "data": {
            "text/plain": [
              "3"
            ]
          },
          "metadata": {},
          "execution_count": 3
        }
      ]
    },
    {
      "cell_type": "code",
      "source": [
        "print(3*4 + 3*2)"
      ],
      "metadata": {
        "colab": {
          "base_uri": "https://localhost:8080/"
        },
        "id": "evTuUBFcmkcL",
        "outputId": "0042dcca-a337-45d4-cc8b-8f8515447231"
      },
      "execution_count": 4,
      "outputs": [
        {
          "output_type": "stream",
          "name": "stdout",
          "text": [
            "18\n"
          ]
        }
      ]
    },
    {
      "cell_type": "code",
      "source": [
        "print(3*(4+5)*2)"
      ],
      "metadata": {
        "colab": {
          "base_uri": "https://localhost:8080/"
        },
        "id": "C2NSMkqimruF",
        "outputId": "26a3a119-5b68-4f03-a0d8-49755299db5e"
      },
      "execution_count": 5,
      "outputs": [
        {
          "output_type": "stream",
          "name": "stdout",
          "text": [
            "54\n"
          ]
        }
      ]
    },
    {
      "cell_type": "code",
      "execution_count": 6,
      "metadata": {
        "id": "bkBuygrWl7Lt"
      },
      "outputs": [],
      "source": [
        "# Urutan Aritmatika\n",
        "# 1. Tanda kurung\n",
        "# 2. Perkalian dan pembagian --> 3 / 4 * 5, yang didahulukan dari kiri\n",
        "# 3. Penjumlahan dan pengurangan"
      ]
    },
    {
      "cell_type": "code",
      "source": [
        "print(3 / 4 * 5)"
      ],
      "metadata": {
        "colab": {
          "base_uri": "https://localhost:8080/"
        },
        "id": "ymHXTlqlnLSE",
        "outputId": "96db75b9-e3c4-49df-996b-1c238f55e90e"
      },
      "execution_count": 7,
      "outputs": [
        {
          "output_type": "stream",
          "name": "stdout",
          "text": [
            "3.75\n"
          ]
        }
      ]
    },
    {
      "cell_type": "code",
      "source": [
        "print(3 / (4 * 5))"
      ],
      "metadata": {
        "colab": {
          "base_uri": "https://localhost:8080/"
        },
        "id": "QtBHGXhnnOMm",
        "outputId": "7bb41312-2b35-4443-ed16-933461d68da7"
      },
      "execution_count": 9,
      "outputs": [
        {
          "output_type": "stream",
          "name": "stdout",
          "text": [
            "0.15\n"
          ]
        }
      ]
    },
    {
      "cell_type": "code",
      "source": [],
      "metadata": {
        "id": "oQQz2_kAneo2"
      },
      "execution_count": null,
      "outputs": []
    },
    {
      "cell_type": "markdown",
      "source": [
        "# Menulis formula matematis di Python"
      ],
      "metadata": {
        "id": "oMDbZ8oUnzCr"
      }
    },
    {
      "cell_type": "code",
      "source": [
        "from IPython.display import display, Math"
      ],
      "metadata": {
        "id": "Fy6PGB_Pn3JJ"
      },
      "execution_count": 10,
      "outputs": []
    },
    {
      "cell_type": "code",
      "source": [
        "display('4 + 3 = 7')"
      ],
      "metadata": {
        "colab": {
          "base_uri": "https://localhost:8080/",
          "height": 36
        },
        "id": "cQ6BPXuUn88g",
        "outputId": "dff2ace9-1f54-4195-d9df-6e7fb0729844"
      },
      "execution_count": 11,
      "outputs": [
        {
          "output_type": "display_data",
          "data": {
            "text/plain": [
              "'4 + 3 = 7'"
            ],
            "application/vnd.google.colaboratory.intrinsic+json": {
              "type": "string"
            }
          },
          "metadata": {}
        }
      ]
    },
    {
      "cell_type": "code",
      "source": [
        "display(Math('4 + 3 = 7'))"
      ],
      "metadata": {
        "colab": {
          "base_uri": "https://localhost:8080/",
          "height": 37
        },
        "id": "TRYNvw13oB4z",
        "outputId": "ad879dfa-f939-441e-9eb7-6737adeb46fd"
      },
      "execution_count": 12,
      "outputs": [
        {
          "output_type": "display_data",
          "data": {
            "text/plain": [
              "<IPython.core.display.Math object>"
            ],
            "text/latex": "$\\displaystyle 4 + 3 = 7$"
          },
          "metadata": {}
        }
      ]
    },
    {
      "cell_type": "code",
      "source": [
        "x = 2\n",
        "y = 4"
      ],
      "metadata": {
        "id": "wP_PNiXIoJ6C"
      },
      "execution_count": 15,
      "outputs": []
    },
    {
      "cell_type": "code",
      "source": [
        "display(Math(f'{x} + {y} = {x+y}'))"
      ],
      "metadata": {
        "colab": {
          "base_uri": "https://localhost:8080/",
          "height": 37
        },
        "id": "Ftau3Fd1olqP",
        "outputId": "2b6df726-a00b-4680-ccd3-d895c876ede0"
      },
      "execution_count": 16,
      "outputs": [
        {
          "output_type": "display_data",
          "data": {
            "text/plain": [
              "<IPython.core.display.Math object>"
            ],
            "text/latex": "$\\displaystyle 2 + 4 = 6$"
          },
          "metadata": {}
        }
      ]
    },
    {
      "cell_type": "code",
      "source": [
        "display(Math('{} + {} = {}'.format(x, y, x+y)))"
      ],
      "metadata": {
        "colab": {
          "base_uri": "https://localhost:8080/",
          "height": 37
        },
        "id": "-GoeRwVSoXwp",
        "outputId": "211efa2b-7c8a-42f2-f97e-84e32f3605fd"
      },
      "execution_count": 14,
      "outputs": [
        {
          "output_type": "display_data",
          "data": {
            "text/plain": [
              "<IPython.core.display.Math object>"
            ],
            "text/latex": "$\\displaystyle 2 + 4 = 6$"
          },
          "metadata": {}
        }
      ]
    },
    {
      "cell_type": "code",
      "source": [
        "display(Math(f'{x}/{y} = {x/y}'))"
      ],
      "metadata": {
        "colab": {
          "base_uri": "https://localhost:8080/",
          "height": 37
        },
        "id": "5r57VY75oiQD",
        "outputId": "093f0fce-7a29-4d19-feb8-a1e030b1c1a1"
      },
      "execution_count": 17,
      "outputs": [
        {
          "output_type": "display_data",
          "data": {
            "text/plain": [
              "<IPython.core.display.Math object>"
            ],
            "text/latex": "$\\displaystyle 2/4 = 0.5$"
          },
          "metadata": {}
        }
      ]
    },
    {
      "cell_type": "code",
      "source": [
        "display(Math(f'\\\\frac{4}{5} = {4/5}'))"
      ],
      "metadata": {
        "colab": {
          "base_uri": "https://localhost:8080/",
          "height": 51
        },
        "id": "khsnuPhBot_j",
        "outputId": "3a258c0a-ec2b-4d18-94f3-d4142615975e"
      },
      "execution_count": 18,
      "outputs": [
        {
          "output_type": "display_data",
          "data": {
            "text/plain": [
              "<IPython.core.display.Math object>"
            ],
            "text/latex": "$\\displaystyle \\frac45 = 0.8$"
          },
          "metadata": {}
        }
      ]
    },
    {
      "cell_type": "code",
      "source": [
        "display(Math(f'{x}\\\\times{y} = {x*y}'))"
      ],
      "metadata": {
        "colab": {
          "base_uri": "https://localhost:8080/",
          "height": 37
        },
        "id": "AXGWnuVHo40h",
        "outputId": "e30cae65-c703-4c65-bd1b-bb4e0d715934"
      },
      "execution_count": 19,
      "outputs": [
        {
          "output_type": "display_data",
          "data": {
            "text/plain": [
              "<IPython.core.display.Math object>"
            ],
            "text/latex": "$\\displaystyle 2\\times4 = 8$"
          },
          "metadata": {}
        }
      ]
    },
    {
      "cell_type": "code",
      "source": [
        "x = 5\n",
        "y = 10\n",
        "z = 2"
      ],
      "metadata": {
        "id": "g2HTNgQKo_IM"
      },
      "execution_count": 20,
      "outputs": []
    },
    {
      "cell_type": "code",
      "source": [
        "# Solusi pertama\n",
        "jawaban1 = 5*x*(5+y)"
      ],
      "metadata": {
        "id": "WARix7dSqlgj"
      },
      "execution_count": 26,
      "outputs": []
    },
    {
      "cell_type": "code",
      "source": [
        "display(Math(f'5x(5+y) = {jawaban1}'))"
      ],
      "metadata": {
        "colab": {
          "base_uri": "https://localhost:8080/",
          "height": 39
        },
        "id": "SkiLac3Aqsq_",
        "outputId": "b8d7dd43-1915-49a3-f78f-115b37591a1d"
      },
      "execution_count": 27,
      "outputs": [
        {
          "output_type": "display_data",
          "data": {
            "text/plain": [
              "<IPython.core.display.Math object>"
            ],
            "text/latex": "$\\displaystyle 5x(5+y) = 375$"
          },
          "metadata": {}
        }
      ]
    },
    {
      "cell_type": "code",
      "source": [
        "# Solusi kedua\n",
        "jawaban2 = -y -((x-2)/z)"
      ],
      "metadata": {
        "id": "LT3P8rOfqzDS"
      },
      "execution_count": 33,
      "outputs": []
    },
    {
      "cell_type": "code",
      "source": [
        "display(Math(f'-y -\\\\frac{x-2}{z} = {jawaban2}'))"
      ],
      "metadata": {
        "colab": {
          "base_uri": "https://localhost:8080/",
          "height": 51
        },
        "id": "79idStZdq9FS",
        "outputId": "617120d9-b4bc-4b21-9b25-6e8642ab3bb1"
      },
      "execution_count": 35,
      "outputs": [
        {
          "output_type": "display_data",
          "data": {
            "text/plain": [
              "<IPython.core.display.Math object>"
            ],
            "text/latex": "$\\displaystyle -y -\\frac32 = -11.5$"
          },
          "metadata": {}
        }
      ]
    },
    {
      "cell_type": "code",
      "source": [
        "display(Math('-y -\\\\frac{x-2}{z} = %g' %jawaban2))"
      ],
      "metadata": {
        "colab": {
          "base_uri": "https://localhost:8080/",
          "height": 51
        },
        "id": "9HNaf_hPrrr3",
        "outputId": "b2d20f21-b9b7-4ddf-d399-85ccdafa0a4c"
      },
      "execution_count": 36,
      "outputs": [
        {
          "output_type": "display_data",
          "data": {
            "text/plain": [
              "<IPython.core.display.Math object>"
            ],
            "text/latex": "$\\displaystyle -y -\\frac{x-2}{z} = -11.5$"
          },
          "metadata": {}
        }
      ]
    },
    {
      "cell_type": "code",
      "source": [
        "print('Penulisan print formatting versi lama %s %d %f %g' %('coba', 23, 45.8, 67.987))"
      ],
      "metadata": {
        "colab": {
          "base_uri": "https://localhost:8080/"
        },
        "id": "1haBuy4w0Kei",
        "outputId": "96ffabf9-ebd3-480f-b331-50da4cd08867"
      },
      "execution_count": 38,
      "outputs": [
        {
          "output_type": "stream",
          "name": "stdout",
          "text": [
            "Penulisan print formatting versi lama coba 23 45.800000 67.987\n"
          ]
        }
      ]
    },
    {
      "cell_type": "markdown",
      "source": [
        "# Pangkat (Power)"
      ],
      "metadata": {
        "id": "Wc14Di7C0ghn"
      }
    },
    {
      "cell_type": "code",
      "source": [
        "# Urutan Artimatika\n",
        "# 1. Tanda kurung\n",
        "# 2. Pangkat\n",
        "# 3. Perkalian dan pembagian\n",
        "# 4. Penjumlahan dan pengurangan"
      ],
      "metadata": {
        "id": "j9DmMXLL0mA4"
      },
      "execution_count": 39,
      "outputs": []
    },
    {
      "cell_type": "code",
      "source": [
        "3**2"
      ],
      "metadata": {
        "colab": {
          "base_uri": "https://localhost:8080/"
        },
        "id": "G9x7sKrY1Id6",
        "outputId": "7bfd9103-289e-4491-9017-91ba1a6b4bb3"
      },
      "execution_count": 40,
      "outputs": [
        {
          "output_type": "execute_result",
          "data": {
            "text/plain": [
              "9"
            ]
          },
          "metadata": {},
          "execution_count": 40
        }
      ]
    },
    {
      "cell_type": "code",
      "source": [
        "from IPython.display import display, Math"
      ],
      "metadata": {
        "id": "fvbf99eb1JtJ"
      },
      "execution_count": 41,
      "outputs": []
    },
    {
      "cell_type": "code",
      "source": [
        "display(Math(f'3^2 = {3**2}'))"
      ],
      "metadata": {
        "colab": {
          "base_uri": "https://localhost:8080/",
          "height": 37
        },
        "id": "2OBIdHdy1QVm",
        "outputId": "e924ba4b-240f-4bc4-8867-3e3706328886"
      },
      "execution_count": 42,
      "outputs": [
        {
          "output_type": "display_data",
          "data": {
            "text/plain": [
              "<IPython.core.display.Math object>"
            ],
            "text/latex": "$\\displaystyle 3^2 = 9$"
          },
          "metadata": {}
        }
      ]
    },
    {
      "cell_type": "code",
      "source": [
        "display(Math(f'3^2 \\\\times 3^5= 3^7'))"
      ],
      "metadata": {
        "colab": {
          "base_uri": "https://localhost:8080/",
          "height": 37
        },
        "id": "3jdTdyNx1UwT",
        "outputId": "158cc770-416f-4f18-a7e7-6d122a5984e2"
      },
      "execution_count": 43,
      "outputs": [
        {
          "output_type": "display_data",
          "data": {
            "text/plain": [
              "<IPython.core.display.Math object>"
            ],
            "text/latex": "$\\displaystyle 3^2 \\times 3^5= 3^7$"
          },
          "metadata": {}
        }
      ]
    },
    {
      "cell_type": "code",
      "source": [
        "# Latihan\n",
        "\n",
        "x = 5\n",
        "y = 5.1"
      ],
      "metadata": {
        "id": "SyGMXJoC1lDF"
      },
      "execution_count": 44,
      "outputs": []
    },
    {
      "cell_type": "code",
      "source": [
        "# Solusi pertama\n",
        "display(Math(f'x^{{3/4}} \\\\times 4^y = {x**(3/4) * 4**y}'))"
      ],
      "metadata": {
        "colab": {
          "base_uri": "https://localhost:8080/",
          "height": 39
        },
        "id": "MJeq3JTe1sTH",
        "outputId": "c2ec16ce-9c4f-40b8-9b9b-006b614f3b1a"
      },
      "execution_count": 45,
      "outputs": [
        {
          "output_type": "display_data",
          "data": {
            "text/plain": [
              "<IPython.core.display.Math object>"
            ],
            "text/latex": "$\\displaystyle x^{3/4} \\times 4^y = 3933.086147822751$"
          },
          "metadata": {}
        }
      ]
    },
    {
      "cell_type": "code",
      "source": [
        "# Solusi kedua\n",
        "display(Math(f'\\\\frac{{3^3}}{{x^y}} = {3**3 / x**y}'))"
      ],
      "metadata": {
        "colab": {
          "base_uri": "https://localhost:8080/",
          "height": 54
        },
        "id": "lPxNU_wh14eR",
        "outputId": "5c10182d-b311-48a6-ff43-31e378440168"
      },
      "execution_count": 46,
      "outputs": [
        {
          "output_type": "display_data",
          "data": {
            "text/plain": [
              "<IPython.core.display.Math object>"
            ],
            "text/latex": "$\\displaystyle \\frac{3^3}{x^y} = 0.007355576930579584$"
          },
          "metadata": {}
        }
      ]
    },
    {
      "cell_type": "code",
      "source": [
        "# Solusi ketiga\n",
        "display(Math(f'10^{{x-4}} = {10**(x-4)}'))"
      ],
      "metadata": {
        "colab": {
          "base_uri": "https://localhost:8080/",
          "height": 37
        },
        "id": "tfIMgXSF1_V7",
        "outputId": "95972ee3-f616-4b7a-8479-27f645b7da7e"
      },
      "execution_count": 47,
      "outputs": [
        {
          "output_type": "display_data",
          "data": {
            "text/plain": [
              "<IPython.core.display.Math object>"
            ],
            "text/latex": "$\\displaystyle 10^{x-4} = 10$"
          },
          "metadata": {}
        }
      ]
    },
    {
      "cell_type": "code",
      "source": [],
      "metadata": {
        "id": "KE0GQhKt2Cvt"
      },
      "execution_count": null,
      "outputs": []
    }
  ]
}