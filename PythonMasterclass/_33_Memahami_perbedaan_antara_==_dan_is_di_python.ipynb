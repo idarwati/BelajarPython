{
  "nbformat": 4,
  "nbformat_minor": 0,
  "metadata": {
    "colab": {
      "provenance": [],
      "authorship_tag": "ABX9TyMCv368WroYS1OTNPyl8JaQ",
      "include_colab_link": true
    },
    "kernelspec": {
      "name": "python3",
      "display_name": "Python 3"
    },
    "language_info": {
      "name": "python"
    }
  },
  "cells": [
    {
      "cell_type": "markdown",
      "metadata": {
        "id": "view-in-github",
        "colab_type": "text"
      },
      "source": [
        "<a href=\"https://colab.research.google.com/github/idarwati/BelajarPython/blob/main/PythonMasterclass/_33_Memahami_perbedaan_antara_%3D%3D_dan_is_di_python.ipynb\" target=\"_parent\"><img src=\"https://colab.research.google.com/assets/colab-badge.svg\" alt=\"Open In Colab\"/></a>"
      ]
    },
    {
      "cell_type": "markdown",
      "source": [
        "# **Apa itu ==**"
      ],
      "metadata": {
        "id": "bRBrvELvsDQE"
      }
    },
    {
      "cell_type": "code",
      "execution_count": null,
      "metadata": {
        "colab": {
          "base_uri": "https://localhost:8080/"
        },
        "id": "InTogoRPrTqc",
        "outputId": "a5be1f94-1d91-4ef0-9f55-c86bbea034a3"
      },
      "outputs": [
        {
          "output_type": "stream",
          "name": "stdout",
          "text": [
            "1.  True\n",
            "2.  False\n",
            "3.  False\n",
            "4.  True\n",
            "5.  True\n",
            "6.  True\n"
          ]
        }
      ],
      "source": [
        "print('1. ', True == 1)\n",
        "print('2. ', '' == 0)\n",
        "print('3. ', [] == False)\n",
        "print('4. ', 23 == 23.0)\n",
        "print('5. ', [] == [])\n",
        "print('6. ', () == ())"
      ]
    },
    {
      "cell_type": "code",
      "source": [
        "#beberapa pengecualian\n",
        "\n",
        "# True = 1 (contoh no.1)\n",
        "# False = 0\n",
        "# int = float (contoh no.4)"
      ],
      "metadata": {
        "id": "Lro16KSvviJY"
      },
      "execution_count": null,
      "outputs": []
    },
    {
      "cell_type": "code",
      "source": [
        "type([])"
      ],
      "metadata": {
        "colab": {
          "base_uri": "https://localhost:8080/"
        },
        "id": "eNqvkgXLuyXy",
        "outputId": "d5f75bef-c795-4824-9551-b195f33f3815"
      },
      "execution_count": null,
      "outputs": [
        {
          "output_type": "execute_result",
          "data": {
            "text/plain": [
              "list"
            ]
          },
          "metadata": {},
          "execution_count": 2
        }
      ]
    },
    {
      "cell_type": "code",
      "source": [
        "type(False)"
      ],
      "metadata": {
        "colab": {
          "base_uri": "https://localhost:8080/"
        },
        "id": "3yDJsbNXvZK9",
        "outputId": "f7a7fd14-e685-4ff8-a520-e241082246b2"
      },
      "execution_count": null,
      "outputs": [
        {
          "output_type": "execute_result",
          "data": {
            "text/plain": [
              "bool"
            ]
          },
          "metadata": {},
          "execution_count": 3
        }
      ]
    },
    {
      "cell_type": "code",
      "source": [
        "print('1. ', True is 1)\n",
        "print('2. ', '' is 0)\n",
        "print('3. ', [] is False)\n",
        "print('4. ', 23 is 23.0)\n",
        "print('5. ', [] is []) # sequence mutable (list, dict, set) (bisa diubah) --> berbeda\n",
        "print('6. ', () is ()) # sequence imutable (tuple) (tidak bisa diubah) --> sama"
      ],
      "metadata": {
        "colab": {
          "base_uri": "https://localhost:8080/"
        },
        "id": "jvCc41rZvby3",
        "outputId": "a0aa17bc-002f-4b39-fb7d-45f0a330f69b"
      },
      "execution_count": null,
      "outputs": [
        {
          "output_type": "stream",
          "name": "stdout",
          "text": [
            "1.  False\n",
            "2.  False\n",
            "3.  False\n",
            "4.  False\n",
            "5.  False\n",
            "6.  True\n"
          ]
        },
        {
          "output_type": "stream",
          "name": "stderr",
          "text": [
            "<>:1: SyntaxWarning: \"is\" with a literal. Did you mean \"==\"?\n",
            "<>:2: SyntaxWarning: \"is\" with a literal. Did you mean \"==\"?\n",
            "<>:4: SyntaxWarning: \"is\" with a literal. Did you mean \"==\"?\n",
            "<>:6: SyntaxWarning: \"is\" with a literal. Did you mean \"==\"?\n",
            "<>:1: SyntaxWarning: \"is\" with a literal. Did you mean \"==\"?\n",
            "<>:2: SyntaxWarning: \"is\" with a literal. Did you mean \"==\"?\n",
            "<>:4: SyntaxWarning: \"is\" with a literal. Did you mean \"==\"?\n",
            "<>:6: SyntaxWarning: \"is\" with a literal. Did you mean \"==\"?\n",
            "<ipython-input-6-6dea450df702>:1: SyntaxWarning: \"is\" with a literal. Did you mean \"==\"?\n",
            "  print('1. ', True is 1)\n",
            "<ipython-input-6-6dea450df702>:2: SyntaxWarning: \"is\" with a literal. Did you mean \"==\"?\n",
            "  print('2. ', '' is 0)\n",
            "<ipython-input-6-6dea450df702>:4: SyntaxWarning: \"is\" with a literal. Did you mean \"==\"?\n",
            "  print('4. ', 23 is 23.0)\n",
            "<ipython-input-6-6dea450df702>:6: SyntaxWarning: \"is\" with a literal. Did you mean \"==\"?\n",
            "  print('6. ', () is ())\n"
          ]
        }
      ]
    },
    {
      "cell_type": "markdown",
      "source": [
        "# == digunakan untuk membandingnkan nilai\n",
        "\n",
        "# is digunakan untuk membandingkan posisi memory"
      ],
      "metadata": {
        "id": "CAiMhHfawNiZ"
      }
    },
    {
      "cell_type": "code",
      "source": [],
      "metadata": {
        "id": "OURGLBjev_a6"
      },
      "execution_count": null,
      "outputs": []
    }
  ]
}