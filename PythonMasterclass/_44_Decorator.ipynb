{
  "nbformat": 4,
  "nbformat_minor": 0,
  "metadata": {
    "colab": {
      "provenance": [],
      "authorship_tag": "ABX9TyPspSXwOxQUX642+dvoTCX+",
      "include_colab_link": true
    },
    "kernelspec": {
      "name": "python3",
      "display_name": "Python 3"
    },
    "language_info": {
      "name": "python"
    }
  },
  "cells": [
    {
      "cell_type": "markdown",
      "metadata": {
        "id": "view-in-github",
        "colab_type": "text"
      },
      "source": [
        "<a href=\"https://colab.research.google.com/github/idarwati/BelajarPython/blob/main/PythonMasterclass/_44_Decorator.ipynb\" target=\"_parent\"><img src=\"https://colab.research.google.com/assets/colab-badge.svg\" alt=\"Open In Colab\"/></a>"
      ]
    },
    {
      "cell_type": "markdown",
      "source": [
        "# Pendahuluan"
      ],
      "metadata": {
        "id": "R1G77Itb81mm"
      }
    },
    {
      "cell_type": "code",
      "execution_count": 1,
      "metadata": {
        "id": "rD69qPQG3NCw"
      },
      "outputs": [],
      "source": [
        "def kurban():\n",
        "  print('Bentar lagi kurban!')"
      ]
    },
    {
      "cell_type": "code",
      "source": [
        "coba = kurban"
      ],
      "metadata": {
        "id": "CMfLEUJm3aC_"
      },
      "execution_count": 2,
      "outputs": []
    },
    {
      "cell_type": "code",
      "source": [
        "kurban"
      ],
      "metadata": {
        "colab": {
          "base_uri": "https://localhost:8080/",
          "height": 105
        },
        "id": "3lZutB_W3c9l",
        "outputId": "5b74ddd8-d214-42b4-cf61-9a152833daeb"
      },
      "execution_count": 3,
      "outputs": [
        {
          "output_type": "execute_result",
          "data": {
            "text/plain": [
              "<function __main__.kurban()>"
            ],
            "text/html": [
              "<div style=\"max-width:800px; border: 1px solid var(--colab-border-color);\"><style>\n",
              "      pre.function-repr-contents {\n",
              "        overflow-x: auto;\n",
              "        padding: 8px 12px;\n",
              "        max-height: 500px;\n",
              "      }\n",
              "\n",
              "      pre.function-repr-contents.function-repr-contents-collapsed {\n",
              "        cursor: pointer;\n",
              "        max-height: 100px;\n",
              "      }\n",
              "    </style>\n",
              "    <pre style=\"white-space: initial; background:\n",
              "         var(--colab-secondary-surface-color); padding: 8px 12px;\n",
              "         border-bottom: 1px solid var(--colab-border-color);\"><b>kurban</b><br/>def kurban()</pre><pre class=\"function-repr-contents function-repr-contents-collapsed\" style=\"\"><a class=\"filepath\" style=\"display:none\" href=\"#\">/content/&lt;ipython-input-1-559459309&gt;</a>&lt;no docstring&gt;</pre></div>"
            ]
          },
          "metadata": {},
          "execution_count": 3
        }
      ]
    },
    {
      "cell_type": "code",
      "source": [
        "coba"
      ],
      "metadata": {
        "colab": {
          "base_uri": "https://localhost:8080/",
          "height": 105
        },
        "id": "MCn_XKQD3gTE",
        "outputId": "953f992a-ce09-460a-fff4-6c2fb68d5514"
      },
      "execution_count": 4,
      "outputs": [
        {
          "output_type": "execute_result",
          "data": {
            "text/plain": [
              "<function __main__.kurban()>"
            ],
            "text/html": [
              "<div style=\"max-width:800px; border: 1px solid var(--colab-border-color);\"><style>\n",
              "      pre.function-repr-contents {\n",
              "        overflow-x: auto;\n",
              "        padding: 8px 12px;\n",
              "        max-height: 500px;\n",
              "      }\n",
              "\n",
              "      pre.function-repr-contents.function-repr-contents-collapsed {\n",
              "        cursor: pointer;\n",
              "        max-height: 100px;\n",
              "      }\n",
              "    </style>\n",
              "    <pre style=\"white-space: initial; background:\n",
              "         var(--colab-secondary-surface-color); padding: 8px 12px;\n",
              "         border-bottom: 1px solid var(--colab-border-color);\"><b>kurban</b><br/>def kurban()</pre><pre class=\"function-repr-contents function-repr-contents-collapsed\" style=\"\"><a class=\"filepath\" style=\"display:none\" href=\"#\">/content/&lt;ipython-input-1-559459309&gt;</a>&lt;no docstring&gt;</pre></div>"
            ]
          },
          "metadata": {},
          "execution_count": 4
        }
      ]
    },
    {
      "cell_type": "code",
      "source": [
        "coba()"
      ],
      "metadata": {
        "colab": {
          "base_uri": "https://localhost:8080/"
        },
        "id": "yv49bMN83iTd",
        "outputId": "5a311388-382f-4a20-a324-a7384d8659cb"
      },
      "execution_count": 5,
      "outputs": [
        {
          "output_type": "stream",
          "name": "stdout",
          "text": [
            "Bentar lagi kurban!\n"
          ]
        }
      ]
    },
    {
      "cell_type": "code",
      "source": [
        "del kurban # delete kurban"
      ],
      "metadata": {
        "colab": {
          "base_uri": "https://localhost:8080/",
          "height": 141
        },
        "id": "jMnU3gmu3kau",
        "outputId": "ed3a26e7-afb1-40a4-dd4a-cbefe747afc0"
      },
      "execution_count": 7,
      "outputs": [
        {
          "output_type": "error",
          "ename": "NameError",
          "evalue": "name 'kurban' is not defined",
          "traceback": [
            "\u001b[0;31m---------------------------------------------------------------------------\u001b[0m",
            "\u001b[0;31mNameError\u001b[0m                                 Traceback (most recent call last)",
            "\u001b[0;32m<ipython-input-7-2579422094>\u001b[0m in \u001b[0;36m<cell line: 0>\u001b[0;34m()\u001b[0m\n\u001b[0;32m----> 1\u001b[0;31m \u001b[0;32mdel\u001b[0m \u001b[0mkurban\u001b[0m \u001b[0;31m# delete kurban\u001b[0m\u001b[0;34m\u001b[0m\u001b[0;34m\u001b[0m\u001b[0m\n\u001b[0m",
            "\u001b[0;31mNameError\u001b[0m: name 'kurban' is not defined"
          ]
        }
      ]
    },
    {
      "cell_type": "code",
      "source": [
        "coba"
      ],
      "metadata": {
        "colab": {
          "base_uri": "https://localhost:8080/",
          "height": 105
        },
        "id": "T4UfHHwl348s",
        "outputId": "7a22a20a-5b4a-4711-a8c1-ce50c6c261ec"
      },
      "execution_count": 8,
      "outputs": [
        {
          "output_type": "execute_result",
          "data": {
            "text/plain": [
              "<function __main__.kurban()>"
            ],
            "text/html": [
              "<div style=\"max-width:800px; border: 1px solid var(--colab-border-color);\"><style>\n",
              "      pre.function-repr-contents {\n",
              "        overflow-x: auto;\n",
              "        padding: 8px 12px;\n",
              "        max-height: 500px;\n",
              "      }\n",
              "\n",
              "      pre.function-repr-contents.function-repr-contents-collapsed {\n",
              "        cursor: pointer;\n",
              "        max-height: 100px;\n",
              "      }\n",
              "    </style>\n",
              "    <pre style=\"white-space: initial; background:\n",
              "         var(--colab-secondary-surface-color); padding: 8px 12px;\n",
              "         border-bottom: 1px solid var(--colab-border-color);\"><b>kurban</b><br/>def kurban()</pre><pre class=\"function-repr-contents function-repr-contents-collapsed\" style=\"\"><a class=\"filepath\" style=\"display:none\" href=\"#\">/content/&lt;ipython-input-1-559459309&gt;</a>&lt;no docstring&gt;</pre></div>"
            ]
          },
          "metadata": {},
          "execution_count": 8
        }
      ]
    },
    {
      "cell_type": "code",
      "source": [
        "coba()"
      ],
      "metadata": {
        "colab": {
          "base_uri": "https://localhost:8080/"
        },
        "id": "qM9sljJB3_ln",
        "outputId": "01f8a15e-f3c4-4976-d1d5-a460479567a5"
      },
      "execution_count": 9,
      "outputs": [
        {
          "output_type": "stream",
          "name": "stdout",
          "text": [
            "Bentar lagi kurban!\n"
          ]
        }
      ]
    },
    {
      "cell_type": "code",
      "source": [
        "def kurban2(bulan='Dzulhijjah'):\n",
        "  print('Bentar lagi kurban, semoga dimudahkan')"
      ],
      "metadata": {
        "id": "omys3_RH4EMa"
      },
      "execution_count": 10,
      "outputs": []
    },
    {
      "cell_type": "code",
      "source": [
        "kurban2"
      ],
      "metadata": {
        "colab": {
          "base_uri": "https://localhost:8080/",
          "height": 105
        },
        "id": "FSuhe2dJ4ZYa",
        "outputId": "4e99ce78-b9cb-4a21-dc7c-7808530d3582"
      },
      "execution_count": 11,
      "outputs": [
        {
          "output_type": "execute_result",
          "data": {
            "text/plain": [
              "<function __main__.kurban2(bulan='Dzulhijjah')>"
            ],
            "text/html": [
              "<div style=\"max-width:800px; border: 1px solid var(--colab-border-color);\"><style>\n",
              "      pre.function-repr-contents {\n",
              "        overflow-x: auto;\n",
              "        padding: 8px 12px;\n",
              "        max-height: 500px;\n",
              "      }\n",
              "\n",
              "      pre.function-repr-contents.function-repr-contents-collapsed {\n",
              "        cursor: pointer;\n",
              "        max-height: 100px;\n",
              "      }\n",
              "    </style>\n",
              "    <pre style=\"white-space: initial; background:\n",
              "         var(--colab-secondary-surface-color); padding: 8px 12px;\n",
              "         border-bottom: 1px solid var(--colab-border-color);\"><b>kurban2</b><br/>def kurban2(bulan=&#x27;Dzulhijjah&#x27;)</pre><pre class=\"function-repr-contents function-repr-contents-collapsed\" style=\"\"><a class=\"filepath\" style=\"display:none\" href=\"#\">/content/&lt;ipython-input-10-622442710&gt;</a>&lt;no docstring&gt;</pre></div>"
            ]
          },
          "metadata": {},
          "execution_count": 11
        }
      ]
    },
    {
      "cell_type": "code",
      "source": [
        "kurban2()"
      ],
      "metadata": {
        "colab": {
          "base_uri": "https://localhost:8080/"
        },
        "id": "h2dupT144bBW",
        "outputId": "91e21e90-0506-4442-dde5-79a11f6d1754"
      },
      "execution_count": 13,
      "outputs": [
        {
          "output_type": "stream",
          "name": "stdout",
          "text": [
            "Bentar lagi kurban, semoga dimudahkan\n"
          ]
        }
      ]
    },
    {
      "cell_type": "code",
      "source": [
        "def kurban2(bulan='Dzulhijjah'):\n",
        "  print('Bentar lagi kurban, semoga dimudahkan')\n",
        "def kurban2(bulan='Dzulhijjah'):\n",
        "  print('Bentar lagi kurban, semoga dimudahkan')\n",
        "\n",
        "  def lokasi():\n",
        "    return '\\t Lokasi kurban berada di masjid dekat rumah'"
      ],
      "metadata": {
        "id": "wN3Ao4Ka4drr"
      },
      "execution_count": 15,
      "outputs": []
    },
    {
      "cell_type": "code",
      "source": [
        "kurban2()"
      ],
      "metadata": {
        "colab": {
          "base_uri": "https://localhost:8080/"
        },
        "id": "35zSUhPC4qv5",
        "outputId": "64342490-819c-4ae9-b8bb-1ad179845d4a"
      },
      "execution_count": 16,
      "outputs": [
        {
          "output_type": "stream",
          "name": "stdout",
          "text": [
            "Bentar lagi kurban, semoga dimudahkan\n"
          ]
        }
      ]
    },
    {
      "cell_type": "code",
      "source": [
        "def kurban2(bulan='Dzulhijjah'):\n",
        "  print('Bentar lagi kurban, semoga dimudahkan')\n",
        "def kurban2(bulan='Dzulhijjah'):\n",
        "  print('Bentar lagi kurban, semoga dimudahkan')\n",
        "\n",
        "  def lokasi():\n",
        "    return '\\t Lokasi kurban berada di masjid dekat rumah'\n",
        "\n",
        "  print(lokasi())"
      ],
      "metadata": {
        "id": "yHTQSZEm4yqn"
      },
      "execution_count": 17,
      "outputs": []
    },
    {
      "cell_type": "code",
      "source": [
        "kurban2()"
      ],
      "metadata": {
        "colab": {
          "base_uri": "https://localhost:8080/"
        },
        "id": "CmXC0jli5Irp",
        "outputId": "4045c2e5-2bdf-4fc8-d4fd-52e5f478c0e2"
      },
      "execution_count": 18,
      "outputs": [
        {
          "output_type": "stream",
          "name": "stdout",
          "text": [
            "Bentar lagi kurban, semoga dimudahkan\n",
            "\t Lokasi kurban berada di masjid dekat rumah\n"
          ]
        }
      ]
    },
    {
      "cell_type": "code",
      "source": [
        "def kurban2(bulan='Dzulhijjah'):\n",
        "  print('Bentar lagi kurban, semoga dimudahkan')\n",
        "def kurban2(bulan='Dzulhijjah'):\n",
        "  print('Bentar lagi kurban, semoga dimudahkan')\n",
        "\n",
        "  def lokasi():\n",
        "    return '\\t Lokasi kurban berada di masjid dekat rumah'\n",
        "\n",
        "  def konfirmasi():\n",
        "    return '\\n \\t Bro ini bukan bulan Dzulhijjah, coba cek kalender Hijriah'\n",
        "\n",
        "  print(lokasi())\n",
        "  print(konfirmasi())\n",
        "\n",
        "  print('Ini adalah perintah terakhir di fungsi kurban2')"
      ],
      "metadata": {
        "id": "fcA2toqc5N6E"
      },
      "execution_count": 21,
      "outputs": []
    },
    {
      "cell_type": "code",
      "source": [
        "kurban2()"
      ],
      "metadata": {
        "colab": {
          "base_uri": "https://localhost:8080/"
        },
        "id": "sZnNIV9G5nRN",
        "outputId": "1f5fe471-f809-4ce8-a9af-c37739ea81b6"
      },
      "execution_count": 22,
      "outputs": [
        {
          "output_type": "stream",
          "name": "stdout",
          "text": [
            "Bentar lagi kurban, semoga dimudahkan\n",
            "\t Lokasi kurban berada di masjid dekat rumah\n",
            "\n",
            " \t Bro ini bukan bulan Dzulhijjah, coba cek kalender Hijriah\n",
            "Ini adalah perintah terakhir di fungsi kurban2\n"
          ]
        }
      ]
    },
    {
      "cell_type": "code",
      "source": [
        "def kurban2(bulan='Dzulhijjah'):\n",
        "  print('Bentar lagi kurban, semoga dimudahkan')\n",
        "\n",
        "  def lokasi():\n",
        "    return '\\t Lokasi kurban berada di masjid dekat rumah'\n",
        "\n",
        "  def konfirmasi():\n",
        "    return '\\n \\t Bro ini bukan bulan Dzulhijjah, coba cek kalender Hijriah'\n",
        "\n",
        "  print('Ini adalah perintah terakhir di fungsi kurban2')\n",
        "\n",
        "  if bulan=='Dzulhijah':\n",
        "    return lokasi\n",
        "\n",
        "  else:\n",
        "    return konfirmasi"
      ],
      "metadata": {
        "id": "ExKOFehs5pHV"
      },
      "execution_count": 30,
      "outputs": []
    },
    {
      "cell_type": "code",
      "source": [
        "kurban2()"
      ],
      "metadata": {
        "colab": {
          "base_uri": "https://localhost:8080/",
          "height": 140
        },
        "id": "MbxS8kri7yKh",
        "outputId": "687a0144-ccf0-433a-e8d6-3f09e18e8071"
      },
      "execution_count": 37,
      "outputs": [
        {
          "output_type": "stream",
          "name": "stdout",
          "text": [
            "Bentar lagi kurban, semoga dimudahkan\n",
            "Ini adalah perintah terakhir di fungsi kurban2\n"
          ]
        },
        {
          "output_type": "execute_result",
          "data": {
            "text/plain": [
              "<function __main__.kurban2.<locals>.konfirmasi()>"
            ],
            "text/html": [
              "<div style=\"max-width:800px; border: 1px solid var(--colab-border-color);\"><style>\n",
              "      pre.function-repr-contents {\n",
              "        overflow-x: auto;\n",
              "        padding: 8px 12px;\n",
              "        max-height: 500px;\n",
              "      }\n",
              "\n",
              "      pre.function-repr-contents.function-repr-contents-collapsed {\n",
              "        cursor: pointer;\n",
              "        max-height: 100px;\n",
              "      }\n",
              "    </style>\n",
              "    <pre style=\"white-space: initial; background:\n",
              "         var(--colab-secondary-surface-color); padding: 8px 12px;\n",
              "         border-bottom: 1px solid var(--colab-border-color);\"><b>kurban2.&lt;locals&gt;.konfirmasi</b><br/>def konfirmasi()</pre><pre class=\"function-repr-contents function-repr-contents-collapsed\" style=\"\"><a class=\"filepath\" style=\"display:none\" href=\"#\">/content/&lt;ipython-input-30-1201192999&gt;</a>&lt;no docstring&gt;</pre></div>"
            ]
          },
          "metadata": {},
          "execution_count": 37
        }
      ]
    },
    {
      "cell_type": "code",
      "source": [
        "cek_kurban = kurban2()"
      ],
      "metadata": {
        "colab": {
          "base_uri": "https://localhost:8080/"
        },
        "id": "PmPCsWH76Yd6",
        "outputId": "fd4d86f4-6a8d-4e12-94e2-c7ffd6a98a65"
      },
      "execution_count": 31,
      "outputs": [
        {
          "output_type": "stream",
          "name": "stdout",
          "text": [
            "Bentar lagi kurban, semoga dimudahkan\n",
            "Ini adalah perintah terakhir di fungsi kurban2\n"
          ]
        }
      ]
    },
    {
      "cell_type": "code",
      "source": [
        "cek_kurban"
      ],
      "metadata": {
        "colab": {
          "base_uri": "https://localhost:8080/",
          "height": 105
        },
        "id": "nIurALmb6lEP",
        "outputId": "94f5d80a-da36-4d40-c43c-1657d4b23cd9"
      },
      "execution_count": 32,
      "outputs": [
        {
          "output_type": "execute_result",
          "data": {
            "text/plain": [
              "<function __main__.kurban2.<locals>.konfirmasi()>"
            ],
            "text/html": [
              "<div style=\"max-width:800px; border: 1px solid var(--colab-border-color);\"><style>\n",
              "      pre.function-repr-contents {\n",
              "        overflow-x: auto;\n",
              "        padding: 8px 12px;\n",
              "        max-height: 500px;\n",
              "      }\n",
              "\n",
              "      pre.function-repr-contents.function-repr-contents-collapsed {\n",
              "        cursor: pointer;\n",
              "        max-height: 100px;\n",
              "      }\n",
              "    </style>\n",
              "    <pre style=\"white-space: initial; background:\n",
              "         var(--colab-secondary-surface-color); padding: 8px 12px;\n",
              "         border-bottom: 1px solid var(--colab-border-color);\"><b>kurban2.&lt;locals&gt;.konfirmasi</b><br/>def konfirmasi()</pre><pre class=\"function-repr-contents function-repr-contents-collapsed\" style=\"\"><a class=\"filepath\" style=\"display:none\" href=\"#\">/content/&lt;ipython-input-30-1201192999&gt;</a>&lt;no docstring&gt;</pre></div>"
            ]
          },
          "metadata": {},
          "execution_count": 32
        }
      ]
    },
    {
      "cell_type": "code",
      "source": [
        "cek_kurban()"
      ],
      "metadata": {
        "colab": {
          "base_uri": "https://localhost:8080/",
          "height": 36
        },
        "id": "ABlWqigV6zme",
        "outputId": "f65b25e6-6d04-4e5e-cc56-992d715925e9"
      },
      "execution_count": 29,
      "outputs": [
        {
          "output_type": "execute_result",
          "data": {
            "text/plain": [
              "'\\n \\t Bro ini bukan bulan Dzulhijjah, coba cek kalender Hijriah'"
            ],
            "application/vnd.google.colaboratory.intrinsic+json": {
              "type": "string"
            }
          },
          "metadata": {},
          "execution_count": 29
        }
      ]
    },
    {
      "cell_type": "code",
      "source": [
        "print(cek_kurban())"
      ],
      "metadata": {
        "colab": {
          "base_uri": "https://localhost:8080/"
        },
        "id": "twW_8ZTF64Bl",
        "outputId": "57154327-3c72-4b50-c675-ecccd144b3bb"
      },
      "execution_count": 33,
      "outputs": [
        {
          "output_type": "stream",
          "name": "stdout",
          "text": [
            "\n",
            " \t Bro ini bukan bulan Dzulhijjah, coba cek kalender Hijriah\n"
          ]
        }
      ]
    },
    {
      "cell_type": "code",
      "source": [
        "cek_lagi = kurban2('Syawal')"
      ],
      "metadata": {
        "colab": {
          "base_uri": "https://localhost:8080/"
        },
        "id": "1rl3iPRO7XMD",
        "outputId": "f668dbb5-c2e0-402a-fc13-198278158e2d"
      },
      "execution_count": 35,
      "outputs": [
        {
          "output_type": "stream",
          "name": "stdout",
          "text": [
            "Bentar lagi kurban, semoga dimudahkan\n",
            "Ini adalah perintah terakhir di fungsi kurban2\n"
          ]
        }
      ]
    },
    {
      "cell_type": "code",
      "source": [
        "cek_lagi"
      ],
      "metadata": {
        "colab": {
          "base_uri": "https://localhost:8080/",
          "height": 105
        },
        "id": "Qk6hfxku6XfF",
        "outputId": "23a12fdb-9696-4197-e36e-ef9b61c53ed7"
      },
      "execution_count": 36,
      "outputs": [
        {
          "output_type": "execute_result",
          "data": {
            "text/plain": [
              "<function __main__.kurban2.<locals>.konfirmasi()>"
            ],
            "text/html": [
              "<div style=\"max-width:800px; border: 1px solid var(--colab-border-color);\"><style>\n",
              "      pre.function-repr-contents {\n",
              "        overflow-x: auto;\n",
              "        padding: 8px 12px;\n",
              "        max-height: 500px;\n",
              "      }\n",
              "\n",
              "      pre.function-repr-contents.function-repr-contents-collapsed {\n",
              "        cursor: pointer;\n",
              "        max-height: 100px;\n",
              "      }\n",
              "    </style>\n",
              "    <pre style=\"white-space: initial; background:\n",
              "         var(--colab-secondary-surface-color); padding: 8px 12px;\n",
              "         border-bottom: 1px solid var(--colab-border-color);\"><b>kurban2.&lt;locals&gt;.konfirmasi</b><br/>def konfirmasi()</pre><pre class=\"function-repr-contents function-repr-contents-collapsed\" style=\"\"><a class=\"filepath\" style=\"display:none\" href=\"#\">/content/&lt;ipython-input-30-1201192999&gt;</a>&lt;no docstring&gt;</pre></div>"
            ]
          },
          "metadata": {},
          "execution_count": 36
        }
      ]
    },
    {
      "cell_type": "code",
      "source": [
        "def salam():\n",
        "  return 'Assalamu\\'alaikum'"
      ],
      "metadata": {
        "id": "PN60MkPG8A-C"
      },
      "execution_count": 38,
      "outputs": []
    },
    {
      "cell_type": "code",
      "source": [
        "salam()"
      ],
      "metadata": {
        "colab": {
          "base_uri": "https://localhost:8080/",
          "height": 36
        },
        "id": "ESW7vA1l8KEp",
        "outputId": "f146ae74-7594-4a6a-c248-d8fface5c805"
      },
      "execution_count": 39,
      "outputs": [
        {
          "output_type": "execute_result",
          "data": {
            "text/plain": [
              "\"Assalamu'alaikum\""
            ],
            "application/vnd.google.colaboratory.intrinsic+json": {
              "type": "string"
            }
          },
          "metadata": {},
          "execution_count": 39
        }
      ]
    },
    {
      "cell_type": "code",
      "source": [
        "def kabar(fungsi_lain):\n",
        "  print('Saya menjalankan fungsi lain')\n",
        "  print(fungsi_lain())"
      ],
      "metadata": {
        "id": "N8IrZNEd8LP7"
      },
      "execution_count": 43,
      "outputs": []
    },
    {
      "cell_type": "code",
      "source": [
        "kabar(salam)"
      ],
      "metadata": {
        "colab": {
          "base_uri": "https://localhost:8080/"
        },
        "id": "AZIFQnq_8Z_-",
        "outputId": "b90518b8-5748-4b5e-ac4b-a90664168926"
      },
      "execution_count": 44,
      "outputs": [
        {
          "output_type": "stream",
          "name": "stdout",
          "text": [
            "Saya menjalankan fungsi lain\n",
            "Assalamu'alaikum\n"
          ]
        }
      ]
    },
    {
      "cell_type": "code",
      "source": [
        "def kabar(fungsi_lain):\n",
        "  print('Saya menjalankan fungsi lain')\n",
        "  print(fungsi_lain)"
      ],
      "metadata": {
        "id": "PKJZr7UT8bzA"
      },
      "execution_count": 45,
      "outputs": []
    },
    {
      "cell_type": "code",
      "source": [
        "kabar(salam)"
      ],
      "metadata": {
        "colab": {
          "base_uri": "https://localhost:8080/"
        },
        "id": "Dt8IpMB98oeY",
        "outputId": "4c0bc2ab-fdf2-430a-e552-b4d3a725fc8d"
      },
      "execution_count": 46,
      "outputs": [
        {
          "output_type": "stream",
          "name": "stdout",
          "text": [
            "Saya menjalankan fungsi lain\n",
            "<function salam at 0x7f5ec714e700>\n"
          ]
        }
      ]
    },
    {
      "cell_type": "code",
      "source": [
        "def kabar(fungsi_lain):\n",
        "  print('Saya menjalankan fungsi lain')\n",
        "  print(fungsi_lain)"
      ],
      "metadata": {
        "id": "nz1134j38qCw"
      },
      "execution_count": 47,
      "outputs": []
    },
    {
      "cell_type": "code",
      "source": [
        "kabar(salam())"
      ],
      "metadata": {
        "colab": {
          "base_uri": "https://localhost:8080/"
        },
        "id": "KRLJRpHD8toL",
        "outputId": "593f0e5b-9c12-4b7e-e6cb-9dffc7507f27"
      },
      "execution_count": 48,
      "outputs": [
        {
          "output_type": "stream",
          "name": "stdout",
          "text": [
            "Saya menjalankan fungsi lain\n",
            "Assalamu'alaikum\n"
          ]
        }
      ]
    },
    {
      "cell_type": "markdown",
      "source": [
        "# Decorator\n",
        "\n",
        "Fungsi yang disingkat dengan @"
      ],
      "metadata": {
        "id": "tSiBdkRV8y_a"
      }
    },
    {
      "cell_type": "code",
      "source": [
        "def dekoratorku(fungsi):\n",
        "  def wrap_func():\n",
        "    fungsi()\n",
        "  return wrap_func"
      ],
      "metadata": {
        "id": "ELcvaHWq9G0R"
      },
      "execution_count": 54,
      "outputs": []
    },
    {
      "cell_type": "code",
      "source": [
        "def salam():\n",
        "  print('Assalamu\\'alaikum')"
      ],
      "metadata": {
        "id": "tZTHW8MB9UB0"
      },
      "execution_count": 55,
      "outputs": []
    },
    {
      "cell_type": "code",
      "source": [
        "salam()"
      ],
      "metadata": {
        "colab": {
          "base_uri": "https://localhost:8080/"
        },
        "id": "FZvEMusD9gUN",
        "outputId": "f48e3daf-1089-4c35-bcf2-6283f59f48f3"
      },
      "execution_count": 56,
      "outputs": [
        {
          "output_type": "stream",
          "name": "stdout",
          "text": [
            "Assalamu'alaikum\n"
          ]
        }
      ]
    },
    {
      "cell_type": "code",
      "source": [
        "@dekoratorku\n",
        "def salam():\n",
        "  print('Assalamu\\'alaikum')"
      ],
      "metadata": {
        "id": "CPyqM2Wt9h_o"
      },
      "execution_count": 57,
      "outputs": []
    },
    {
      "cell_type": "code",
      "source": [
        "salam()"
      ],
      "metadata": {
        "colab": {
          "base_uri": "https://localhost:8080/"
        },
        "id": "NaP9aTm39nWU",
        "outputId": "9de36981-f899-4e5b-b39f-7f1801ee39a0"
      },
      "execution_count": 58,
      "outputs": [
        {
          "output_type": "stream",
          "name": "stdout",
          "text": [
            "Assalamu'alaikum\n"
          ]
        }
      ]
    },
    {
      "cell_type": "code",
      "source": [
        "def dekoratorku(fungsi):\n",
        "  def wrap_func():\n",
        "    print('Saya adalah perintah sebelum perintah fungsi aslinya')\n",
        "    fungsi()\n",
        "    print('Saya adalah setelah fungsi aslinya')\n",
        "    print('-_-')\n",
        "  return wrap_func"
      ],
      "metadata": {
        "id": "cqKPhiUm9t8g"
      },
      "execution_count": 59,
      "outputs": []
    },
    {
      "cell_type": "code",
      "source": [
        "@dekoratorku\n",
        "def salam():\n",
        "  print('Assalamu\\'alaikum')"
      ],
      "metadata": {
        "id": "BaKbxrVQ-Wdr"
      },
      "execution_count": 61,
      "outputs": []
    },
    {
      "cell_type": "code",
      "source": [
        "salam()"
      ],
      "metadata": {
        "colab": {
          "base_uri": "https://localhost:8080/"
        },
        "id": "CoUp9Zij-eNd",
        "outputId": "190e0901-5907-4da9-b99d-5c289065a082"
      },
      "execution_count": 62,
      "outputs": [
        {
          "output_type": "stream",
          "name": "stdout",
          "text": [
            "Saya adalah perintah sebelum perintah fungsi aslinya\n",
            "Assalamu'alaikum\n",
            "Saya adalah setelah fungsi aslinya\n",
            "-_-\n"
          ]
        }
      ]
    },
    {
      "cell_type": "code",
      "source": [
        "def dekoratorku(fungsi):\n",
        "  def wrap_func():\n",
        "    print('Saya adalah perintah sebelum perintah fungsi aslinya')\n",
        "    print('\\n')\n",
        "    fungsi()\n",
        "    print('\\n')\n",
        "    print('Saya adalah setelah fungsi aslinya')\n",
        "    print('-_-')\n",
        "  return wrap_func"
      ],
      "metadata": {
        "id": "sVZU8bZS_CQF"
      },
      "execution_count": 66,
      "outputs": []
    },
    {
      "cell_type": "code",
      "source": [
        "@dekoratorku\n",
        "def hitung():\n",
        "  print('Perhitungan dan aritmatika harus dikuasai sebelum menguasai AI dan Data Science')"
      ],
      "metadata": {
        "id": "pRr5Qhey-fs4"
      },
      "execution_count": 67,
      "outputs": []
    },
    {
      "cell_type": "code",
      "source": [
        "hitung()"
      ],
      "metadata": {
        "colab": {
          "base_uri": "https://localhost:8080/"
        },
        "id": "Scs2xZ4A-1Y1",
        "outputId": "4c800586-f15c-454a-ba74-30e4b84c0c37"
      },
      "execution_count": 68,
      "outputs": [
        {
          "output_type": "stream",
          "name": "stdout",
          "text": [
            "Saya adalah perintah sebelum perintah fungsi aslinya\n",
            "\n",
            "\n",
            "Perhitungan dan aritmatika harus dikuasai sebelum menguasai AI dan Data Science\n",
            "\n",
            "\n",
            "Saya adalah setelah fungsi aslinya\n",
            "-_-\n"
          ]
        }
      ]
    },
    {
      "cell_type": "code",
      "source": [
        "@dekoratorku\n",
        "def hitung():\n",
        "  print('Perhitungan dan aritmatika harus dikuasai sebelum menguasai AI dan Data Science')\n",
        "def salam():\n",
        "  print('Assalamu\\'alaikum')"
      ],
      "metadata": {
        "id": "1O0AUqlA-Z1N"
      },
      "execution_count": 69,
      "outputs": []
    },
    {
      "cell_type": "code",
      "source": [
        "salam()"
      ],
      "metadata": {
        "colab": {
          "base_uri": "https://localhost:8080/"
        },
        "id": "RlIKCIO2_hb5",
        "outputId": "182ec808-87b5-4e57-d92a-1956f0147f0f"
      },
      "execution_count": 70,
      "outputs": [
        {
          "output_type": "stream",
          "name": "stdout",
          "text": [
            "Assalamu'alaikum\n"
          ]
        }
      ]
    },
    {
      "cell_type": "code",
      "source": [
        "hitung()"
      ],
      "metadata": {
        "colab": {
          "base_uri": "https://localhost:8080/"
        },
        "id": "JmO8NHCC_ixn",
        "outputId": "6fffef9a-6e16-4f3a-f424-3c26481f4f70"
      },
      "execution_count": 71,
      "outputs": [
        {
          "output_type": "stream",
          "name": "stdout",
          "text": [
            "Saya adalah perintah sebelum perintah fungsi aslinya\n",
            "\n",
            "\n",
            "Perhitungan dan aritmatika harus dikuasai sebelum menguasai AI dan Data Science\n",
            "\n",
            "\n",
            "Saya adalah setelah fungsi aslinya\n",
            "-_-\n"
          ]
        }
      ]
    },
    {
      "cell_type": "code",
      "source": [
        "@dekoratorku\n",
        "def hitung():\n",
        "  print('Perhitungan dan aritmatika harus dikuasai sebelum menguasai AI dan Data Science')\n",
        "\n",
        "@dekoratorku\n",
        "def salam():\n",
        "  print('Assalamu\\'alaikum')"
      ],
      "metadata": {
        "id": "735Z8RsZ_kEi"
      },
      "execution_count": 72,
      "outputs": []
    },
    {
      "cell_type": "code",
      "source": [
        "salam()"
      ],
      "metadata": {
        "colab": {
          "base_uri": "https://localhost:8080/"
        },
        "id": "yBJvvci4_pqO",
        "outputId": "0ba1be5a-d32b-417c-87a4-0ea6a4cbb8b5"
      },
      "execution_count": 73,
      "outputs": [
        {
          "output_type": "stream",
          "name": "stdout",
          "text": [
            "Saya adalah perintah sebelum perintah fungsi aslinya\n",
            "\n",
            "\n",
            "Assalamu'alaikum\n",
            "\n",
            "\n",
            "Saya adalah setelah fungsi aslinya\n",
            "-_-\n"
          ]
        }
      ]
    },
    {
      "cell_type": "code",
      "source": [
        "hitung()"
      ],
      "metadata": {
        "colab": {
          "base_uri": "https://localhost:8080/"
        },
        "id": "z87cUEQ4_qqj",
        "outputId": "ed4450fc-bade-4452-84f8-ff5b22cd2929"
      },
      "execution_count": 74,
      "outputs": [
        {
          "output_type": "stream",
          "name": "stdout",
          "text": [
            "Saya adalah perintah sebelum perintah fungsi aslinya\n",
            "\n",
            "\n",
            "Perhitungan dan aritmatika harus dikuasai sebelum menguasai AI dan Data Science\n",
            "\n",
            "\n",
            "Saya adalah setelah fungsi aslinya\n",
            "-_-\n"
          ]
        }
      ]
    },
    {
      "cell_type": "markdown",
      "source": [
        "# Kapan decorator digunakan?"
      ],
      "metadata": {
        "id": "dvQYvt4X_ucZ"
      }
    },
    {
      "cell_type": "code",
      "source": [
        "# Flask\n",
        "# Django"
      ],
      "metadata": {
        "id": "lFnnwvW3_yrU"
      },
      "execution_count": null,
      "outputs": []
    },
    {
      "cell_type": "code",
      "source": [
        "# Contoh penggunaan decorator di website\n",
        "pengguna1 = {'nama': 'Idar',\n",
        "            'valid':True}"
      ],
      "metadata": {
        "id": "NBWOPrOd_9lZ"
      },
      "execution_count": 75,
      "outputs": []
    },
    {
      "cell_type": "code",
      "source": [
        "def otentifiasi(fungsi):\n",
        "  def wrap_func(*args, **kwargs):\n",
        "    if args[0]['valid']:\n",
        "      return fungsi(*args, **kwargs)\n",
        "  return wrap_func"
      ],
      "metadata": {
        "id": "JEYURCWzASnH"
      },
      "execution_count": 76,
      "outputs": []
    },
    {
      "cell_type": "code",
      "source": [
        "@otentifiasi\n",
        "def kirim_pesan(user):\n",
        "  print('Pesan telah berhasil dikirim')"
      ],
      "metadata": {
        "id": "3FdD8YGSAsvd"
      },
      "execution_count": 77,
      "outputs": []
    },
    {
      "cell_type": "code",
      "source": [
        "kirim_pesan(pengguna1)"
      ],
      "metadata": {
        "colab": {
          "base_uri": "https://localhost:8080/"
        },
        "id": "-gZOsz7GA081",
        "outputId": "b1568f27-ae43-4bca-c044-6692f0cd71d0"
      },
      "execution_count": 78,
      "outputs": [
        {
          "output_type": "stream",
          "name": "stdout",
          "text": [
            "Pesan telah berhasil dikirim\n"
          ]
        }
      ]
    },
    {
      "cell_type": "code",
      "source": [],
      "metadata": {
        "id": "iRIkk4vwA5R_"
      },
      "execution_count": null,
      "outputs": []
    }
  ]
}